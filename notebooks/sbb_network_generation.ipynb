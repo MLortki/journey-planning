{
 "cells": [
  {
   "cell_type": "markdown",
   "metadata": {},
   "source": [
    "# SBB Network Generation\n",
    "\n",
    "In this notebook we will be constructing graph <b>G</b> to model sbb network. For that we will be using first of all <b>current_next</b> dataframe described in data_preprocessing section as well as <b>filtered_stops</b> also descrived in data_preprocessing section.\n",
    "\n",
    "To denote each stop/station we create <b>StationNode</b> datastructure, that has attributes such as station_id, departures, arrivals and walkable stations. Furthermore we define some helper functions of the StationNode to help us operate with it:\n",
    "\n",
    "- station_id: id of station that the StatioNode corresponds to\n",
    "- departures: dictionary of { departure_time: [(next_station_id, next_station_arrival, trip_id), ...], ... }\n",
    "- arrivals: dictionary of { arrival_time: [(previous_station_id, prev_station_departure_time, trip_id), ...], ... }  \n",
    "- walkable_stations (stations within 500m distance): dictionary of {next_stop_id: walk_duration_second, ...} \n",
    "\n",
    "\n",
    "In order to generate network we start with the Zurich main station (add it in <b>G</b>) and using <b>current_next</b> add all the stations accessible from Zurich with its times and trip_ids to the departures of Zurich main station node. Furthermore we also create a node for each new station discovered (add them in <b>G</b>) and add arrivals from Zurich to them. We also calculate nodes that are within 500m distance from Zurich and add them in walkable_stations dictionary and create new Nodes for them as well (deatails of datastructures of each attribute is described above). Once Zurich is fully processed we continue with other newly discovered nodes, processing each and every node exactly once and performing the same procedure as described for the Zurich main station.\n",
    "\n",
    "Finally, <b>G</b> Looks like this:\n",
    "\n",
    "<b>G</b> = { \n",
    "\n",
    "      stop_id1: StationNode1,\n",
    "      stop_id2: StationNode2,\n",
    "      ...\n",
    "      \n",
    "    }\n",
    "\n",
    "For all stations accessible from Zurich HB within 15km radius. Final <b>G</b> is saved as '/user/lortkipa/graph_untested_classTuples.pkl' ready for route planning algorithm.\n",
    "\n",
    "\n",
    "At the end of the notebook is a validation section. In order to test that graph is generated correctly, we consider a ground truth routes and make sure our SBB connections graph contains all the needed connections to end up with this ground truth route. The graphs passed all the tests and well documented details are given in sbb_network_generation.ipynb notebook."
   ]
  },
  {
   "cell_type": "markdown",
   "metadata": {},
   "source": [
    "Table of content for this notebook:\n",
    "\n",
    "0. Helper Functions\n",
    "1. Global Parameters\n",
    "2. Graph Generation\n",
    "3. Validation"
   ]
  },
  {
   "cell_type": "code",
   "execution_count": 1,
   "metadata": {},
   "outputs": [
    {
     "data": {
      "text/html": [
       "Current session configs: <tt>{'conf': {'spark.app.name': 'my-awesome-group_final', 'spark.driver.memory': '5g'}, 'kind': 'pyspark'}</tt><br>"
      ],
      "text/plain": [
       "<IPython.core.display.HTML object>"
      ]
     },
     "metadata": {},
     "output_type": "display_data"
    },
    {
     "data": {
      "text/html": [
       "<table>\n",
       "<tr><th>ID</th><th>YARN Application ID</th><th>Kind</th><th>State</th><th>Spark UI</th><th>Driver log</th><th>Current session?</th></tr><tr><td>8387</td><td>application_1589299642358_2919</td><td>pyspark</td><td>idle</td><td><a target=\"_blank\" href=\"http://iccluster044.iccluster.epfl.ch:8088/proxy/application_1589299642358_2919/\">Link</a></td><td><a target=\"_blank\" href=\"http://iccluster066.iccluster.epfl.ch:8042/node/containerlogs/container_e06_1589299642358_2919_01_000001/ebouille\">Link</a></td><td></td></tr><tr><td>8393</td><td>application_1589299642358_2925</td><td>pyspark</td><td>idle</td><td><a target=\"_blank\" href=\"http://iccluster044.iccluster.epfl.ch:8088/proxy/application_1589299642358_2925/\">Link</a></td><td><a target=\"_blank\" href=\"http://iccluster068.iccluster.epfl.ch:8042/node/containerlogs/container_e06_1589299642358_2925_01_000001/ebouille\">Link</a></td><td></td></tr><tr><td>8403</td><td>application_1589299642358_2935</td><td>pyspark</td><td>idle</td><td><a target=\"_blank\" href=\"http://iccluster044.iccluster.epfl.ch:8088/proxy/application_1589299642358_2935/\">Link</a></td><td><a target=\"_blank\" href=\"http://iccluster066.iccluster.epfl.ch:8042/node/containerlogs/container_e06_1589299642358_2935_01_000001/ebouille\">Link</a></td><td></td></tr><tr><td>8409</td><td>application_1589299642358_2941</td><td>pyspark</td><td>busy</td><td><a target=\"_blank\" href=\"http://iccluster044.iccluster.epfl.ch:8088/proxy/application_1589299642358_2941/\">Link</a></td><td><a target=\"_blank\" href=\"http://iccluster065.iccluster.epfl.ch:8042/node/containerlogs/container_e06_1589299642358_2941_01_000001/ebouille\">Link</a></td><td></td></tr><tr><td>8412</td><td>application_1589299642358_2944</td><td>pyspark</td><td>idle</td><td><a target=\"_blank\" href=\"http://iccluster044.iccluster.epfl.ch:8088/proxy/application_1589299642358_2944/\">Link</a></td><td><a target=\"_blank\" href=\"http://iccluster070.iccluster.epfl.ch:8042/node/containerlogs/container_e06_1589299642358_2944_01_000001/ebouille\">Link</a></td><td></td></tr><tr><td>8414</td><td>application_1589299642358_2946</td><td>pyspark</td><td>idle</td><td><a target=\"_blank\" href=\"http://iccluster044.iccluster.epfl.ch:8088/proxy/application_1589299642358_2946/\">Link</a></td><td><a target=\"_blank\" href=\"http://iccluster066.iccluster.epfl.ch:8042/node/containerlogs/container_e06_1589299642358_2946_01_000001/ebouille\">Link</a></td><td></td></tr><tr><td>8417</td><td>application_1589299642358_2949</td><td>pyspark</td><td>idle</td><td><a target=\"_blank\" href=\"http://iccluster044.iccluster.epfl.ch:8088/proxy/application_1589299642358_2949/\">Link</a></td><td><a target=\"_blank\" href=\"http://iccluster070.iccluster.epfl.ch:8042/node/containerlogs/container_e06_1589299642358_2949_01_000001/ebouille\">Link</a></td><td></td></tr><tr><td>8418</td><td>application_1589299642358_2950</td><td>pyspark</td><td>idle</td><td><a target=\"_blank\" href=\"http://iccluster044.iccluster.epfl.ch:8088/proxy/application_1589299642358_2950/\">Link</a></td><td><a target=\"_blank\" href=\"http://iccluster068.iccluster.epfl.ch:8042/node/containerlogs/container_e06_1589299642358_2950_01_000001/ebouille\">Link</a></td><td></td></tr><tr><td>8419</td><td>application_1589299642358_2951</td><td>pyspark</td><td>idle</td><td><a target=\"_blank\" href=\"http://iccluster044.iccluster.epfl.ch:8088/proxy/application_1589299642358_2951/\">Link</a></td><td><a target=\"_blank\" href=\"http://iccluster069.iccluster.epfl.ch:8042/node/containerlogs/container_e06_1589299642358_2951_01_000001/ebouille\">Link</a></td><td></td></tr><tr><td>8420</td><td>application_1589299642358_2952</td><td>pyspark</td><td>busy</td><td><a target=\"_blank\" href=\"http://iccluster044.iccluster.epfl.ch:8088/proxy/application_1589299642358_2952/\">Link</a></td><td><a target=\"_blank\" href=\"http://iccluster070.iccluster.epfl.ch:8042/node/containerlogs/container_e06_1589299642358_2952_01_000001/ebouille\">Link</a></td><td></td></tr><tr><td>8422</td><td>application_1589299642358_2954</td><td>pyspark</td><td>idle</td><td><a target=\"_blank\" href=\"http://iccluster044.iccluster.epfl.ch:8088/proxy/application_1589299642358_2954/\">Link</a></td><td><a target=\"_blank\" href=\"http://iccluster065.iccluster.epfl.ch:8042/node/containerlogs/container_e06_1589299642358_2954_01_000001/ebouille\">Link</a></td><td></td></tr><tr><td>8423</td><td>application_1589299642358_2955</td><td>pyspark</td><td>idle</td><td><a target=\"_blank\" href=\"http://iccluster044.iccluster.epfl.ch:8088/proxy/application_1589299642358_2955/\">Link</a></td><td><a target=\"_blank\" href=\"http://iccluster068.iccluster.epfl.ch:8042/node/containerlogs/container_e06_1589299642358_2955_01_000001/ebouille\">Link</a></td><td></td></tr><tr><td>8424</td><td>application_1589299642358_2956</td><td>pyspark</td><td>idle</td><td><a target=\"_blank\" href=\"http://iccluster044.iccluster.epfl.ch:8088/proxy/application_1589299642358_2956/\">Link</a></td><td><a target=\"_blank\" href=\"http://iccluster071.iccluster.epfl.ch:8042/node/containerlogs/container_e06_1589299642358_2956_01_000001/ebouille\">Link</a></td><td></td></tr><tr><td>8425</td><td>application_1589299642358_2957</td><td>pyspark</td><td>idle</td><td><a target=\"_blank\" href=\"http://iccluster044.iccluster.epfl.ch:8088/proxy/application_1589299642358_2957/\">Link</a></td><td><a target=\"_blank\" href=\"http://iccluster072.iccluster.epfl.ch:8042/node/containerlogs/container_e06_1589299642358_2957_01_000001/ebouille\">Link</a></td><td></td></tr><tr><td>8426</td><td>application_1589299642358_2958</td><td>pyspark</td><td>idle</td><td><a target=\"_blank\" href=\"http://iccluster044.iccluster.epfl.ch:8088/proxy/application_1589299642358_2958/\">Link</a></td><td><a target=\"_blank\" href=\"http://iccluster069.iccluster.epfl.ch:8042/node/containerlogs/container_e06_1589299642358_2958_01_000001/ebouille\">Link</a></td><td></td></tr><tr><td>8428</td><td>application_1589299642358_2960</td><td>pyspark</td><td>idle</td><td><a target=\"_blank\" href=\"http://iccluster044.iccluster.epfl.ch:8088/proxy/application_1589299642358_2960/\">Link</a></td><td><a target=\"_blank\" href=\"http://iccluster072.iccluster.epfl.ch:8042/node/containerlogs/container_e06_1589299642358_2960_01_000001/ebouille\">Link</a></td><td></td></tr><tr><td>8429</td><td>application_1589299642358_2961</td><td>pyspark</td><td>busy</td><td><a target=\"_blank\" href=\"http://iccluster044.iccluster.epfl.ch:8088/proxy/application_1589299642358_2961/\">Link</a></td><td><a target=\"_blank\" href=\"http://iccluster071.iccluster.epfl.ch:8042/node/containerlogs/container_e06_1589299642358_2961_01_000001/ebouille\">Link</a></td><td></td></tr><tr><td>8431</td><td>application_1589299642358_2963</td><td>pyspark</td><td>busy</td><td><a target=\"_blank\" href=\"http://iccluster044.iccluster.epfl.ch:8088/proxy/application_1589299642358_2963/\">Link</a></td><td><a target=\"_blank\" href=\"http://iccluster066.iccluster.epfl.ch:8042/node/containerlogs/container_e06_1589299642358_2963_01_000001/ebouille\">Link</a></td><td></td></tr><tr><td>8432</td><td>application_1589299642358_2964</td><td>pyspark</td><td>busy</td><td><a target=\"_blank\" href=\"http://iccluster044.iccluster.epfl.ch:8088/proxy/application_1589299642358_2964/\">Link</a></td><td><a target=\"_blank\" href=\"http://iccluster065.iccluster.epfl.ch:8042/node/containerlogs/container_e06_1589299642358_2964_01_000001/ebouille\">Link</a></td><td></td></tr><tr><td>8433</td><td>application_1589299642358_2965</td><td>pyspark</td><td>idle</td><td><a target=\"_blank\" href=\"http://iccluster044.iccluster.epfl.ch:8088/proxy/application_1589299642358_2965/\">Link</a></td><td><a target=\"_blank\" href=\"http://iccluster071.iccluster.epfl.ch:8042/node/containerlogs/container_e06_1589299642358_2965_01_000001/ebouille\">Link</a></td><td></td></tr><tr><td>8434</td><td>application_1589299642358_2966</td><td>pyspark</td><td>busy</td><td><a target=\"_blank\" href=\"http://iccluster044.iccluster.epfl.ch:8088/proxy/application_1589299642358_2966/\">Link</a></td><td><a target=\"_blank\" href=\"http://iccluster071.iccluster.epfl.ch:8042/node/containerlogs/container_e06_1589299642358_2966_01_000001/ebouille\">Link</a></td><td></td></tr><tr><td>8435</td><td>application_1589299642358_2967</td><td>pyspark</td><td>idle</td><td><a target=\"_blank\" href=\"http://iccluster044.iccluster.epfl.ch:8088/proxy/application_1589299642358_2967/\">Link</a></td><td><a target=\"_blank\" href=\"http://iccluster069.iccluster.epfl.ch:8042/node/containerlogs/container_e06_1589299642358_2967_01_000001/ebouille\">Link</a></td><td></td></tr><tr><td>8436</td><td>application_1589299642358_2968</td><td>pyspark</td><td>starting</td><td></td><td></td><td></td></tr></table>"
      ],
      "text/plain": [
       "<IPython.core.display.HTML object>"
      ]
     },
     "metadata": {},
     "output_type": "display_data"
    }
   ],
   "source": [
    "%%configure\n",
    "{\"conf\": {\n",
    "    \"spark.app.name\": \"my-awesome-group_final\",\n",
    "    \"spark.driver.memory\": \"5g\"\n",
    "}}"
   ]
  },
  {
   "cell_type": "code",
   "execution_count": 2,
   "metadata": {},
   "outputs": [
    {
     "name": "stdout",
     "output_type": "stream",
     "text": [
      "Starting Spark application\n"
     ]
    },
    {
     "data": {
      "text/html": [
       "<table>\n",
       "<tr><th>ID</th><th>YARN Application ID</th><th>Kind</th><th>State</th><th>Spark UI</th><th>Driver log</th><th>Current session?</th></tr><tr><td>8437</td><td>application_1589299642358_2969</td><td>pyspark</td><td>idle</td><td><a target=\"_blank\" href=\"http://iccluster044.iccluster.epfl.ch:8088/proxy/application_1589299642358_2969/\">Link</a></td><td><a target=\"_blank\" href=\"http://iccluster068.iccluster.epfl.ch:8042/node/containerlogs/container_e06_1589299642358_2969_01_000001/ebouille\">Link</a></td><td>✔</td></tr></table>"
      ],
      "text/plain": [
       "<IPython.core.display.HTML object>"
      ]
     },
     "metadata": {},
     "output_type": "display_data"
    },
    {
     "data": {
      "application/vnd.jupyter.widget-view+json": {
       "model_id": "",
       "version_major": 2,
       "version_minor": 0
      },
      "text/plain": [
       "FloatProgress(value=0.0, bar_style='info', description='Progress:', layout=Layout(height='25px', width='50%'),…"
      ]
     },
     "metadata": {},
     "output_type": "display_data"
    },
    {
     "name": "stdout",
     "output_type": "stream",
     "text": [
      "SparkSession available as 'spark'.\n"
     ]
    },
    {
     "data": {
      "application/vnd.jupyter.widget-view+json": {
       "model_id": "",
       "version_major": 2,
       "version_minor": 0
      },
      "text/plain": [
       "FloatProgress(value=0.0, bar_style='info', description='Progress:', layout=Layout(height='25px', width='50%'),…"
      ]
     },
     "metadata": {},
     "output_type": "display_data"
    },
    {
     "name": "stdout",
     "output_type": "stream",
     "text": [
      "<pyspark.sql.session.SparkSession object at 0x7f95dcc19690>"
     ]
    }
   ],
   "source": [
    "# Initialization\n",
    "spark"
   ]
  },
  {
   "cell_type": "markdown",
   "metadata": {},
   "source": [
    "# 0. Imports/ Helper Functions "
   ]
  },
  {
   "cell_type": "code",
   "execution_count": 3,
   "metadata": {},
   "outputs": [
    {
     "data": {
      "application/vnd.jupyter.widget-view+json": {
       "model_id": "",
       "version_major": 2,
       "version_minor": 0
      },
      "text/plain": [
       "FloatProgress(value=0.0, bar_style='info', description='Progress:', layout=Layout(height='25px', width='50%'),…"
      ]
     },
     "metadata": {},
     "output_type": "display_data"
    }
   ],
   "source": [
    "import pandas as pd \n",
    "from math import sin, cos, sqrt, atan2, radians\n",
    "from geopy import distance as dist\n",
    "from pyspark.sql.functions import col\n",
    "from heapq import *"
   ]
  },
  {
   "cell_type": "code",
   "execution_count": 4,
   "metadata": {},
   "outputs": [
    {
     "data": {
      "application/vnd.jupyter.widget-view+json": {
       "model_id": "",
       "version_major": 2,
       "version_minor": 0
      },
      "text/plain": [
       "FloatProgress(value=0.0, bar_style='info', description='Progress:', layout=Layout(height='25px', width='50%'),…"
      ]
     },
     "metadata": {},
     "output_type": "display_data"
    }
   ],
   "source": [
    "# cell to communicate with hdfs\n",
    "import subprocess, pickle\n",
    "\n",
    "def run_cmd(args_list):\n",
    "    \"\"\"Run linux commands.\"\"\"\n",
    "    print('Running system command: {0}'.format(' '.join(args_list)))    \n",
    "    proc = subprocess.Popen(args_list,                            \n",
    "                            stdout=subprocess.PIPE,                            \n",
    "                            stderr=subprocess.PIPE)    \n",
    "    s_output, s_err = proc.communicate()    \n",
    "    s_return =  proc.returncode\n",
    "    return s_return, s_output, s_err\n",
    "\n",
    "\n",
    "def save_hdfs(localPath, hdfsPath):\n",
    "    \n",
    "    (ret, out, err)= run_cmd(['hdfs','dfs','-put','-f', localPath, hdfsPath])\n",
    "    if err:\n",
    "        print(err)\n",
    "    else:\n",
    "        print('Success')\n",
    "        \n",
    "def read_hdfs(hdfsPath):\n",
    "    \n",
    "    (ret, out, err)= run_cmd(['hdfs','dfs','-cat', hdfsPath])\n",
    "    if err:\n",
    "        print(err)\n",
    "    else:\n",
    "        print('Success')\n",
    "    return pickle.loads(out)"
   ]
  },
  {
   "cell_type": "markdown",
   "metadata": {},
   "source": [
    "# 1. Global Parameters"
   ]
  },
  {
   "cell_type": "markdown",
   "metadata": {},
   "source": [
    "In this notebook we will be constructing graph <b>G</b> to model sbb network. For that we will be using first of all <b>current_next</b> dataframe described in data_preprocessing section as well as <b>filtered_stops</b> also descrived in data_preprocessing section."
   ]
  },
  {
   "cell_type": "code",
   "execution_count": 6,
   "metadata": {},
   "outputs": [
    {
     "data": {
      "application/vnd.jupyter.widget-view+json": {
       "model_id": "",
       "version_major": 2,
       "version_minor": 0
      },
      "text/plain": [
       "FloatProgress(value=0.0, bar_style='info', description='Progress:', layout=Layout(height='25px', width='50%'),…"
      ]
     },
     "metadata": {},
     "output_type": "display_data"
    },
    {
     "name": "stdout",
     "output_type": "stream",
     "text": [
      "331639\n",
      "[Row(trip_id=u'1356.TA.26-31-j19-1.12.R', arrival_time=u'16:21:00', departure_time=u'16:21:00', stop_id=u'8591186', stop_sequence=1, pickup_type=u'0', drop_off_type=u'0', trip_id_2=u'1356.TA.26-31-j19-1.12.R', arrival_time_2=u'16:22:00', departure_time_2=u'16:22:00', stop_id_2=u'8591334', stop_sequence_2=2, stop_sequence_adjusted=1), Row(trip_id=u'1356.TA.26-31-j19-1.12.R', arrival_time=u'16:22:00', departure_time=u'16:22:00', stop_id=u'8591334', stop_sequence=2, pickup_type=u'0', drop_off_type=u'0', trip_id_2=u'1356.TA.26-31-j19-1.12.R', arrival_time_2=u'16:23:00', departure_time_2=u'16:23:00', stop_id_2=u'8591253', stop_sequence_2=3, stop_sequence_adjusted=2)]\n",
      "root\n",
      " |-- trip_id: string (nullable = true)\n",
      " |-- arrival_time: string (nullable = true)\n",
      " |-- departure_time: string (nullable = true)\n",
      " |-- stop_id: string (nullable = true)\n",
      " |-- stop_sequence: integer (nullable = true)\n",
      " |-- pickup_type: string (nullable = true)\n",
      " |-- drop_off_type: string (nullable = true)\n",
      " |-- trip_id_2: string (nullable = true)\n",
      " |-- arrival_time_2: string (nullable = true)\n",
      " |-- departure_time_2: string (nullable = true)\n",
      " |-- stop_id_2: string (nullable = true)\n",
      " |-- stop_sequence_2: integer (nullable = true)\n",
      " |-- stop_sequence_adjusted: integer (nullable = true)"
     ]
    }
   ],
   "source": [
    "## Read Needed Files\n",
    "current_next = spark.read.parquet('hdfs:/user/lortkipa/current_next_6_22_Pcor.parquet')\n",
    "print(current_next.count())\n",
    "print(current_next.take(2))\n",
    "current_next.printSchema()"
   ]
  },
  {
   "cell_type": "code",
   "execution_count": 7,
   "metadata": {},
   "outputs": [
    {
     "data": {
      "application/vnd.jupyter.widget-view+json": {
       "model_id": "",
       "version_major": 2,
       "version_minor": 0
      },
      "text/plain": [
       "FloatProgress(value=0.0, bar_style='info', description='Progress:', layout=Layout(height='25px', width='50%'),…"
      ]
     },
     "metadata": {},
     "output_type": "display_data"
    },
    {
     "name": "stdout",
     "output_type": "stream",
     "text": [
      "1405"
     ]
    }
   ],
   "source": [
    "# get all the stop_ids\n",
    "all_stops = set(current_next.select('stop_id_2').distinct().rdd.flatMap(lambda x: x).collect())\n",
    "all_stops.update(current_next.select('stop_id').distinct().rdd.flatMap(lambda x: x).collect())\n",
    "len(all_stops)"
   ]
  },
  {
   "cell_type": "code",
   "execution_count": 8,
   "metadata": {},
   "outputs": [
    {
     "data": {
      "application/vnd.jupyter.widget-view+json": {
       "model_id": "",
       "version_major": 2,
       "version_minor": 0
      },
      "text/plain": [
       "FloatProgress(value=0.0, bar_style='info', description='Progress:', layout=Layout(height='25px', width='50%'),…"
      ]
     },
     "metadata": {},
     "output_type": "display_data"
    },
    {
     "name": "stdout",
     "output_type": "stream",
     "text": [
      "Running system command: hdfs dfs -cat /user/lortkipa/filtered_stops_Premoved.pkl\n",
      "Success\n",
      "1583\n",
      "    stop_id               stop_name  ... location_type parent_station\n",
      "10  8502508  Spreitenbach, Raiacker  ...          None           None\n",
      "14  8503078                Waldburg  ...          None           None\n",
      "15  8503088           Zürich HB SZU  ...          None       8503088P\n",
      "17  8503376    Ottikon b. Kemptthal  ...          None           None\n",
      "29  8506895          Lufingen, Dorf  ...          None           None\n",
      "51  8573729    Bonstetten, Isenbach  ...          None           None\n",
      "\n",
      "[6 rows x 6 columns]"
     ]
    }
   ],
   "source": [
    "# get stops file\n",
    "filtered_stops = read_hdfs('/user/lortkipa/filtered_stops_Premoved.pkl')\n",
    "print(len(filtered_stops))\n",
    "filtered_stops.head(6)"
   ]
  },
  {
   "cell_type": "markdown",
   "metadata": {},
   "source": [
    "# 2. Public Transport Model"
   ]
  },
  {
   "cell_type": "markdown",
   "metadata": {},
   "source": [
    "To denote each stop/station we create <b>StationNode</b> datastructure, that has attributes such as station_id, departures, arrivals and walkable stations. Furthermore we define some helper functions of the StationNode to help us operate with it:\n",
    "\n",
    "- station_id: id of station that the StatioNode corresponds to\n",
    "- departures: dictionary of { departure_time: [(next_station_id, next_station_arrival, trip_id), ...], ... }\n",
    "- arrivals: dictionary of { arrival_time: [(previous_station_id, prev_station_departure_time, trip_id), ...], ... }  \n",
    "- walkable_stations (stations within 500m distance): dictionary of {next_stop_id: walk_duration_second, ...} \n",
    "\n",
    "\n",
    "In order to generate network we start with the Zurich main station (add it in <b>G</b>) and using <b>current_next</b> add all the stations accessible from Zurich with its times and trip_ids to the departures of Zurich main station node. Furthermore we also create a node for each new station discovered (add them in <b>G</b>) and add arrivals from Zurich to them. We also calculate nodes that are within 500m distance from Zurich and add them in walkable_stations dictionary and create new Nodes for them as well (deatails of datastructures of each attribute is described above). Once Zurich is fully processed we continue with other newly discovered nodes, processing each and every node exactly once and performing the same procedure as described for the Zurich main station.\n",
    "\n",
    "Finally, <b>G</b> Looks like this:\n",
    "\n",
    "<b>G</b> = { \n",
    "\n",
    "      stop_id1: StationNode1,\n",
    "      stop_id2: StationNode2,\n",
    "      ...\n",
    "      \n",
    "    }\n",
    "\n",
    "For all stations accessible from Zurich HB within 15km radius. Final <b>G</b> is saved as '/user/lortkipa/graph_untested_classTuples.pkl' ready for route planning algorithm."
   ]
  },
  {
   "cell_type": "code",
   "execution_count": 9,
   "metadata": {},
   "outputs": [
    {
     "data": {
      "application/vnd.jupyter.widget-view+json": {
       "model_id": "",
       "version_major": 2,
       "version_minor": 0
      },
      "text/plain": [
       "FloatProgress(value=0.0, bar_style='info', description='Progress:', layout=Layout(height='25px', width='50%'),…"
      ]
     },
     "metadata": {},
     "output_type": "display_data"
    }
   ],
   "source": [
    "class StationNode:\n",
    "    \"\"\"\n",
    "    Class for station node, that will keep a list of arrival/departures given by trips as well\n",
    "    as walking distances\n",
    "    \"\"\"\n",
    "    \n",
    "    def __init__(self, station_id):\n",
    "    \n",
    "        self.station_id = station_id\n",
    "        self.departures = dict()\n",
    "        self.arrivals = dict()  \n",
    "        self.walkable_stations = dict()\n",
    " \n",
    "    def add_walkable_station(self, stop_id, duration):\n",
    "        \"\"\"\n",
    "        Add walkable station and duration to get there\n",
    "        \"\"\"\n",
    "        if stop_id not in self.walkable_stations:\n",
    "            self.walkable_stations[stop_id] = duration\n",
    "\n",
    "    def add_arrival(self, time, arrival):\n",
    "        \"\"\"\n",
    "        Arrivals are in the form of\n",
    "        \"\"\"\n",
    "        if time not in self.arrivals:\n",
    "            self.arrivals[time] = []\n",
    "            \n",
    "        self.arrivals[time].append(arrival)\n",
    "        \n",
    "    def add_departure(self, time, departure):\n",
    "        \"\"\"\n",
    "        Departure are in the form of\n",
    "        \"\"\"\n",
    "        if time not in self.departures:\n",
    "            self.departures[time] = []\n",
    "            \n",
    "        self.departures[time].append(departure)\n",
    "        \n",
    "    def to_tuple(self):\n",
    "        \"\"\"\n",
    "        Convert class object to tuple\n",
    "        \"\"\"\n",
    "        return (self.station_id, self.departures, self.arrivals, self.walkable_stations)\n",
    "    \n",
    "    def from_tuple(self, class_tuple):\n",
    "        \"\"\"\n",
    "        Read class fields from tuple\n",
    "        \"\"\"\n",
    "        self.station_id = class_tuple[0]\n",
    "        self.departures = class_tuple[1]\n",
    "        self.arrivals = class_tuple[2]\n",
    "        self.walkable_stations = class_tuple[3]\n",
    "        \n",
    "        return self\n",
    "        \n",
    "def dictnodes_tolist(station_nodes):\n",
    "    \"\"\"\n",
    "    Convert dictionary of StationNodes to list of node tuples\n",
    "    \"\"\"\n",
    "    tolist = []\n",
    "    for stop_id in station_nodes:\n",
    "        try:\n",
    "            tolist.append(station_nodes[stop_id].to_tuple())\n",
    "        except:\n",
    "            raise Exception(stop_id)\n",
    "        \n",
    "    return tolist\n",
    "        \n",
    "def list_todictnodes(fromlist):\n",
    "    \"\"\"\n",
    "    Convert list of node tuples into dictionary of StationNodes\n",
    "    \"\"\"\n",
    "    todict = dict()\n",
    "    for node_tuple in fromlist:\n",
    "        todict[node_tuple[0]] = StationNode(node_tuple[0]).from_tuple(node_tuple)\n",
    "        \n",
    "    return todict"
   ]
  },
  {
   "cell_type": "code",
   "execution_count": 12,
   "metadata": {},
   "outputs": [
    {
     "data": {
      "application/vnd.jupyter.widget-view+json": {
       "model_id": "",
       "version_major": 2,
       "version_minor": 0
      },
      "text/plain": [
       "FloatProgress(value=0.0, bar_style='info', description='Progress:', layout=Layout(height='25px', width='50%'),…"
      ]
     },
     "metadata": {},
     "output_type": "display_data"
    }
   ],
   "source": [
    "test = [dictnodes_tolist({'a':StationNode('a')}), dictnodes_tolist({'b':StationNode('b')})]"
   ]
  },
  {
   "cell_type": "code",
   "execution_count": 13,
   "metadata": {},
   "outputs": [
    {
     "data": {
      "application/vnd.jupyter.widget-view+json": {
       "model_id": "",
       "version_major": 2,
       "version_minor": 0
      },
      "text/plain": [
       "FloatProgress(value=0.0, bar_style='info', description='Progress:', layout=Layout(height='25px', width='50%'),…"
      ]
     },
     "metadata": {},
     "output_type": "display_data"
    },
    {
     "name": "stdout",
     "output_type": "stream",
     "text": [
      "root\n",
      " |-- trip_id: string (nullable = true)\n",
      " |-- arrival_time: string (nullable = true)\n",
      " |-- departure_time: string (nullable = true)\n",
      " |-- stop_id: string (nullable = true)\n",
      " |-- stop_sequence: integer (nullable = true)\n",
      " |-- pickup_type: string (nullable = true)\n",
      " |-- drop_off_type: string (nullable = true)\n",
      " |-- trip_id_2: string (nullable = true)\n",
      " |-- arrival_time_2: string (nullable = true)\n",
      " |-- departure_time_2: string (nullable = true)\n",
      " |-- stop_id_2: string (nullable = true)\n",
      " |-- stop_sequence_2: integer (nullable = true)\n",
      " |-- stop_sequence_adjusted: integer (nullable = true)"
     ]
    }
   ],
   "source": [
    "current_next.printSchema()"
   ]
  },
  {
   "cell_type": "code",
   "execution_count": 14,
   "metadata": {},
   "outputs": [
    {
     "data": {
      "application/vnd.jupyter.widget-view+json": {
       "model_id": "",
       "version_major": 2,
       "version_minor": 0
      },
      "text/plain": [
       "FloatProgress(value=0.0, bar_style='info', description='Progress:', layout=Layout(height='25px', width='50%'),…"
      ]
     },
     "metadata": {},
     "output_type": "display_data"
    },
    {
     "name": "stdout",
     "output_type": "stream",
     "text": [
      "{1: [2]}"
     ]
    }
   ],
   "source": [
    "# test the class\n",
    "s = StationNode('123')\n",
    "s.add_arrival(1, 2)\n",
    "s.add_departure(2, 3)\n",
    "s.arrivals"
   ]
  },
  {
   "cell_type": "code",
   "execution_count": null,
   "metadata": {},
   "outputs": [],
   "source": [
    "def compute_walkable_stations(curr_stop_id, stops=filtered_stops, max_walk_dist=500):\n",
    "    \"\"\"\n",
    "    Given current stop location (lat, lon) returns stations that are max 500m away\n",
    "    \"\"\"\n",
    "    \n",
    "    current_coord  = filtered_stops[filtered_stops['stop_id'] == curr_stop_id][[\n",
    "        'stop_lat', 'stop_lon']].values[0]\n",
    "    \n",
    "    df_stops = filtered_stops[['stop_id', 'stop_lat', 'stop_lon']]\n",
    "    df_stops['distance'] = df_stops.apply(lambda x: dist.distance(\n",
    "                   (float(current_coord[0]), \n",
    "                   float(current_coord[1])),\n",
    "                   (float(x['stop_lat']), \n",
    "                   float(x['stop_lon']))).km, axis=1)\n",
    "\n",
    "    return df_stops[df_stops.apply(lambda x: x['distance'] <= 0.5, axis=1)]\n",
    "\n",
    "compute_walkable_stations(u'8503000')"
   ]
  },
  {
   "cell_type": "code",
   "execution_count": 16,
   "metadata": {},
   "outputs": [
    {
     "data": {
      "application/vnd.jupyter.widget-view+json": {
       "model_id": "",
       "version_major": 2,
       "version_minor": 0
      },
      "text/plain": [
       "FloatProgress(value=0.0, bar_style='info', description='Progress:', layout=Layout(height='25px', width='50%'),…"
      ]
     },
     "metadata": {},
     "output_type": "display_data"
    },
    {
     "name": "stdout",
     "output_type": "stream",
     "text": [
      "processing 1-th station\n",
      "processing 1001-th station\n",
      "1450\n",
      "1450\n",
      "After function\n",
      "1450\n",
      "1450"
     ]
    }
   ],
   "source": [
    "def construct_network(start_station, current_next, max_walk_dist=500, asClass=True):\n",
    "    \"\"\"\n",
    "    This functions constructs a transport network starting from a given station, with given walking distance restrictions\n",
    "    and current_next dataframe\n",
    "    \"\"\"\n",
    "    \n",
    "    # list of stations to be processed\n",
    "    active_stations = [start_station]\n",
    "    # set of already processed/visited stations\n",
    "    visited_stations = set()\n",
    "    visited_stations.add(start_station)\n",
    "    \n",
    "    # final network presented as {stop_id: corresponding_node, ...}\n",
    "    station_nodes = dict()\n",
    "    ind=0\n",
    "    \n",
    "    while  True:\n",
    "        \n",
    "        if ind == len(active_stations):\n",
    "            break\n",
    "\n",
    "        if (ind % 1000 == 0):\n",
    "            print('processing %d-th station'%(ind+1))\n",
    "        \n",
    "        # read current stations and add it to the processed ones\n",
    "        current_station_id = active_stations[ind]\n",
    "        ind +=1\n",
    "        \n",
    "\n",
    "        # create a node corresponding to this station_id if it does not already exist\n",
    "        if current_station_id not in station_nodes:\n",
    "            if asClass:\n",
    "                station_nodes[current_station_id] = StationNode(current_station_id)\n",
    "            else:\n",
    "                station_nodes[current_station_id] = (current_station_id, dict(), dict(), dict())\n",
    "\n",
    "        # select next stations of a current station\n",
    "        next_stations = current_next.where(col('stop_id') == current_station_id)   \n",
    "        \n",
    "        try:\n",
    "            if next_stations is not None and next_stations.count() > 0:\n",
    "                next_stations = next_stations.toPandas()\n",
    "            else:\n",
    "                continue\n",
    "        except:\n",
    "            print('oh no')\n",
    "            print(current_station_id, ind)\n",
    "            return 1,2\n",
    "       \n",
    "        #print(next_stations.count())\n",
    "        #with pd.option_context('display.max_columns', 10):\n",
    "            #print(next_stations.head())            \n",
    "\n",
    "        current_departure_times = next_stations[\"departure_time\"].values\n",
    "        next_station_ids = next_stations[\"stop_id_2\"].values\n",
    "        next_station_arrivals = next_stations[\"arrival_time_2\"].values\n",
    "        next_station_departures = next_stations[\"departure_time_2\"].values\n",
    "        trip_id = next_stations[\"trip_id\"].values\n",
    "        \n",
    "        \n",
    "        # go over the next stations defined by routes\n",
    "        for i in range(len(current_departure_times)):\n",
    "\n",
    "            # add new departure\n",
    "            if asClass:\n",
    "                station_nodes[current_station_id].add_departure(\n",
    "                    current_departure_times[i], (next_station_ids[i], next_station_arrivals[i], trip_id[i]))\n",
    "            else:\n",
    "                station_nodes[current_station_id][1][current_departure_times[i]] = (next_station_ids[i], \n",
    "                                                                                    next_station_arrivals[i], trip_id[i])\n",
    "\n",
    "            # add new arrival for the next station\n",
    "            if next_station_ids[i] not in station_nodes:\n",
    "                if asClass:\n",
    "                    station_nodes[next_station_ids[i]] = StationNode(next_station_ids[i])\n",
    "                else:\n",
    "                    station_nodes[next_station_ids[i]] = (next_station_ids[i], dict(), dict(), dict())\n",
    "              \n",
    "            if asClass:\n",
    "                station_nodes[next_station_ids[i]].add_arrival(\n",
    "                    next_station_arrivals[i], (current_station_id, current_departure_times[i], trip_id[i]))  \n",
    "            else:\n",
    "                station_nodes[next_station_ids[i]][2][next_station_arrivals[i]] = (current_station_id, \n",
    "                                                                                   current_departure_times[i], trip_id[i])\n",
    "            \n",
    "            # add next station to the list of future nodes if not already done\n",
    "            if next_station_ids[i] not in visited_stations:\n",
    "                active_stations.append(next_station_ids[i])\n",
    "                visited_stations.add(next_station_ids[i])\n",
    "    \n",
    "        \n",
    "        walkable_neighbours = compute_walkable_stations(current_station_id)\n",
    "        \n",
    "        for item, row in walkable_neighbours.iterrows():\n",
    "            \n",
    "            if row['stop_id'] not in visited_stations:\n",
    "                active_stations.append(row['stop_id'])\n",
    "                visited_stations.add(row['stop_id'])\n",
    "                \n",
    "            if row['stop_id'] not in station_nodes:\n",
    "                if asClass:\n",
    "                    station_nodes[row['stop_id']] = StationNode(row['stop_id'])\n",
    "                else:\n",
    "                    station_nodes[row['stop_id']] = (row['stop_id'], dict(), dict(), dict())\n",
    "            \n",
    "            # add new departure\n",
    "            if asClass:\n",
    "                station_nodes[current_station_id].add_walkable_station(row['stop_id'], row['distance'] * 60 * 20)\n",
    "            else:\n",
    "                station_nodes[current_station_id][3][row['stop_id']] = row['distance'] * 60 * 20\n",
    "            \n",
    "            # add new arrival\n",
    "            #station_nodes[row['stop_id']].add_walkable_station(current_station_id, row['distance'] * 60 * 20)\n",
    "            \n",
    "     \n",
    "    #print(ind)\n",
    "    print(len(active_stations))\n",
    "    print(len(visited_stations))\n",
    "    return station_nodes, visited_stations\n",
    "\n",
    "# start construnction network from zurich hb so that stations only accesible from there are contained\n",
    "graph, visited_stations = construct_network(u'8503000', current_next)\n",
    "print('After function')\n",
    "print(len(set(visited_stations)))\n",
    "print(len(graph))"
   ]
  },
  {
   "cell_type": "code",
   "execution_count": 17,
   "metadata": {},
   "outputs": [
    {
     "data": {
      "application/vnd.jupyter.widget-view+json": {
       "model_id": "",
       "version_major": 2,
       "version_minor": 0
      },
      "text/plain": [
       "FloatProgress(value=0.0, bar_style='info', description='Progress:', layout=Layout(height='25px', width='50%'),…"
      ]
     },
     "metadata": {},
     "output_type": "display_data"
    },
    {
     "name": "stdout",
     "output_type": "stream",
     "text": [
      "Running system command: hdfs dfs -put -f graph_untested_classTuples.pkl /user/lortkipa/\n",
      "Success"
     ]
    }
   ],
   "source": [
    "#created_network_save = graph\n",
    "with open('graph_untested_classTuples.pkl', 'wb') as handle:\n",
    "    pickle.dump(dictnodes_tolist(graph), handle, protocol=pickle.HIGHEST_PROTOCOL)\n",
    "# send to hdf\n",
    "save_hdfs('graph_untested_classTuples.pkl','/user/{}/'.format('lortkipa'))"
   ]
  },
  {
   "cell_type": "code",
   "execution_count": null,
   "metadata": {},
   "outputs": [],
   "source": [
    "print(len(graph))\n",
    "current_next.where(col('stop_id') == '8503000').select('stop_id_2').distinct().count()"
   ]
  },
  {
   "cell_type": "code",
   "execution_count": 20,
   "metadata": {
    "collapsed": true,
    "jupyter": {
     "outputs_hidden": true
    }
   },
   "outputs": [
    {
     "data": {
      "application/vnd.jupyter.widget-view+json": {
       "model_id": "",
       "version_major": 2,
       "version_minor": 0
      },
      "text/plain": [
       "FloatProgress(value=0.0, bar_style='info', description='Progress:', layout=Layout(height='25px', width='50%'),…"
      ]
     },
     "metadata": {},
     "output_type": "display_data"
    },
    {
     "name": "stdout",
     "output_type": "stream",
     "text": [
      "{u'20:27:00': [(u'8588553', u'20:26:00', u'92.TA.26-765-j19-1.1.R')], u'12:29:00': [(u'8573205', u'12:28:00', u'112.TA.26-734-j19-1.4.R')], u'08:47:00': [(u'8573205', u'08:46:00', u'94.TA.26-737-j19-1.2.R')], u'15:57:00': [(u'8588553', u'15:56:00', u'67.TA.79-736-j19-1.5.H')], u'14:28:00': [(u'8588553', u'14:27:00', u'4.TA.26-765-j19-1.1.R')], u'18:11:00': [(u'8588553', u'18:10:00', u'171.TA.26-733-j19-1.3.H')], u'11:42:00': [(u'8588553', u'11:41:00', u'83.TA.79-736-j19-1.5.H')], u'14:32:00': [(u'8573205', u'14:31:00', u'61.TA.26-737-j19-1.2.R')], u'15:46:00': [(u'8573205', u'15:46:00', u'229.TA.26-765-j19-1.2.H'), (u'8573205', u'15:45:00', u'32.TA.79-736-j19-1.2.R')], u'06:26:00': [(u'8588553', u'06:25:00', u'106.TA.26-731-j19-1.1.H'), (u'8588553', u'06:25:00', u'132.TA.26-733-j19-1.3.H')], u'14:46:00': [(u'8573205', u'14:46:00', u'246.TA.26-765-j19-1.2.H'), (u'8573205', u'14:45:00', u'34.TA.79-736-j19-1.2.R')], u'18:48:00': [(u'8573205', u'18:48:00', u'111.TA.26-733-j19-1.2.R')], u'12:59:00': [(u'8573205', u'12:58:00', u'111.TA.26-734-j19-1.4.R')], u'08:00:00': [(u'8573205', u'07:59:00', u'135.TA.26-734-j19-1.4.R'), (u'8588553', u'07:59:00', u'45.TA.26-765-j19-1.1.R')], u'09:40:00': [(u'8588553', u'09:39:00', u'23.TA.26-737-j19-1.1.H')], u'19:31:00': [(u'8573205', u'19:31:00', u'178.TA.26-765-j19-1.2.H'), (u'8573205', u'19:30:00', u'51.TA.79-736-j19-1.2.R')], u'14:27:00': [(u'8588553', u'14:26:00', u'74.TA.79-736-j19-1.5.H')], u'11:25:00': [(u'8588553', u'11:24:00', u'6.TA.26-737-j19-1.1.H')], u'08:16:00': [(u'8573205', u'08:16:00', u'236.TA.26-765-j19-1.2.H'), (u'8573205', u'08:15:00', u'47.TA.79-736-j19-1.2.R')], u'11:12:00': [(u'8588553', u'11:11:00', u'84.TA.79-736-j19-1.5.H')], u'06:28:00': [(u'8573205', u'06:28:00', u'258.TA.26-765-j19-1.2.H'), (u'8588553', u'06:27:00', u'61.TA.26-765-j19-1.1.R')], u'14:56:00': [(u'8588553', u'14:55:00', u'46.TA.26-731-j19-1.1.H'), (u'8588553', u'14:55:00', u'195.TA.26-733-j19-1.3.H')], u'12:33:00': [(u'8573205', u'12:33:00', u'119.TA.26-731-j19-1.3.R'), (u'8573205', u'12:33:00', u'57.TA.26-733-j19-1.2.R')], u'07:03:00': [(u'8573205', u'07:03:00', u'139.TA.26-731-j19-1.3.R'), (u'8573205', u'07:03:00', u'113.TA.26-733-j19-1.2.R')], u'10:13:00': [(u'8588553', u'10:12:00', u'33.TA.26-765-j19-1.1.R')], u'18:17:00': [(u'8573205', u'18:16:00', u'80.TA.26-737-j19-1.2.R')], u'14:12:00': [(u'8588553', u'14:11:00', u'73.TA.79-736-j19-1.5.H')], u'10:56:00': [(u'8588553', u'10:55:00', u'73.TA.26-731-j19-1.1.H'), (u'8588553', u'10:55:00', u'223.TA.26-733-j19-1.3.H')], u'19:46:00': [(u'8573205', u'19:46:00', u'235.TA.26-765-j19-1.2.H'), (u'8573205', u'19:45:00', u'24.TA.79-736-j19-1.2.R')], u'12:31:00': [(u'8573205', u'12:31:00', u'174.TA.26-765-j19-1.2.H'), (u'8573205', u'12:30:00', u'11.TA.79-736-j19-1.2.R')], u'12:26:00': [(u'8588553', u'12:25:00', u'60.TA.26-731-j19-1.1.H'), (u'8588553', u'12:25:00', u'213.TA.26-733-j19-1.3.H')], u'17:30:00': [(u'8573205', u'17:29:00', u'168.TA.26-734-j19-1.4.R'), (u'8588553', u'17:29:00', u'70.TA.26-734-j19-1.1.H'), (u'8588553', u'17:29:00', u'115.TA.26-765-j19-1.1.R')], u'18:15:00': [(u'8588553', u'18:14:00', u'107.TA.26-765-j19-1.1.R')], u'17:15:00': [(u'8588553', u'17:14:00', u'116.TA.26-765-j19-1.1.R')], u'17:01:00': [(u'8573205', u'17:00:00', u'2.TA.79-736-j19-1.2.R')], u'09:43:00': [(u'8588553', u'09:42:00', u'35.TA.26-765-j19-1.1.R')], u'19:12:00': [(u'8588553', u'19:11:00', u'110.TA.79-736-j19-1.5.H')], u'07:47:00': [(u'8573205', u'07:46:00', u'50.TA.26-737-j19-1.2.R')], u'12:10:00': [(u'8588553', u'12:09:00', u'2.TA.26-737-j19-1.1.H')], u'13:56:00': [(u'8588553', u'13:55:00', u'50.TA.26-731-j19-1.1.H'), (u'8588553', u'13:55:00', u'204.TA.26-733-j19-1.3.H')], u'20:57:00': [(u'8588553', u'20:56:00', u'91.TA.26-765-j19-1.1.R')], u'17:03:00': [(u'8573205', u'17:03:00', u'208.TA.26-731-j19-1.3.R'), (u'8573205', u'17:03:00', u'62.TA.26-733-j19-1.2.R')], u'10:16:00': [(u'8573205', u'10:16:00', u'218.TA.26-765-j19-1.2.H'), (u'8573205', u'10:15:00', u'43.TA.79-736-j19-1.2.R')], u'18:01:00': [(u'8573205', u'18:00:00', u'55.TA.79-736-j19-1.2.R')], u'07:41:00': [(u'8588553', u'07:40:00', u'241.TA.26-733-j19-1.3.H')], u'13:43:00': [(u'8588553', u'13:42:00', u'7.TA.26-765-j19-1.1.R')], u'17:45:00': [(u'8588553', u'17:44:00', u'114.TA.26-765-j19-1.1.R')], u'12:55:00': [(u'8588553', u'12:54:00', u'46.TA.26-737-j19-1.1.H')], u'09:12:00': [(u'8588553', u'09:11:00', u'91.TA.79-736-j19-1.5.H')], u'07:13:00': [(u'8573205', u'07:13:00', u'249.TA.26-765-j19-1.2.H')], u'11:27:00': [(u'8588553', u'11:26:00', u'88.TA.79-736-j19-1.5.H')], u'15:26:00': [(u'8588553', u'15:25:00', u'40.TA.26-731-j19-1.1.H'), (u'8588553', u'15:25:00', u'194.TA.26-733-j19-1.3.H')], u'07:31:00': [(u'8573205', u'07:30:00', u'21.TA.79-736-j19-1.2.R')], u'21:27:00': [(u'8588553', u'21:26:00', u'90.TA.26-765-j19-1.1.R')], u'12:57:00': [(u'8588553', u'12:56:00', u'81.TA.79-736-j19-1.5.H')], u'10:28:00': [(u'8588553', u'10:27:00', u'32.TA.26-765-j19-1.1.R')], u'16:42:00': [(u'8588553', u'16:41:00', u'65.TA.79-736-j19-1.5.H')], u'07:11:00': [(u'8588553', u'07:10:00', u'248.TA.26-733-j19-1.3.H')], u'13:01:00': [(u'8573205', u'13:01:00', u'274.TA.26-765-j19-1.2.H'), (u'8573205', u'13:00:00', u'10.TA.79-736-j19-1.2.R')], u'10:59:00': [(u'8573205', u'10:58:00', u'120.TA.26-734-j19-1.4.R')], u'11:33:00': [(u'8573205', u'11:33:00', u'123.TA.26-731-j19-1.3.R'), (u'8573205', u'11:33:00', u'64.TA.26-733-j19-1.2.R')], u'17:10:00': [(u'8588553', u'17:09:00', u'15.TA.26-737-j19-1.1.H')], u'13:12:00': [(u'8588553', u'13:11:00', u'77.TA.79-736-j19-1.5.H')], u'21:56:00': [(u'8588553', u'21:55:00', u'150.TA.26-733-j19-1.3.H')], u'14:03:00': [(u'8573205', u'14:03:00', u'225.TA.26-731-j19-1.3.R'), (u'8573205', u'14:03:00', u'45.TA.26-733-j19-1.2.R')], u'17:55:00': [(u'8588553', u'17:54:00', u'11.TA.26-737-j19-1.1.H')], u'06:47:00': [(u'8573205', u'06:46:00', u'55.TA.26-737-j19-1.2.R')], u'10:46:00': [(u'8573205', u'10:46:00', u'204.TA.26-765-j19-1.2.H'), (u'8573205', u'10:45:00', u'42.TA.79-736-j19-1.2.R')], u'13:03:00': [(u'8573205', u'13:03:00', u'232.TA.26-731-j19-1.3.R'), (u'8573205', u'13:03:00', u'52.TA.26-733-j19-1.2.R')], u'08:46:00': [(u'8573205', u'08:46:00', u'247.TA.26-765-j19-1.2.H'), (u'8573205', u'08:45:00', u'46.TA.79-736-j19-1.2.R')], u'19:59:00': [(u'8573205', u'19:58:00', u'151.TA.26-734-j19-1.4.R')], u'16:31:00': [(u'8573205', u'16:30:00', u'3.TA.79-736-j19-1.2.R')], u'14:33:00': [(u'8573205', u'14:33:00', u'224.TA.26-731-j19-1.3.R'), (u'8573205', u'14:33:00', u'40.TA.26-733-j19-1.2.R')], u'13:10:00': [(u'8588553', u'13:09:00', u'44.TA.26-737-j19-1.1.H')], u'19:13:00': [(u'8588553', u'19:12:00', u'103.TA.26-765-j19-1.1.R')], u'16:13:00': [(u'8588553', u'16:12:00', u'125.TA.26-765-j19-1.1.R')], u'06:45:00': [(u'8588553', u'06:44:00', u'60.TA.26-765-j19-1.1.R')], u'16:00:00': [(u'8588553', u'15:59:00', u'33.TA.26-734-j19-1.1.H')], u'09:33:00': [(u'8573205', u'09:33:00', u'129.TA.26-731-j19-1.3.R'), (u'8573205', u'09:33:00', u'86.TA.26-733-j19-1.2.R')], u'20:30:00': [(u'8588553', u'20:29:00', u'100.TA.26-734-j19-1.1.H')], u'14:47:00': [(u'8573205', u'14:46:00', u'88.TA.26-737-j19-1.2.R')], u'09:02:00': [(u'8573205', u'09:01:00', u'78.TA.26-737-j19-1.2.R')], u'17:26:00': [(u'8588553', u'17:25:00', u'113.TA.26-731-j19-1.1.H'), (u'8588553', u'17:25:00', u'144.TA.26-733-j19-1.3.H')], u'19:29:00': [(u'8573205', u'19:28:00', u'159.TA.26-734-j19-1.4.R')], u'09:47:00': [(u'8573205', u'09:46:00', u'93.TA.26-737-j19-1.2.R')], u'11:26:00': [(u'8588553', u'11:25:00', u'66.TA.26-731-j19-1.1.H'), (u'8588553', u'11:25:00', u'215.TA.26-733-j19-1.3.H')], u'06:42:00': [(u'8588553', u'06:41:00', u'100.TA.79-736-j19-1.5.H')], u'09:26:00': [(u'8588553', u'09:25:00', u'85.TA.26-731-j19-1.1.H'), (u'8588553', u'09:25:00', u'231.TA.26-733-j19-1.3.H')], u'11:13:00': [(u'8588553', u'11:12:00', u'27.TA.26-765-j19-1.1.R')], u'11:47:00': [(u'8573205', u'11:46:00', u'91.TA.26-737-j19-1.2.R')], u'08:55:00': [(u'8588553', u'08:54:00', u'30.TA.26-737-j19-1.1.H')], u'19:43:00': [(u'8588553', u'19:42:00', u'95.TA.26-765-j19-1.1.R')], u'14:13:00': [(u'8588553', u'14:12:00', u'5.TA.26-765-j19-1.1.R')], u'16:32:00': [(u'8573205', u'16:31:00', u'54.TA.26-737-j19-1.2.R')], u'12:43:00': [(u'8588553', u'12:42:00', u'16.TA.26-765-j19-1.1.R')], u'16:40:00': [(u'8588553', u'16:39:00', u'19.TA.26-737-j19-1.1.H')], u'20:26:00': [(u'8588553', u'20:25:00', u'154.TA.26-733-j19-1.3.H')], u'14:31:00': [(u'8573205', u'14:31:00', u'251.TA.26-765-j19-1.2.H'), (u'8573205', u'14:30:00', u'7.TA.79-736-j19-1.2.R')], u'17:48:00': [(u'8573205', u'17:48:00', u'55.TA.26-733-j19-1.2.R')], u'12:30:00': [(u'8588553', u'12:29:00', u'48.TA.26-734-j19-1.1.H')], u'09:29:00': [(u'8573205', u'09:28:00', u'130.TA.26-734-j19-1.4.R')], u'08:43:00': [(u'8588553', u'08:42:00', u'42.TA.26-765-j19-1.1.R')], u'12:27:00': [(u'8588553', u'12:26:00', u'82.TA.79-736-j19-1.5.H')], u'07:45:00': [(u'8588553', u'07:44:00', u'50.TA.26-765-j19-1.1.R')], u'19:56:00': [(u'8588553', u'19:55:00', u'98.TA.26-731-j19-1.1.H'), (u'8588553', u'19:55:00', u'155.TA.26-733-j19-1.3.H')], u'11:58:00': [(u'8588553', u'11:57:00', u'22.TA.26-765-j19-1.1.R')], u'08:32:00': [(u'8573205', u'08:31:00', u'95.TA.26-737-j19-1.2.R')], u'07:29:00': [(u'8588553', u'07:28:00', u'91.TA.26-734-j19-1.1.H')], u'11:32:00': [(u'8573205', u'11:31:00', u'70.TA.26-737-j19-1.2.R')], u'15:47:00': [(u'8573205', u'15:46:00', u'87.TA.26-737-j19-1.2.R')], u'11:03:00': [(u'8573205', u'11:03:00', u'124.TA.26-731-j19-1.3.R'), (u'8573205', u'11:03:00', u'71.TA.26-733-j19-1.2.R')], u'18:31:00': [(u'8573205', u'18:30:00', u'54.TA.79-736-j19-1.2.R')], u'12:02:00': [(u'8573205', u'12:01:00', u'69.TA.26-737-j19-1.2.R')], u'13:55:00': [(u'8588553', u'13:54:00', u'38.TA.26-737-j19-1.1.H')], u'12:17:00': [(u'8573205', u'12:16:00', u'68.TA.26-737-j19-1.2.R')], u'20:00:00': [(u'8588553', u'19:59:00', u'29.TA.26-734-j19-1.1.H')], u'13:42:00': [(u'8588553', u'13:41:00', u'76.TA.79-736-j19-1.5.H')], u'07:57:00': [(u'8588553', u'07:56:00', u'102.TA.79-736-j19-1.5.H')], u'18:02:00': [(u'8573205', u'18:01:00', u'81.TA.26-737-j19-1.2.R')], u'18:33:00': [(u'8573205', u'18:33:00', u'201.TA.26-731-j19-1.3.R'), (u'8573205', u'18:33:00', u'112.TA.26-733-j19-1.2.R')], u'08:15:00': [(u'8588553', u'08:14:00', u'44.TA.26-765-j19-1.1.R')], u'13:27:00': [(u'8588553', u'13:26:00', u'78.TA.79-736-j19-1.5.H')], u'12:56:00': [(u'8588553', u'12:55:00', u'55.TA.26-731-j19-1.1.H'), (u'8588553', u'12:55:00', u'206.TA.26-733-j19-1.3.H')], u'17:32:00': [(u'8573205', u'17:31:00', u'83.TA.26-737-j19-1.2.R')], u'10:29:00': [(u'8573205', u'10:28:00', u'125.TA.26-734-j19-1.4.R')], u'10:12:00': [(u'8588553', u'10:11:00', u'87.TA.79-736-j19-1.5.H')], u'19:27:00': [(u'8588553', u'19:26:00', u'103.TA.79-736-j19-1.5.H')], u'13:30:00': [(u'8588553', u'13:29:00', u'43.TA.26-734-j19-1.1.H')], u'15:42:00': [(u'8588553', u'15:41:00', u'68.TA.79-736-j19-1.5.H')], u'10:58:00': [(u'8588553', u'10:57:00', u'28.TA.26-765-j19-1.1.R')], u'10:30:00': [(u'8588553', u'10:29:00', u'67.TA.26-734-j19-1.1.H')], u'17:11:00': [(u'8588553', u'17:10:00', u'181.TA.26-733-j19-1.3.H')], u'11:29:00': [(u'8573205', u'11:28:00', u'119.TA.26-734-j19-1.4.R')], u'18:56:00': [(u'8588553', u'18:55:00', u'103.TA.26-731-j19-1.1.H'), (u'8588553', u'18:55:00', u'159.TA.26-733-j19-1.3.H')], u'16:30:00': [(u'8573205', u'16:29:00', u'175.TA.26-734-j19-1.4.R'), (u'8588553', u'16:29:00', u'75.TA.26-734-j19-1.1.H'), (u'8588553', u'16:29:00', u'124.TA.26-765-j19-1.1.R')], u'10:02:00': [(u'8573205', u'10:01:00', u'75.TA.26-737-j19-1.2.R')], u'08:27:00': [(u'8588553', u'08:26:00', u'101.TA.79-736-j19-1.5.H')], u'18:46:00': [(u'8573205', u'18:45:00', u'26.TA.79-736-j19-1.2.R')], u'10:47:00': [(u'8573205', u'10:46:00', u'92.TA.26-737-j19-1.2.R')], u'21:31:00': [(u'8573205', u'21:31:00', u'170.TA.26-765-j19-1.2.H')], u'16:58:00': [(u'8573205', u'16:58:00', u'210.TA.26-765-j19-1.2.H')], u'15:12:00': [(u'8588553', u'15:11:00', u'69.TA.79-736-j19-1.5.H')], u'16:12:00': [(u'8588553', u'16:11:00', u'66.TA.79-736-j19-1.5.H')], u'17:41:00': [(u'8588553', u'17:40:00', u'172.TA.26-733-j19-1.3.H')], u'08:42:00': [(u'8588553', u'08:41:00', u'93.TA.79-736-j19-1.5.H')], u'16:01:00': [(u'8573205', u'16:01:00', u'225.TA.26-765-j19-1.2.H'), (u'8573205', u'16:00:00', u'4.TA.79-736-j19-1.2.R')], u'06:33:00': [(u'8573205', u'06:33:00', u'140.TA.26-731-j19-1.3.R'), (u'8573205', u'06:33:00', u'119.TA.26-733-j19-1.2.R')], u'18:41:00': [(u'8588553', u'18:40:00', u'170.TA.26-733-j19-1.3.H')], u'12:00:00': [(u'8588553', u'11:59:00', u'53.TA.26-734-j19-1.1.H')], u'16:27:00': [(u'8588553', u'16:26:00', u'63.TA.79-736-j19-1.5.H')], u'14:29:00': [(u'8573205', u'14:28:00', u'184.TA.26-734-j19-1.4.R')], u'09:42:00': [(u'8588553', u'09:41:00', u'90.TA.79-736-j19-1.5.H')], u'07:55:00': [(u'8588553', u'07:54:00', u'39.TA.26-737-j19-1.1.H')], u'07:01:00': [(u'8573205', u'07:00:00', u'22.TA.79-736-j19-1.2.R')], u'07:30:00': [(u'8573205', u'07:29:00', u'137.TA.26-734-j19-1.4.R'), (u'8588553', u'07:29:00', u'51.TA.26-765-j19-1.1.R')], u'15:16:00': [(u'8573205', u'15:16:00', u'237.TA.26-765-j19-1.2.H'), (u'8573205', u'15:15:00', u'33.TA.79-736-j19-1.2.R')], u'14:57:00': [(u'8588553', u'14:56:00', u'71.TA.79-736-j19-1.5.H')], u'14:59:00': [(u'8573205', u'14:58:00', u'183.TA.26-734-j19-1.4.R')], u'13:25:00': [(u'8588553', u'13:24:00', u'41.TA.26-737-j19-1.1.H')], u'15:02:00': [(u'8573205', u'15:01:00', u'60.TA.26-737-j19-1.2.R')], u'10:27:00': [(u'8588553', u'10:26:00', u'92.TA.79-736-j19-1.5.H')], u'16:41:00': [(u'8588553', u'16:40:00', u'183.TA.26-733-j19-1.3.H')], u'13:32:00': [(u'8573205', u'13:31:00', u'64.TA.26-737-j19-1.2.R')], u'19:33:00': [(u'8573205', u'19:33:00', u'192.TA.26-731-j19-1.3.R'), (u'8573205', u'19:33:00', u'102.TA.26-733-j19-1.2.R')], u'13:02:00': [(u'8573205', u'13:01:00', u'66.TA.26-737-j19-1.2.R')], u'13:58:00': [(u'8588553', u'13:57:00', u'6.TA.26-765-j19-1.1.R')], u'09:31:00': [(u'8573205', u'09:31:00', u'231.TA.26-765-j19-1.2.H'), (u'8573205', u'09:30:00', u'17.TA.79-736-j19-1.2.R')], u'13:29:00': [(u'8573205', u'13:28:00', u'191.TA.26-734-j19-1.4.R')], u'16:48:00': [(u'8573205', u'16:48:00', u'117.TA.26-733-j19-1.2.R')], u'19:57:00': [(u'8588553', u'19:56:00', u'94.TA.26-765-j19-1.1.R'), (u'8588553', u'19:56:00', u'57.TA.79-736-j19-1.3.H')], u'17:27:00': [(u'8588553', u'17:26:00', u'113.TA.79-736-j19-1.5.H')], u'06:55:00': [(u'8588553', u'06:54:00', u'48.TA.26-737-j19-1.1.H')], u'08:33:00': [(u'8573205', u'08:33:00', u'133.TA.26-731-j19-1.3.R'), (u'8573205', u'08:33:00', u'93.TA.26-733-j19-1.2.R')], u'13:17:00': [(u'8573205', u'13:16:00', u'65.TA.26-737-j19-1.2.R')], u'06:48:00': [(u'8573205', u'06:48:00', u'118.TA.26-733-j19-1.2.R')], u'16:26:00': [(u'8588553', u'16:25:00', u'35.TA.26-731-j19-1.1.H'), (u'8588553', u'16:25:00', u'184.TA.26-733-j19-1.3.H')], u'18:32:00': [(u'8573205', u'18:31:00', u'79.TA.26-737-j19-1.2.R')], u'09:10:00': [(u'8588553', u'09:09:00', u'27.TA.26-737-j19-1.1.H')], u'20:12:00': [(u'8588553', u'20:11:00', u'93.TA.26-765-j19-1.1.R')], u'15:10:00': [(u'8588553', u'15:09:00', u'29.TA.26-737-j19-1.1.H')], u'10:17:00': [(u'8573205', u'10:16:00', u'74.TA.26-737-j19-1.2.R')], u'12:16:00': [(u'8573205', u'12:16:00', u'179.TA.26-765-j19-1.2.H'), (u'8573205', u'12:15:00', u'39.TA.79-736-j19-1.2.R')], u'09:03:00': [(u'8573205', u'09:03:00', u'132.TA.26-731-j19-1.3.R'), (u'8573205', u'09:03:00', u'92.TA.26-733-j19-1.2.R')], u'19:03:00': [(u'8573205', u'19:03:00', u'200.TA.26-731-j19-1.3.R'), (u'8573205', u'19:03:00', u'107.TA.26-733-j19-1.2.R')], u'07:58:00': [(u'8573205', u'07:58:00', u'243.TA.26-765-j19-1.2.H')], u'12:28:00': [(u'8588553', u'12:27:00', u'20.TA.26-765-j19-1.1.R')], u'08:29:00': [(u'8573205', u'08:28:00', u'134.TA.26-734-j19-1.4.R'), (u'8588553', u'08:28:00', u'81.TA.26-734-j19-1.1.H')], u'17:43:00': [(u'8573205', u'17:43:00', u'201.TA.26-765-j19-1.2.H')], u'15:33:00': [(u'8573205', u'15:33:00', u'217.TA.26-731-j19-1.3.R'), (u'8573205', u'15:33:00', u'127.TA.26-733-j19-1.2.R')], u'11:59:00': [(u'8573205', u'11:58:00', u'118.TA.26-734-j19-1.4.R')], u'17:02:00': [(u'8573205', u'17:01:00', u'85.TA.26-737-j19-1.2.R')], u'06:13:00': [(u'8588553', u'06:12:00', u'62.TA.26-765-j19-1.1.R')], u'14:55:00': [(u'8588553', u'14:54:00', u'31.TA.26-737-j19-1.1.H')], u'14:01:00': [(u'8573205', u'14:01:00', u'259.TA.26-765-j19-1.2.H'), (u'8573205', u'14:00:00', u'8.TA.79-736-j19-1.2.R')], u'17:33:00': [(u'8573205', u'17:33:00', u'207.TA.26-731-j19-1.3.R'), (u'8573205', u'17:33:00', u'56.TA.26-733-j19-1.2.R')], u'09:59:00': [(u'8573205', u'09:58:00', u'126.TA.26-734-j19-1.4.R')], u'11:56:00': [(u'8588553', u'11:55:00', u'65.TA.26-731-j19-1.1.H'), (u'8588553', u'11:55:00', u'214.TA.26-733-j19-1.3.H')], u'19:26:00': [(u'8588553', u'19:25:00', u'99.TA.26-731-j19-1.1.H'), (u'8588553', u'19:25:00', u'157.TA.26-733-j19-1.3.H')], u'07:40:00': [(u'8588553', u'07:39:00', u'42.TA.26-737-j19-1.1.H')], u'14:30:00': [(u'8588553', u'14:29:00', u'39.TA.26-734-j19-1.1.H')], u'13:33:00': [(u'8573205', u'13:33:00', u'231.TA.26-731-j19-1.3.R'), (u'8573205', u'13:33:00', u'51.TA.26-733-j19-1.2.R')], u'08:01:00': [(u'8573205', u'08:00:00', u'20.TA.79-736-j19-1.2.R')], u'21:03:00': [(u'8573205', u'21:03:00', u'183.TA.26-731-j19-1.3.R'), (u'8573205', u'21:03:00', u'91.TA.26-733-j19-1.2.R')], u'18:26:00': [(u'8588553', u'18:25:00', u'104.TA.26-731-j19-1.1.H'), (u'8588553', u'18:25:00', u'137.TA.26-733-j19-1.3.H')], u'16:25:00': [(u'8588553', u'16:24:00', u'21.TA.26-737-j19-1.1.H')], u'10:03:00': [(u'8573205', u'10:03:00', u'128.TA.26-731-j19-1.3.R'), (u'8573205', u'10:03:00', u'79.TA.26-733-j19-1.2.R')], u'11:01:00': [(u'8573205', u'11:01:00', u'196.TA.26-765-j19-1.2.H'), (u'8573205', u'11:00:00', u'14.TA.79-736-j19-1.2.R')], u'10:25:00': [(u'8588553', u'10:24:00', u'16.TA.26-737-j19-1.1.H')], u'18:59:00': [(u'8573205', u'18:58:00', u'160.TA.26-734-j19-1.4.R')], u'06:59:00': [(u'8588553', u'06:58:00', u'92.TA.26-734-j19-1.1.H')], u'07:10:00': [(u'8588553', u'07:09:00', u'45.TA.26-737-j19-1.1.H')], u'17:58:00': [(u'8573205', u'17:58:00', u'195.TA.26-765-j19-1.2.H')], u'18:00:00': [(u'8573205', u'17:59:00', u'167.TA.26-734-j19-1.4.R'), (u'8588553', u'17:59:00', u'65.TA.26-734-j19-1.1.H'), (u'8588553', u'17:59:00', u'113.TA.26-765-j19-1.1.R')], u'11:57:00': [(u'8588553', u'11:56:00', u'85.TA.79-736-j19-1.5.H')], u'08:10:00': [(u'8588553', u'08:09:00', u'36.TA.26-737-j19-1.1.H')], u'17:18:00': [(u'8573205', u'17:18:00', u'61.TA.26-733-j19-1.2.R')], u'10:57:00': [(u'8588553', u'10:56:00', u'89.TA.79-736-j19-1.5.H')], u'07:16:00': [(u'8573205', u'07:15:00', u'49.TA.79-736-j19-1.2.R')], u'12:01:00': [(u'8573205', u'12:01:00', u'180.TA.26-765-j19-1.2.H'), (u'8573205', u'12:00:00', u'12.TA.79-736-j19-1.2.R')], u'18:18:00': [(u'8573205', u'18:18:00', u'116.TA.26-733-j19-1.2.R')], u'18:03:00': [(u'8573205', u'18:03:00', u'202.TA.26-731-j19-1.3.R'), (u'8573205', u'18:03:00', u'50.TA.26-733-j19-1.2.R')], u'11:55:00': [(u'8588553', u'11:54:00', u'3.TA.26-737-j19-1.1.H')], u'11:43:00': [(u'8588553', u'11:42:00', u'23.TA.26-765-j19-1.1.R')], u'19:01:00': [(u'8573205', u'19:01:00', u'185.TA.26-765-j19-1.2.H'), (u'8573205', u'19:00:00', u'53.TA.79-736-j19-1.2.R')], u'16:55:00': [(u'8588553', u'16:54:00', u'18.TA.26-737-j19-1.1.H')], u'07:28:00': [(u'8573205', u'07:28:00', u'245.TA.26-765-j19-1.2.H')], u'17:57:00': [(u'8588553', u'17:56:00', u'112.TA.79-736-j19-1.5.H')], u'10:42:00': [(u'8588553', u'10:41:00', u'86.TA.79-736-j19-1.5.H')], u'12:25:00': [(u'8588553', u'12:24:00', u'1.TA.26-737-j19-1.1.H')], u'14:58:00': [(u'8588553', u'14:57:00', u'134.TA.26-765-j19-1.1.R')], u'07:25:00': [(u'8588553', u'07:24:00', u'43.TA.26-737-j19-1.1.H')], u'16:33:00': [(u'8573205', u'16:33:00', u'209.TA.26-731-j19-1.3.R'), (u'8573205', u'16:33:00', u'122.TA.26-733-j19-1.2.R')], u'19:11:00': [(u'8588553', u'19:10:00', u'158.TA.26-733-j19-1.3.H')], u'20:33:00': [(u'8573205', u'20:33:00', u'190.TA.26-731-j19-1.3.R'), (u'8573205', u'20:33:00', u'97.TA.26-733-j19-1.2.R')], u'07:18:00': [(u'8573205', u'07:18:00', u'108.TA.26-733-j19-1.2.R')], u'16:57:00': [(u'8588553', u'16:56:00', u'62.TA.79-736-j19-1.5.H')], u'09:27:00': [(u'8588553', u'09:26:00', u'97.TA.79-736-j19-1.5.H')], u'07:42:00': [(u'8588553', u'07:41:00', u'96.TA.79-736-j19-1.5.H')], u'08:03:00': [(u'8573205', u'08:03:00', u'136.TA.26-731-j19-1.3.R'), (u'8573205', u'08:03:00', u'98.TA.26-733-j19-1.2.R')], u'15:13:00': [(u'8588553', u'15:12:00', u'133.TA.26-765-j19-1.1.R')], u'21:55:00': [(u'8588553', u'21:54:00', u'87.TA.26-731-j19-1.1.H')], u'21:01:00': [(u'8573205', u'21:01:00', u'171.TA.26-765-j19-1.2.H')], u'09:30:00': [(u'8588553', u'09:29:00', u'76.TA.26-734-j19-1.1.H')], u'13:28:00': [(u'8588553', u'13:27:00', u'13.TA.26-765-j19-1.1.R')], u'13:40:00': [(u'8588553', u'13:39:00', u'40.TA.26-737-j19-1.1.H')], u'14:40:00': [(u'8588553', u'14:39:00', u'34.TA.26-737-j19-1.1.H')], u'21:30:00': [(u'8588553', u'21:29:00', u'95.TA.26-734-j19-1.3.H')], u'17:17:00': [(u'8573205', u'17:16:00', u'84.TA.26-737-j19-1.2.R')], u'18:12:00': [(u'8588553', u'18:11:00', u'60.TA.79-736-j19-1.5.H')], u'15:59:00': [(u'8573205', u'15:58:00', u'176.TA.26-734-j19-1.4.R')], u'14:10:00': [(u'8588553', u'14:09:00', u'37.TA.26-737-j19-1.1.H')], u'17:42:00': [(u'8588553', u'17:41:00', u'61.TA.79-736-j19-1.5.H')], u'10:55:00': [(u'8588553', u'10:54:00', u'10.TA.26-737-j19-1.1.H')], u'06:43:00': [(u'8573205', u'06:43:00', u'257.TA.26-765-j19-1.2.H')], u'09:17:00': [(u'8573205', u'09:16:00', u'77.TA.26-737-j19-1.2.R')], u'19:00:00': [(u'8588553', u'18:59:00', u'58.TA.26-734-j19-1.1.H')], u'14:16:00': [(u'8573205', u'14:16:00', u'252.TA.26-765-j19-1.2.H'), (u'8573205', u'14:15:00', u'35.TA.79-736-j19-1.2.R')], u'07:59:00': [(u'8588553', u'07:58:00', u'86.TA.26-734-j19-1.1.H')], u'06:30:00': [(u'8573205', u'06:29:00', u'139.TA.26-734-j19-1.4.R'), (u'8588553', u'06:29:00', u'96.TA.26-734-j19-1.1.H')], u'16:17:00': [(u'8573205', u'16:16:00', u'56.TA.26-737-j19-1.2.R')], u'09:56:00': [(u'8588553', u'09:55:00', u'80.TA.26-731-j19-1.1.H'), (u'8588553', u'09:55:00', u'225.TA.26-733-j19-1.3.H')], u'06:41:00': [(u'8588553', u'06:40:00', u'255.TA.26-733-j19-1.3.H')], u'13:59:00': [(u'8573205', u'13:58:00', u'190.TA.26-734-j19-1.4.R')], u'18:58:00': [(u'8588553', u'18:57:00', u'104.TA.26-765-j19-1.1.R')], u'10:31:00': [(u'8573205', u'10:31:00', u'211.TA.26-765-j19-1.2.H'), (u'8573205', u'10:30:00', u'15.TA.79-736-j19-1.2.R')], u'16:03:00': [(u'8573205', u'16:03:00', u'216.TA.26-731-j19-1.3.R'), (u'8573205', u'16:03:00', u'126.TA.26-733-j19-1.2.R')], u'08:58:00': [(u'8588553', u'08:57:00', u'38.TA.26-765-j19-1.1.R')], u'09:46:00': [(u'8573205', u'09:46:00', u'226.TA.26-765-j19-1.2.H'), (u'8573205', u'09:45:00', u'44.TA.79-736-j19-1.2.R')], u'11:00:00': [(u'8588553', u'10:59:00', u'66.TA.26-734-j19-1.1.H')], u'14:25:00': [(u'8588553', u'14:24:00', u'35.TA.26-737-j19-1.1.H')], u'06:03:00': [(u'8573205', u'06:03:00', u'151.TA.26-731-j19-1.3.R'), (u'8573205', u'06:03:00', u'123.TA.26-733-j19-1.2.R')], u'08:11:00': [(u'8588553', u'08:10:00', u'239.TA.26-733-j19-1.3.H')], u'13:57:00': [(u'8588553', u'13:56:00', u'75.TA.79-736-j19-1.5.H')], u'15:55:00': [(u'8588553', u'15:54:00', u'25.TA.26-737-j19-1.1.H')], u'16:47:00': [(u'8573205', u'16:46:00', u'86.TA.26-737-j19-1.2.R')], u'14:42:00': [(u'8588553', u'14:41:00', u'72.TA.79-736-j19-1.5.H')], u'06:01:00': [(u'8573205', u'06:01:00', u'261.TA.26-765-j19-1.2.H')], u'08:17:00': [(u'8573205', u'08:16:00', u'96.TA.26-737-j19-1.2.R')], u'18:57:00': [(u'8588553', u'18:56:00', u'104.TA.79-736-j19-1.5.H')], u'06:16:00': [(u'8573205', u'06:16:00', u'254.TA.26-765-j19-1.2.H'), (u'8573205', u'06:15:00', u'52.TA.79-736-j19-1.2.R')], u'15:29:00': [(u'8573205', u'15:28:00', u'177.TA.26-734-j19-1.4.R')], u'11:16:00': [(u'8573205', u'11:16:00', u'191.TA.26-765-j19-1.2.H'), (u'8573205', u'11:15:00', u'41.TA.79-736-j19-1.2.R')], u'18:40:00': [(u'8588553', u'18:39:00', u'4.TA.26-737-j19-1.1.H')], u'10:43:00': [(u'8588553', u'10:42:00', u'29.TA.26-765-j19-1.1.R')], u'09:57:00': [(u'8588553', u'09:56:00', u'95.TA.79-736-j19-1.5.H')], u'11:40:00': [(u'8588553', u'11:39:00', u'5.TA.26-737-j19-1.1.H')], u'18:13:00': [(u'8573205', u'18:13:00', u'194.TA.26-765-j19-1.2.H')], u'13:13:00': [(u'8588553', u'13:12:00', u'14.TA.26-765-j19-1.1.R')], u'10:00:00': [(u'8588553', u'09:59:00', u'71.TA.26-734-j19-1.1.H')], u'15:43:00': [(u'8588553', u'15:42:00', u'127.TA.26-765-j19-1.1.R')], u'08:26:00': [(u'8588553', u'08:25:00', u'90.TA.26-731-j19-1.2.H'), (u'8588553', u'08:25:00', u'233.TA.26-733-j19-1.3.H')], u'08:57:00': [(u'8588553', u'08:56:00', u'98.TA.79-736-j19-1.5.H')], u'15:30:00': [(u'8588553', u'15:29:00', u'35.TA.26-734-j19-1.1.H')], u'12:13:00': [(u'8588553', u'12:12:00', u'21.TA.26-765-j19-1.1.R')], u'10:26:00': [(u'8588553', u'10:25:00', u'79.TA.26-731-j19-1.1.H'), (u'8588553', u'10:25:00', u'224.TA.26-733-j19-1.3.H')], u'19:18:00': [(u'8573205', u'19:18:00', u'106.TA.26-733-j19-1.2.R')], u'19:16:00': [(u'8573205', u'19:16:00', u'184.TA.26-765-j19-1.2.H'), (u'8573205', u'19:15:00', u'25.TA.79-736-j19-1.2.R')], u'07:43:00': [(u'8573205', u'07:43:00', u'244.TA.26-765-j19-1.2.H')], u'10:33:00': [(u'8573205', u'10:33:00', u'127.TA.26-731-j19-1.3.R'), (u'8573205', u'10:33:00', u'78.TA.26-733-j19-1.2.R')], u'08:02:00': [(u'8573205', u'08:01:00', u'49.TA.26-737-j19-1.2.R')], u'12:58:00': [(u'8588553', u'12:57:00', u'15.TA.26-765-j19-1.1.R')], u'18:25:00': [(u'8588553', u'18:24:00', u'7.TA.26-737-j19-1.1.H')], u'21:57:00': [(u'8588553', u'21:56:00', u'89.TA.26-765-j19-1.1.R')], u'18:16:00': [(u'8573205', u'18:15:00', u'27.TA.79-736-j19-1.2.R')], u'13:47:00': [(u'8573205', u'13:46:00', u'89.TA.26-737-j19-1.2.R')], u'18:28:00': [(u'8573205', u'18:28:00', u'189.TA.26-765-j19-1.2.H')], u'21:25:00': [(u'8588553', u'21:24:00', u'88.TA.26-731-j19-1.1.H')], u'15:03:00': [(u'8573205', u'15:03:00', u'223.TA.26-731-j19-1.3.R'), (u'8573205', u'15:03:00', u'39.TA.26-733-j19-1.2.R')], u'16:45:00': [(u'8588553', u'16:44:00', u'123.TA.26-765-j19-1.1.R')], u'07:17:00': [(u'8573205', u'07:16:00', u'52.TA.26-737-j19-1.2.R')], u'20:55:00': [(u'8588553', u'20:54:00', u'93.TA.26-731-j19-1.2.H')], u'12:42:00': [(u'8588553', u'12:41:00', u'79.TA.79-736-j19-1.5.H')], u'07:00:00': [(u'8573205', u'06:59:00', u'138.TA.26-734-j19-1.4.R'), (u'8588553', u'06:59:00', u'59.TA.26-765-j19-1.1.R')], u'11:30:00': [(u'8588553', u'11:29:00', u'59.TA.26-734-j19-1.1.H')], u'07:26:00': [(u'8588553', u'07:25:00', u'100.TA.26-731-j19-1.1.H'), (u'8588553', u'07:25:00', u'247.TA.26-733-j19-1.3.H')], u'12:32:00': [(u'8573205', u'12:31:00', u'67.TA.26-737-j19-1.2.R')], u'18:42:00': [(u'8588553', u'18:41:00', u'111.TA.79-736-j19-1.5.H')], u'17:00:00': [(u'8573205', u'16:59:00', u'169.TA.26-734-j19-1.4.R'), (u'8588553', u'16:59:00', u'74.TA.26-734-j19-1.1.H'), (u'8588553', u'16:59:00', u'117.TA.26-765-j19-1.1.R')], u'15:01:00': [(u'8573205', u'15:01:00', u'238.TA.26-765-j19-1.2.H'), (u'8573205', u'15:00:00', u'6.TA.79-736-j19-1.2.R')], u'09:16:00': [(u'8573205', u'09:16:00', u'239.TA.26-765-j19-1.2.H'), (u'8573205', u'09:15:00', u'45.TA.79-736-j19-1.2.R')], u'16:43:00': [(u'8573205', u'16:43:00', u'216.TA.26-765-j19-1.2.H')], u'17:13:00': [(u'8573205', u'17:13:00', u'209.TA.26-765-j19-1.2.H')], u'12:40:00': [(u'8588553', u'12:39:00', u'47.TA.26-737-j19-1.1.H')], u'20:29:00': [(u'8573205', u'20:28:00', u'150.TA.26-734-j19-1.4.R')], u'06:31:00': [(u'8573205', u'06:30:00', u'23.TA.79-736-j19-1.2.R')], u'07:02:00': [(u'8573205', u'07:01:00', u'53.TA.26-737-j19-1.2.R')], u'16:16:00': [(u'8573205', u'16:16:00', u'224.TA.26-765-j19-1.2.H'), (u'8573205', u'16:15:00', u'31.TA.79-736-j19-1.2.R')], u'13:16:00': [(u'8573205', u'13:16:00', u'267.TA.26-765-j19-1.2.H'), (u'8573205', u'13:15:00', u'37.TA.79-736-j19-1.2.R')], u'07:12:00': [(u'8588553', u'07:11:00', u'99.TA.79-736-j19-1.5.H')], u'08:59:00': [(u'8573205', u'08:58:00', u'131.TA.26-734-j19-1.4.R')], u'17:47:00': [(u'8573205', u'17:46:00', u'82.TA.26-737-j19-1.2.R')], u'12:47:00': [(u'8573205', u'12:46:00', u'90.TA.26-737-j19-1.2.R')], u'06:58:00': [(u'8573205', u'06:58:00', u'250.TA.26-765-j19-1.2.H')], u'06:56:00': [(u'8588553', u'06:55:00', u'105.TA.26-731-j19-1.1.H'), (u'8588553', u'06:55:00', u'254.TA.26-733-j19-1.3.H')], u'16:56:00': [(u'8588553', u'16:55:00', u'114.TA.26-731-j19-1.1.H'), (u'8588553', u'16:55:00', u'182.TA.26-733-j19-1.3.H')], u'07:33:00': [(u'8573205', u'07:33:00', u'137.TA.26-731-j19-1.3.R'), (u'8573205', u'07:33:00', u'104.TA.26-733-j19-1.2.R')], u'12:46:00': [(u'8573205', u'12:46:00', u'173.TA.26-765-j19-1.2.H'), (u'8573205', u'12:45:00', u'38.TA.79-736-j19-1.2.R')], u'14:43:00': [(u'8588553', u'14:42:00', u'135.TA.26-765-j19-1.1.R')], u'16:28:00': [(u'8573205', u'16:28:00', u'217.TA.26-765-j19-1.2.H')], u'11:17:00': [(u'8573205', u'11:16:00', u'71.TA.26-737-j19-1.2.R')], u'11:31:00': [(u'8573205', u'11:31:00', u'190.TA.26-765-j19-1.2.H'), (u'8573205', u'11:30:00', u'13.TA.79-736-j19-1.2.R')], u'09:13:00': [(u'8588553', u'09:12:00', u'37.TA.26-765-j19-1.1.R')], u'20:03:00': [(u'8573205', u'20:03:00', u'191.TA.26-731-j19-1.3.R'), (u'8573205', u'20:03:00', u'101.TA.26-733-j19-1.2.R')], u'09:55:00': [(u'8588553', u'09:54:00', u'20.TA.26-737-j19-1.1.H')], u'13:31:00': [(u'8573205', u'13:31:00', u'266.TA.26-765-j19-1.2.H'), (u'8573205', u'13:30:00', u'9.TA.79-736-j19-1.2.R')], u'14:17:00': [(u'8573205', u'14:16:00', u'62.TA.26-737-j19-1.2.R')], u'13:00:00': [(u'8588553', u'12:59:00', u'47.TA.26-734-j19-1.1.H')], u'14:00:00': [(u'8588553', u'13:59:00', u'42.TA.26-734-j19-1.1.H')], u'14:26:00': [(u'8588553', u'14:25:00', u'47.TA.26-731-j19-1.1.H'), (u'8588553', u'14:25:00', u'203.TA.26-733-j19-1.3.H')], u'16:10:00': [(u'8588553', u'16:09:00', u'22.TA.26-737-j19-1.1.H')], u'15:40:00': [(u'8588553', u'15:39:00', u'26.TA.26-737-j19-1.1.H')], u'09:25:00': [(u'8588553', u'09:24:00', u'24.TA.26-737-j19-1.1.H')], u'20:01:00': [(u'8573205', u'20:01:00', u'177.TA.26-765-j19-1.2.H')], u'20:16:00': [(u'8573205', u'20:16:00', u'234.TA.26-765-j19-1.2.H')], u'15:31:00': [(u'8573205', u'15:31:00', u'230.TA.26-765-j19-1.2.H'), (u'8573205', u'15:30:00', u'5.TA.79-736-j19-1.2.R')], u'14:02:00': [(u'8573205', u'14:01:00', u'63.TA.26-737-j19-1.2.R')], u'12:12:00': [(u'8588553', u'12:11:00', u'80.TA.79-736-j19-1.5.H')], u'06:57:00': [(u'8588553', u'06:56:00', u'106.TA.79-736-j19-1.5.H')], u'08:12:00': [(u'8588553', u'08:11:00', u'94.TA.79-736-j19-1.5.H')], u'09:00:00': [(u'8588553', u'08:59:00', u'77.TA.26-734-j19-1.1.H')], u'10:32:00': [(u'8573205', u'10:31:00', u'73.TA.26-737-j19-1.2.R')], u'07:48:00': [(u'8573205', u'07:48:00', u'103.TA.26-733-j19-1.2.R')], u'19:28:00': [(u'8588553', u'19:27:00', u'102.TA.26-765-j19-1.1.R')], u'11:10:00': [(u'8588553', u'11:09:00', u'9.TA.26-737-j19-1.1.H')], u'08:40:00': [(u'8588553', u'08:39:00', u'32.TA.26-737-j19-1.1.H')], u'15:28:00': [(u'8588553', u'15:27:00', u'132.TA.26-765-j19-1.1.R')], u'17:16:00': [(u'8573205', u'17:15:00', u'29.TA.79-736-j19-1.2.R')], u'13:46:00': [(u'8573205', u'13:46:00', u'260.TA.26-765-j19-1.2.H'), (u'8573205', u'13:45:00', u'36.TA.79-736-j19-1.2.R')], u'17:31:00': [(u'8573205', u'17:30:00', u'56.TA.79-736-j19-1.2.R')], u'15:58:00': [(u'8588553', u'15:57:00', u'126.TA.26-765-j19-1.1.R')], u'08:31:00': [(u'8573205', u'08:31:00', u'253.TA.26-765-j19-1.2.H'), (u'8573205', u'08:30:00', u'19.TA.79-736-j19-1.2.R')], u'15:56:00': [(u'8588553', u'15:55:00', u'36.TA.26-731-j19-1.1.H'), (u'8588553', u'15:55:00', u'193.TA.26-733-j19-1.3.H')], u'10:10:00': [(u'8588553', u'10:09:00', u'17.TA.26-737-j19-1.1.H')], u'10:40:00': [(u'8588553', u'10:39:00', u'13.TA.26-737-j19-1.1.H')], u'08:25:00': [(u'8588553', u'08:24:00', u'33.TA.26-737-j19-1.1.H')], u'18:27:00': [(u'8588553', u'18:26:00', u'108.TA.79-736-j19-1.5.H')], u'18:43:00': [(u'8573205', u'18:43:00', u'188.TA.26-765-j19-1.2.H')], u'19:42:00': [(u'8588553', u'19:41:00', u'107.TA.79-736-j19-1.5.H')], u'15:17:00': [(u'8573205', u'15:16:00', u'59.TA.26-737-j19-1.2.R')], u'06:27:00': [(u'8588553', u'06:26:00', u'109.TA.79-736-j19-1.5.H')], u'11:02:00': [(u'8573205', u'11:01:00', u'72.TA.26-737-j19-1.2.R')], u'10:01:00': [(u'8573205', u'10:01:00', u'219.TA.26-765-j19-1.2.H'), (u'8573205', u'10:00:00', u'16.TA.79-736-j19-1.2.R')], u'19:30:00': [(u'8588553', u'19:29:00', u'30.TA.26-734-j19-1.1.H')], u'18:30:00': [(u'8573205', u'18:29:00', u'161.TA.26-734-j19-1.4.R'), (u'8588553', u'18:29:00', u'64.TA.26-734-j19-1.2.H'), (u'8588553', u'18:29:00', u'106.TA.26-765-j19-1.1.R')], u'15:25:00': [(u'8588553', u'15:24:00', u'28.TA.26-737-j19-1.1.H')], u'18:45:00': [(u'8588553', u'18:44:00', u'105.TA.26-765-j19-1.1.R')], u'17:46:00': [(u'8573205', u'17:45:00', u'28.TA.79-736-j19-1.2.R')], u'21:00:00': [(u'8588553', u'20:59:00', u'99.TA.26-734-j19-1.1.H')], u'11:46:00': [(u'8573205', u'11:46:00', u'186.TA.26-765-j19-1.2.H'), (u'8573205', u'11:45:00', u'40.TA.79-736-j19-1.2.R')], u'15:32:00': [(u'8573205', u'15:31:00', u'58.TA.26-737-j19-1.2.R')], u'12:03:00': [(u'8573205', u'12:03:00', u'120.TA.26-731-j19-1.3.R'), (u'8573205', u'12:03:00', u'63.TA.26-733-j19-1.2.R')], u'21:26:00': [(u'8588553', u'21:25:00', u'152.TA.26-733-j19-1.4.H')], u'09:58:00': [(u'8588553', u'09:57:00', u'34.TA.26-765-j19-1.1.R')], u'15:27:00': [(u'8588553', u'15:26:00', u'70.TA.79-736-j19-1.5.H')], u'17:40:00': [(u'8588553', u'17:39:00', u'12.TA.26-737-j19-1.1.H')], u'07:15:00': [(u'8588553', u'07:14:00', u'52.TA.26-765-j19-1.1.R')], u'20:31:00': [(u'8573205', u'20:31:00', u'172.TA.26-765-j19-1.2.H')], u'17:56:00': [(u'8588553', u'17:55:00', u'109.TA.26-731-j19-1.1.H'), (u'8588553', u'17:55:00', u'143.TA.26-733-j19-1.3.H')], u'17:25:00': [(u'8588553', u'17:24:00', u'14.TA.26-737-j19-1.1.H')], u'07:32:00': [(u'8573205', u'07:31:00', u'51.TA.26-737-j19-1.2.R')], u'16:46:00': [(u'8573205', u'16:45:00', u'30.TA.79-736-j19-1.2.R')], u'06:46:00': [(u'8573205', u'06:45:00', u'50.TA.79-736-j19-1.2.R')], u'18:10:00': [(u'8588553', u'18:09:00', u'8.TA.26-737-j19-1.1.H')], u'13:26:00': [(u'8588553', u'13:25:00', u'54.TA.26-731-j19-1.1.H'), (u'8588553', u'13:25:00', u'205.TA.26-733-j19-1.3.H')], u'15:00:00': [(u'8588553', u'14:59:00', u'36.TA.26-734-j19-1.1.H')], u'07:46:00': [(u'8573205', u'07:45:00', u'48.TA.79-736-j19-1.2.R')], u'07:27:00': [(u'8588553', u'07:26:00', u'105.TA.79-736-j19-1.5.H')], u'09:32:00': [(u'8573205', u'09:31:00', u'76.TA.26-737-j19-1.2.R')], u'20:56:00': [(u'8588553', u'20:55:00', u'153.TA.26-733-j19-1.3.H')], u'21:33:00': [(u'8573205', u'21:33:00', u'182.TA.26-731-j19-1.3.R'), (u'8573205', u'21:33:00', u'90.TA.26-733-j19-1.2.R')], u'07:56:00': [(u'8588553', u'07:55:00', u'95.TA.26-731-j19-1.1.H'), (u'8588553', u'07:55:00', u'240.TA.26-733-j19-1.3.H')], u'08:30:00': [(u'8588553', u'08:29:00', u'43.TA.26-765-j19-1.1.R')], u'11:28:00': [(u'8588553', u'11:27:00', u'26.TA.26-765-j19-1.1.R')], u'16:02:00': [(u'8573205', u'16:01:00', u'57.TA.26-737-j19-1.2.R')], u'08:56:00': [(u'8588553', u'08:55:00', u'89.TA.26-731-j19-1.2.H'), (u'8588553', u'08:55:00', u'232.TA.26-733-j19-1.3.H')], u'09:01:00': [(u'8573205', u'09:01:00', u'240.TA.26-765-j19-1.2.H'), (u'8573205', u'09:00:00', u'18.TA.79-736-j19-1.2.R')], u'20:25:00': [(u'8588553', u'20:24:00', u'94.TA.26-731-j19-1.1.H')], u'17:12:00': [(u'8588553', u'17:11:00', u'64.TA.79-736-j19-1.5.H')], u'17:28:00': [(u'8573205', u'17:28:00', u'202.TA.26-765-j19-1.2.H')], u'09:28:00': [(u'8588553', u'09:27:00', u'36.TA.26-765-j19-1.1.R')]}"
     ]
    }
   ],
   "source": [
    "graph[u'8580301'].arrivals"
   ]
  },
  {
   "cell_type": "code",
   "execution_count": 10,
   "metadata": {},
   "outputs": [
    {
     "data": {
      "application/vnd.jupyter.widget-view+json": {
       "model_id": "",
       "version_major": 2,
       "version_minor": 0
      },
      "text/plain": [
       "FloatProgress(value=0.0, bar_style='info', description='Progress:', layout=Layout(height='25px', width='50%'),…"
      ]
     },
     "metadata": {},
     "output_type": "display_data"
    },
    {
     "name": "stdout",
     "output_type": "stream",
     "text": [
      "Running system command: hdfs dfs -cat /user/lortkipa/graph_untested_classTuples.pkl\n",
      "Success"
     ]
    }
   ],
   "source": [
    "G = read_hdfs('/user/lortkipa/graph_untested_classTuples.pkl')\n",
    "G = list_todictnodes(G)\n",
    "#for stop_id in G:\n",
    "    #G[stop_id] = StationNode(stop_id).from_tuple(G[stop_id])"
   ]
  },
  {
   "cell_type": "markdown",
   "metadata": {},
   "source": [
    "## Validation"
   ]
  },
  {
   "cell_type": "markdown",
   "metadata": {},
   "source": [
    "In order to test that graph is generated correctly, we will consider a ground truth routes and make sure our SBB connections graph contains all the needed connections to end up with this route:"
   ]
  },
  {
   "cell_type": "markdown",
   "metadata": {},
   "source": [
    "start =  Zürich HB (8503000) to Zürich\n",
    "\n",
    "end = Auzelg (8591049)\n",
    "\n",
    "arrival = '12:30:00'\n",
    "\n",
    "\n",
    "\n",
    "<b>Route:</b>\n",
    "\n",
    "1) 20.TA.26-9-A-j19-1.2.H: 8503000:0:41/42 at 12:07:00 ~ 8503310:0:3 at 12:17:00\n",
    "\n",
    "2) Walking: 8503310:0:3 ~ 8590620\n",
    "\n",
    "3) 168.TA.26-12-A-j19-1.2.H: 8590620 at 12:23:00 ~ 8591049 at 12:29:00"
   ]
  },
  {
   "cell_type": "code",
   "execution_count": 52,
   "metadata": {},
   "outputs": [
    {
     "data": {
      "application/vnd.jupyter.widget-view+json": {
       "model_id": "",
       "version_major": 2,
       "version_minor": 0
      },
      "text/plain": [
       "FloatProgress(value=0.0, bar_style='info', description='Progress:', layout=Layout(height='25px', width='50%'),…"
      ]
     },
     "metadata": {},
     "output_type": "display_data"
    },
    {
     "name": "stdout",
     "output_type": "stream",
     "text": [
      "[Row(trip_id=u'20.TA.26-9-A-j19-1.2.H', arrival_time=u'12:02:00', departure_time=u'12:07:00', stop_id=u'8503000', stop_sequence=7), Row(trip_id=u'20.TA.26-9-A-j19-1.2.H', arrival_time=u'12:09:00', departure_time=u'12:09:00', stop_id=u'8503020', stop_sequence=8), Row(trip_id=u'20.TA.26-9-A-j19-1.2.H', arrival_time=u'12:14:00', departure_time=u'12:15:00', stop_id=u'8503006', stop_sequence=9), Row(trip_id=u'20.TA.26-9-A-j19-1.2.H', arrival_time=u'12:17:00', departure_time=u'12:18:00', stop_id=u'8503310', stop_sequence=10)]\n",
      "\n",
      "\n",
      "As we can see 8503000 is stop 7 and 8503310 is stop 10 on this route\n",
      "We will now follow the graph connection by connection and make sure all is there with correct times\n",
      "Stop7 -> Stop8\n",
      "('8503000', '12:07:00', (u'8503020', u'12:09:00', u'20.TA.26-9-A-j19-1.2.H'))\n",
      "Stop8 -> Stop9\n",
      "('8503020', '12:09:00', (u'8503006', u'12:14:00', u'20.TA.26-9-A-j19-1.2.H'))\n",
      "Stop9 -> Stop10\n",
      "('8503006', '12:15:00', (u'8503310', u'12:17:00', u'20.TA.26-9-A-j19-1.2.H'))"
     ]
    }
   ],
   "source": [
    "######################################################################################################################\n",
    "# 1) let's make sure that graph has all the info for 20.TA.26-9-A-j19-1.2.H: \n",
    "#                        8503000:0:41/42 at 12:07:00 ~ 8503310:0:3 at 12:17:00\n",
    "#######################################################################################################################\n",
    "\n",
    "\n",
    "# first let's print this trip from the modified dataframe that was used for Graph creation\n",
    "print(current_next[current_next['trip_id'] == '20.TA.26-9-A-j19-1.2.H'][ \\\n",
    "             current_next['departure_time'] >= '12:07:00'][current_next['departure_time'] <= '12:18:00'].select(\n",
    "    'trip_id', 'arrival_time', 'departure_time', 'stop_id', 'stop_sequence').collect())\n",
    "\n",
    "\n",
    "print('\\n')\n",
    "print(\"As we can see 8503000 is stop 7 and 8503310 is stop 10 on this route\")\n",
    "\n",
    "\n",
    "print('We will now follow the graph connection by connection and make sure all is there with correct times')\n",
    "\n",
    "print('Stop7 -> Stop8')\n",
    "# stop 7 going to stop 8, '8503000' -> '8503020'\n",
    "check1 = G['8503000'].departures['12:07:00']\n",
    "for connection in check1:\n",
    "    if connection[2] == '20.TA.26-9-A-j19-1.2.H':\n",
    "        check1 = connection\n",
    "print('8503000','12:07:00', check1)\n",
    "assert check1[0] == '8503020'\n",
    "assert check1[2] == '20.TA.26-9-A-j19-1.2.H'\n",
    "\n",
    "\n",
    "print('Stop8 -> Stop9')\n",
    "# stop 7 going to stop 8, '8503020' -> '8503006'\n",
    "check1 = G['8503020'].departures['12:09:00']\n",
    "for connection in check1:\n",
    "    if connection[2] == '20.TA.26-9-A-j19-1.2.H':\n",
    "        check1 = connection\n",
    "print('8503020','12:09:00', check1)\n",
    "assert check1[0] == '8503006'\n",
    "assert check1[2] == '20.TA.26-9-A-j19-1.2.H'\n",
    "\n",
    "\n",
    "print('Stop9 -> Stop10')\n",
    "# stop 7 going to stop 8, '8503006' -> '8503310'\n",
    "check1 = G['8503006'].departures['12:15:00']\n",
    "for connection in check1:\n",
    "    if connection[2] == '20.TA.26-9-A-j19-1.2.H':\n",
    "        check1 = connection\n",
    "print('8503006','12:15:00', check1)\n",
    "assert check1[0] == '8503310'\n",
    "assert check1[2] == '20.TA.26-9-A-j19-1.2.H'"
   ]
  },
  {
   "cell_type": "code",
   "execution_count": 44,
   "metadata": {},
   "outputs": [
    {
     "data": {
      "application/vnd.jupyter.widget-view+json": {
       "model_id": "",
       "version_major": 2,
       "version_minor": 0
      },
      "text/plain": [
       "FloatProgress(value=0.0, bar_style='info', description='Progress:', layout=Layout(height='25px', width='50%'),…"
      ]
     },
     "metadata": {},
     "output_type": "display_data"
    },
    {
     "name": "stdout",
     "output_type": "stream",
     "text": [
      "{u'8503310': 0.0, u'8590762': 562.7966106551638, u'8590742': 312.4211443238438, u'8590629': 213.79726829509306, u'8503340': 293.78730858511796, u'8590621': 403.730882131385, u'8590620': 69.52556591008263, u'8590622': 531.1270316987234}"
     ]
    }
   ],
   "source": [
    "######################################################################################################################\n",
    "# 2) let's make sure that graph has Walking: 8503310:0:3 ~ 8590620 connection\n",
    "#######################################################################################################################\n",
    "\n",
    "print(G['8503310'].walkable_stations)\n",
    "assert '8590620' in G['8503310'].walkable_stations"
   ]
  },
  {
   "cell_type": "code",
   "execution_count": 41,
   "metadata": {},
   "outputs": [
    {
     "data": {
      "application/vnd.jupyter.widget-view+json": {
       "model_id": "",
       "version_major": 2,
       "version_minor": 0
      },
      "text/plain": [
       "FloatProgress(value=0.0, bar_style='info', description='Progress:', layout=Layout(height='25px', width='50%'),…"
      ]
     },
     "metadata": {},
     "output_type": "display_data"
    },
    {
     "name": "stdout",
     "output_type": "stream",
     "text": [
      "[Row(trip_id=u'168.TA.26-12-A-j19-1.2.H', arrival_time=u'12:23:00', departure_time=u'12:23:00', stop_id=u'8590620', stop_sequence=6), Row(trip_id=u'168.TA.26-12-A-j19-1.2.H', arrival_time=u'12:24:00', departure_time=u'12:24:00', stop_id=u'8590626', stop_sequence=7), Row(trip_id=u'168.TA.26-12-A-j19-1.2.H', arrival_time=u'12:26:00', departure_time=u'12:26:00', stop_id=u'8591830', stop_sequence=8), Row(trip_id=u'168.TA.26-12-A-j19-1.2.H', arrival_time=u'12:27:00', departure_time=u'12:27:00', stop_id=u'8591128', stop_sequence=9), Row(trip_id=u'168.TA.26-12-A-j19-1.2.H', arrival_time=u'12:29:00', departure_time=u'12:29:00', stop_id=u'8591049', stop_sequence=10)]\n",
      "\n",
      "\n",
      "As we can see 8590620 is stop 6 and 8591049 is stop 10 on this route\n",
      "We will now follow the graph connection by connection and make sure all is there with correct times\n",
      "Stop6 -> Stop7\n",
      "('8590620', '12:23:00', (u'8590626', u'12:24:00', u'168.TA.26-12-A-j19-1.2.H'))\n",
      "Stop7 -> Stop8\n",
      "('8590626', '12:24:00', (u'8591830', u'12:26:00', u'168.TA.26-12-A-j19-1.2.H'))\n",
      "Stop8 -> Stop9\n",
      "('8591830', '12:26:00', (u'8591128', u'12:27:00', u'168.TA.26-12-A-j19-1.2.H'))\n",
      "Stop9 -> Stop10\n",
      "('8591128', '12:27:00', (u'8591049', u'12:29:00', u'168.TA.26-12-A-j19-1.2.H'))"
     ]
    }
   ],
   "source": [
    "######################################################################################################################\n",
    "# 3) let's make sure that graph has all the info for 168.TA.26-12-A-j19-1.2.H: 8590620 at 12:23:00 ~ 8591049 at 12:29:00\n",
    "#######################################################################################################################\n",
    "\n",
    "# first let's print this trip from the modified dataframe that was used for Graph creation\n",
    "print(current_next[current_next['trip_id'] == '168.TA.26-12-A-j19-1.2.H'][ \\\n",
    "             current_next['departure_time'] >= '12:23:00'][current_next['departure_time'] <= '12:29:00'].select(\n",
    "    'trip_id', 'arrival_time', 'departure_time', 'stop_id', 'stop_sequence').collect())\n",
    "\n",
    "print('\\n')\n",
    "print(\"As we can see 8590620 is stop 6 and 8591049 is stop 10 on this route\")\n",
    "\n",
    "\n",
    "print('We will now follow the graph connection by connection and make sure all is there with correct times')\n",
    "\n",
    "\n",
    "print('Stop6 -> Stop7')\n",
    "# stop 6 going to stop 7, '8590620' -> '8590626'\n",
    "check1 = G['8590620'].departures['12:23:00']\n",
    "for connection in check1:\n",
    "    if connection[2] == '168.TA.26-12-A-j19-1.2.H':\n",
    "        check1 = connection\n",
    "print('8590620', '12:23:00', check1)\n",
    "assert check1[0] == '8590626'\n",
    "assert check1[2] == '168.TA.26-12-A-j19-1.2.H'\n",
    "\n",
    "\n",
    "print('Stop7 -> Stop8')\n",
    "# stop 7 going to stop 8, '8590626' -> '8591830'\n",
    "check1 = G['8590626'].departures['12:24:00']\n",
    "for connection in check1:\n",
    "    if connection[2] == '168.TA.26-12-A-j19-1.2.H':\n",
    "        check1 = connection\n",
    "print('8590626','12:24:00', check1)\n",
    "assert check1[0] == '8591830'\n",
    "assert check1[2] == '168.TA.26-12-A-j19-1.2.H'\n",
    "\n",
    "print('Stop8 -> Stop9')\n",
    "# stop 8 going to stop 9, '8591830' -> '8591128'\n",
    "check1 = G['8591830'].departures['12:26:00']\n",
    "for connection in check1:\n",
    "    if connection[2] == '168.TA.26-12-A-j19-1.2.H':\n",
    "        check1 = connection\n",
    "print('8591830', '12:26:00', check1)\n",
    "assert check1[0] == '8591128'\n",
    "assert check1[2] == '168.TA.26-12-A-j19-1.2.H'\n",
    "\n",
    "print('Stop9 -> Stop10')\n",
    "# stop 8 going to stop 9, '8591128' -> '8591049'\n",
    "check1 = G['8591128'].departures['12:27:00']\n",
    "for connection in check1:\n",
    "    if connection[2] == '168.TA.26-12-A-j19-1.2.H':\n",
    "        check1 = connection\n",
    "print('8591128', '12:27:00', check1)\n",
    "assert check1[0] == '8591049'\n",
    "assert check1[2] == '168.TA.26-12-A-j19-1.2.H'"
   ]
  },
  {
   "cell_type": "markdown",
   "metadata": {},
   "source": [
    "## Testing nearly identical routs\n",
    "\n",
    "u'1755.TA.26-781-j19-1.3.R'\n",
    "\n",
    "u'1891.TA.26-781-j19-1.3.R'\n",
    "\n",
    "8580449"
   ]
  },
  {
   "cell_type": "code",
   "execution_count": 59,
   "metadata": {},
   "outputs": [
    {
     "data": {
      "application/vnd.jupyter.widget-view+json": {
       "model_id": "",
       "version_major": 2,
       "version_minor": 0
      },
      "text/plain": [
       "FloatProgress(value=0.0, bar_style='info', description='Progress:', layout=Layout(height='25px', width='50%'),…"
      ]
     },
     "metadata": {},
     "output_type": "display_data"
    },
    {
     "name": "stdout",
     "output_type": "stream",
     "text": [
      "[Row(trip_id=u'1755.TA.26-781-j19-1.3.R', arrival_time=u'12:17:00', departure_time=u'12:17:00', stop_id=u'8580449', stop_sequence=1), Row(trip_id=u'1755.TA.26-781-j19-1.3.R', arrival_time=u'12:18:00', departure_time=u'12:18:00', stop_id=u'8591063', stop_sequence=2), Row(trip_id=u'1755.TA.26-781-j19-1.3.R', arrival_time=u'12:19:00', departure_time=u'12:19:00', stop_id=u'8591256', stop_sequence=3), Row(trip_id=u'1755.TA.26-781-j19-1.3.R', arrival_time=u'12:20:00', departure_time=u'12:20:00', stop_id=u'8591172', stop_sequence=4), Row(trip_id=u'1755.TA.26-781-j19-1.3.R', arrival_time=u'12:21:00', departure_time=u'12:21:00', stop_id=u'8591318', stop_sequence=5), Row(trip_id=u'1755.TA.26-781-j19-1.3.R', arrival_time=u'12:22:00', departure_time=u'12:22:00', stop_id=u'8591225', stop_sequence=6), Row(trip_id=u'1755.TA.26-781-j19-1.3.R', arrival_time=u'12:23:00', departure_time=u'12:23:00', stop_id=u'8591128', stop_sequence=7), Row(trip_id=u'1755.TA.26-781-j19-1.3.R', arrival_time=u'12:24:00', departure_time=u'12:24:00', stop_id=u'8594185', stop_sequence=8), Row(trip_id=u'1755.TA.26-781-j19-1.3.R', arrival_time=u'12:25:00', departure_time=u'12:25:00', stop_id=u'8590633', stop_sequence=9), Row(trip_id=u'1755.TA.26-781-j19-1.3.R', arrival_time=u'12:26:00', departure_time=u'12:26:00', stop_id=u'8590634', stop_sequence=10), Row(trip_id=u'1755.TA.26-781-j19-1.3.R', arrival_time=u'12:28:00', departure_time=u'12:28:00', stop_id=u'8590628', stop_sequence=11)]"
     ]
    }
   ],
   "source": [
    "current_next[current_next['trip_id'] == '1755.TA.26-781-j19-1.3.R'].select(\n",
    "    'trip_id', 'arrival_time', 'departure_time', 'stop_id', 'stop_sequence').collect()"
   ]
  },
  {
   "cell_type": "code",
   "execution_count": 62,
   "metadata": {},
   "outputs": [
    {
     "data": {
      "application/vnd.jupyter.widget-view+json": {
       "model_id": "",
       "version_major": 2,
       "version_minor": 0
      },
      "text/plain": [
       "FloatProgress(value=0.0, bar_style='info', description='Progress:', layout=Layout(height='25px', width='50%'),…"
      ]
     },
     "metadata": {},
     "output_type": "display_data"
    },
    {
     "name": "stdout",
     "output_type": "stream",
     "text": [
      "[Row(trip_id=u'1891.TA.26-781-j19-1.3.R', arrival_time=u'12:17:00', departure_time=u'12:17:00', stop_id=u'8580449', stop_sequence=1), Row(trip_id=u'1891.TA.26-781-j19-1.3.R', arrival_time=u'12:18:00', departure_time=u'12:18:00', stop_id=u'8591063', stop_sequence=2), Row(trip_id=u'1891.TA.26-781-j19-1.3.R', arrival_time=u'12:19:00', departure_time=u'12:19:00', stop_id=u'8591256', stop_sequence=3), Row(trip_id=u'1891.TA.26-781-j19-1.3.R', arrival_time=u'12:20:00', departure_time=u'12:20:00', stop_id=u'8591172', stop_sequence=4), Row(trip_id=u'1891.TA.26-781-j19-1.3.R', arrival_time=u'12:21:00', departure_time=u'12:21:00', stop_id=u'8591318', stop_sequence=5), Row(trip_id=u'1891.TA.26-781-j19-1.3.R', arrival_time=u'12:22:00', departure_time=u'12:22:00', stop_id=u'8591225', stop_sequence=6), Row(trip_id=u'1891.TA.26-781-j19-1.3.R', arrival_time=u'12:23:00', departure_time=u'12:23:00', stop_id=u'8591128', stop_sequence=7), Row(trip_id=u'1891.TA.26-781-j19-1.3.R', arrival_time=u'12:24:00', departure_time=u'12:24:00', stop_id=u'8594185', stop_sequence=8), Row(trip_id=u'1891.TA.26-781-j19-1.3.R', arrival_time=u'12:25:00', departure_time=u'12:25:00', stop_id=u'8590633', stop_sequence=9), Row(trip_id=u'1891.TA.26-781-j19-1.3.R', arrival_time=u'12:26:00', departure_time=u'12:26:00', stop_id=u'8590634', stop_sequence=10), Row(trip_id=u'1891.TA.26-781-j19-1.3.R', arrival_time=u'12:28:00', departure_time=u'12:28:00', stop_id=u'8590628', stop_sequence=11)]"
     ]
    }
   ],
   "source": [
    "current_next[current_next['trip_id'] == '1891.TA.26-781-j19-1.3.R'].select(\n",
    "    'trip_id', 'arrival_time', 'departure_time', 'stop_id', 'stop_sequence').collect()"
   ]
  },
  {
   "cell_type": "markdown",
   "metadata": {},
   "source": [
    "There are some nearly identical (sometimes fully identical) routes existing. We looked at it to make sure routing algorithm was not doing mistakes and such identical routes really exits."
   ]
  },
  {
   "cell_type": "code",
   "execution_count": null,
   "metadata": {},
   "outputs": [],
   "source": []
  }
 ],
 "metadata": {
  "kernelspec": {
   "display_name": "PySpark",
   "language": "",
   "name": "pysparkkernel"
  },
  "language_info": {
   "codemirror_mode": {
    "name": "python",
    "version": 3
   },
   "mimetype": "text/x-python",
   "name": "pyspark",
   "pygments_lexer": "python3"
  }
 },
 "nbformat": 4,
 "nbformat_minor": 4
}
