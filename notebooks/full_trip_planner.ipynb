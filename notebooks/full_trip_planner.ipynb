{
 "cells": [
  {
   "cell_type": "markdown",
   "metadata": {},
   "source": [
    "# Robust route planner\n",
    "\n",
    "\n",
    "1. [Helper functions](#Helper-Functions)\n",
    "2. [Parameters](#Parameters)\n",
    "3. [Visualisation](#Visualisation)"
   ]
  },
  {
   "cell_type": "code",
   "execution_count": 1,
   "metadata": {},
   "outputs": [
    {
     "data": {
      "text/html": [
       "Current session configs: <tt>{'conf': {'spark.app.name': 'my-awesome-group_final', 'spark.driver.memory': '2g'}, 'kind': 'pyspark'}</tt><br>"
      ],
      "text/plain": [
       "<IPython.core.display.HTML object>"
      ]
     },
     "metadata": {},
     "output_type": "display_data"
    },
    {
     "data": {
      "text/html": [
       "<table>\n",
       "<tr><th>ID</th><th>YARN Application ID</th><th>Kind</th><th>State</th><th>Spark UI</th><th>Driver log</th><th>Current session?</th></tr><tr><td>9380</td><td>application_1589299642358_3960</td><td>pyspark</td><td>idle</td><td><a target=\"_blank\" href=\"http://iccluster044.iccluster.epfl.ch:8088/proxy/application_1589299642358_3960/\">Link</a></td><td><a target=\"_blank\" href=\"http://iccluster071.iccluster.epfl.ch:8042/node/containerlogs/container_e06_1589299642358_3960_01_000001/ebouille\">Link</a></td><td></td></tr><tr><td>9389</td><td>application_1589299642358_3971</td><td>pyspark</td><td>idle</td><td><a target=\"_blank\" href=\"http://iccluster044.iccluster.epfl.ch:8088/proxy/application_1589299642358_3971/\">Link</a></td><td><a target=\"_blank\" href=\"http://iccluster070.iccluster.epfl.ch:8042/node/containerlogs/container_e06_1589299642358_3971_01_000001/ebouille\">Link</a></td><td></td></tr><tr><td>9396</td><td>application_1589299642358_3979</td><td>pyspark</td><td>busy</td><td><a target=\"_blank\" href=\"http://iccluster044.iccluster.epfl.ch:8088/proxy/application_1589299642358_3979/\">Link</a></td><td><a target=\"_blank\" href=\"http://iccluster069.iccluster.epfl.ch:8042/node/containerlogs/container_e06_1589299642358_3979_01_000001/ebouille\">Link</a></td><td></td></tr><tr><td>9397</td><td>application_1589299642358_3980</td><td>pyspark</td><td>idle</td><td><a target=\"_blank\" href=\"http://iccluster044.iccluster.epfl.ch:8088/proxy/application_1589299642358_3980/\">Link</a></td><td><a target=\"_blank\" href=\"http://iccluster069.iccluster.epfl.ch:8042/node/containerlogs/container_e06_1589299642358_3980_01_000001/ebouille\">Link</a></td><td></td></tr><tr><td>9399</td><td>application_1589299642358_3982</td><td>pyspark</td><td>idle</td><td><a target=\"_blank\" href=\"http://iccluster044.iccluster.epfl.ch:8088/proxy/application_1589299642358_3982/\">Link</a></td><td><a target=\"_blank\" href=\"http://iccluster069.iccluster.epfl.ch:8042/node/containerlogs/container_e06_1589299642358_3982_01_000001/ebouille\">Link</a></td><td></td></tr><tr><td>9401</td><td>application_1589299642358_3984</td><td>pyspark</td><td>idle</td><td><a target=\"_blank\" href=\"http://iccluster044.iccluster.epfl.ch:8088/proxy/application_1589299642358_3984/\">Link</a></td><td><a target=\"_blank\" href=\"http://iccluster065.iccluster.epfl.ch:8042/node/containerlogs/container_e06_1589299642358_3984_01_000001/ebouille\">Link</a></td><td></td></tr><tr><td>9407</td><td>application_1589299642358_3991</td><td>pyspark</td><td>busy</td><td><a target=\"_blank\" href=\"http://iccluster044.iccluster.epfl.ch:8088/proxy/application_1589299642358_3991/\">Link</a></td><td><a target=\"_blank\" href=\"http://iccluster070.iccluster.epfl.ch:8042/node/containerlogs/container_e06_1589299642358_3991_01_000001/ebouille\">Link</a></td><td></td></tr><tr><td>9408</td><td>application_1589299642358_3992</td><td>pyspark</td><td>idle</td><td><a target=\"_blank\" href=\"http://iccluster044.iccluster.epfl.ch:8088/proxy/application_1589299642358_3992/\">Link</a></td><td><a target=\"_blank\" href=\"http://iccluster071.iccluster.epfl.ch:8042/node/containerlogs/container_e06_1589299642358_3992_01_000001/ebouille\">Link</a></td><td></td></tr><tr><td>9412</td><td>application_1589299642358_3997</td><td>pyspark</td><td>idle</td><td><a target=\"_blank\" href=\"http://iccluster044.iccluster.epfl.ch:8088/proxy/application_1589299642358_3997/\">Link</a></td><td><a target=\"_blank\" href=\"http://iccluster070.iccluster.epfl.ch:8042/node/containerlogs/container_e06_1589299642358_3997_01_000001/ebouille\">Link</a></td><td></td></tr><tr><td>9413</td><td>application_1589299642358_4000</td><td>pyspark</td><td>idle</td><td><a target=\"_blank\" href=\"http://iccluster044.iccluster.epfl.ch:8088/proxy/application_1589299642358_4000/\">Link</a></td><td><a target=\"_blank\" href=\"http://iccluster066.iccluster.epfl.ch:8042/node/containerlogs/container_e06_1589299642358_4000_01_000001/ebouille\">Link</a></td><td></td></tr><tr><td>9414</td><td>application_1589299642358_4001</td><td>pyspark</td><td>busy</td><td><a target=\"_blank\" href=\"http://iccluster044.iccluster.epfl.ch:8088/proxy/application_1589299642358_4001/\">Link</a></td><td><a target=\"_blank\" href=\"http://iccluster066.iccluster.epfl.ch:8042/node/containerlogs/container_e06_1589299642358_4001_01_000001/ebouille\">Link</a></td><td></td></tr><tr><td>9416</td><td>application_1589299642358_4003</td><td>pyspark</td><td>busy</td><td><a target=\"_blank\" href=\"http://iccluster044.iccluster.epfl.ch:8088/proxy/application_1589299642358_4003/\">Link</a></td><td><a target=\"_blank\" href=\"http://iccluster072.iccluster.epfl.ch:8042/node/containerlogs/container_e06_1589299642358_4003_01_000001/ebouille\">Link</a></td><td></td></tr><tr><td>9417</td><td>application_1589299642358_4004</td><td>pyspark</td><td>idle</td><td><a target=\"_blank\" href=\"http://iccluster044.iccluster.epfl.ch:8088/proxy/application_1589299642358_4004/\">Link</a></td><td><a target=\"_blank\" href=\"http://iccluster070.iccluster.epfl.ch:8042/node/containerlogs/container_e06_1589299642358_4004_01_000002/ebouille\">Link</a></td><td></td></tr><tr><td>9418</td><td>application_1589299642358_4005</td><td>pyspark</td><td>idle</td><td><a target=\"_blank\" href=\"http://iccluster044.iccluster.epfl.ch:8088/proxy/application_1589299642358_4005/\">Link</a></td><td><a target=\"_blank\" href=\"http://iccluster068.iccluster.epfl.ch:8042/node/containerlogs/container_e06_1589299642358_4005_01_000001/ebouille\">Link</a></td><td></td></tr><tr><td>9419</td><td>application_1589299642358_4006</td><td>pyspark</td><td>idle</td><td><a target=\"_blank\" href=\"http://iccluster044.iccluster.epfl.ch:8088/proxy/application_1589299642358_4006/\">Link</a></td><td><a target=\"_blank\" href=\"http://iccluster071.iccluster.epfl.ch:8042/node/containerlogs/container_e06_1589299642358_4006_01_000001/ebouille\">Link</a></td><td></td></tr><tr><td>9420</td><td>application_1589299642358_4007</td><td>pyspark</td><td>idle</td><td><a target=\"_blank\" href=\"http://iccluster044.iccluster.epfl.ch:8088/proxy/application_1589299642358_4007/\">Link</a></td><td><a target=\"_blank\" href=\"http://iccluster071.iccluster.epfl.ch:8042/node/containerlogs/container_e06_1589299642358_4007_01_000001/ebouille\">Link</a></td><td></td></tr></table>"
      ],
      "text/plain": [
       "<IPython.core.display.HTML object>"
      ]
     },
     "metadata": {},
     "output_type": "display_data"
    }
   ],
   "source": [
    "%%configure\n",
    "{\"conf\": {\n",
    "    \"spark.app.name\": \"my-awesome-group_final\",\n",
    "    \"spark.driver.memory\": \"2g\"\n",
    "}}"
   ]
  },
  {
   "cell_type": "code",
   "execution_count": 2,
   "metadata": {},
   "outputs": [
    {
     "name": "stdout",
     "output_type": "stream",
     "text": [
      "Starting Spark application\n"
     ]
    },
    {
     "data": {
      "text/html": [
       "<table>\n",
       "<tr><th>ID</th><th>YARN Application ID</th><th>Kind</th><th>State</th><th>Spark UI</th><th>Driver log</th><th>Current session?</th></tr><tr><td>9421</td><td>application_1589299642358_4008</td><td>pyspark</td><td>idle</td><td><a target=\"_blank\" href=\"http://iccluster044.iccluster.epfl.ch:8088/proxy/application_1589299642358_4008/\">Link</a></td><td><a target=\"_blank\" href=\"http://iccluster070.iccluster.epfl.ch:8042/node/containerlogs/container_e06_1589299642358_4008_01_000001/ebouille\">Link</a></td><td>✔</td></tr></table>"
      ],
      "text/plain": [
       "<IPython.core.display.HTML object>"
      ]
     },
     "metadata": {},
     "output_type": "display_data"
    },
    {
     "data": {
      "application/vnd.jupyter.widget-view+json": {
       "model_id": "",
       "version_major": 2,
       "version_minor": 0
      },
      "text/plain": [
       "FloatProgress(value=0.0, bar_style='info', description='Progress:', layout=Layout(height='25px', width='50%'),…"
      ]
     },
     "metadata": {},
     "output_type": "display_data"
    },
    {
     "name": "stdout",
     "output_type": "stream",
     "text": [
      "SparkSession available as 'spark'.\n"
     ]
    },
    {
     "data": {
      "application/vnd.jupyter.widget-view+json": {
       "model_id": "",
       "version_major": 2,
       "version_minor": 0
      },
      "text/plain": [
       "FloatProgress(value=0.0, bar_style='info', description='Progress:', layout=Layout(height='25px', width='50%'),…"
      ]
     },
     "metadata": {},
     "output_type": "display_data"
    },
    {
     "name": "stdout",
     "output_type": "stream",
     "text": [
      "<pyspark.sql.session.SparkSession object at 0x7fe787c7b610>"
     ]
    }
   ],
   "source": [
    "# Initialization\n",
    "spark"
   ]
  },
  {
   "cell_type": "markdown",
   "metadata": {},
   "source": [
    "## Helper Functions"
   ]
  },
  {
   "cell_type": "code",
   "execution_count": 3,
   "metadata": {},
   "outputs": [
    {
     "data": {
      "application/vnd.jupyter.widget-view+json": {
       "model_id": "",
       "version_major": 2,
       "version_minor": 0
      },
      "text/plain": [
       "FloatProgress(value=0.0, bar_style='info', description='Progress:', layout=Layout(height='25px', width='50%'),…"
      ]
     },
     "metadata": {},
     "output_type": "display_data"
    }
   ],
   "source": [
    "import pandas as pd \n",
    "from math import sin, cos, sqrt, atan2, radians\n",
    "from geopy import distance as dist\n",
    "from pyspark.sql.functions import col\n",
    "from heapq import *\n",
    "import math\n",
    "import time\n",
    "import numpy as np"
   ]
  },
  {
   "cell_type": "code",
   "execution_count": 4,
   "metadata": {},
   "outputs": [
    {
     "data": {
      "application/vnd.jupyter.widget-view+json": {
       "model_id": "",
       "version_major": 2,
       "version_minor": 0
      },
      "text/plain": [
       "FloatProgress(value=0.0, bar_style='info', description='Progress:', layout=Layout(height='25px', width='50%'),…"
      ]
     },
     "metadata": {},
     "output_type": "display_data"
    }
   ],
   "source": [
    "# Convert string time to seconds\n",
    "def compute_seconds(time_string):\n",
    "    \"\"\"\n",
    "    Given time_string in the form of hh:mm:ss, computes total number of seconds\n",
    "    \"\"\"\n",
    "\n",
    "    split = time_string.split(':')\n",
    "    return int(split[0])*3600 + int(split[1])*60 + int(split[2])\n",
    "\n",
    "assert compute_seconds('02:00:01') == 7201\n",
    "\n",
    "# Convert time in seconds to string\n",
    "def compute_string(seconds):\n",
    "    \"\"\"\n",
    "    Given seconds returns string corresponding to the time of the day\n",
    "    \"\"\"\n",
    "    hour = seconds // 3600\n",
    "    minute = (seconds - hour*3600) // 60\n",
    "    second = seconds % 60\n",
    "    return '%02d:%02d:%02d'%(hour, minute, second)\n",
    "\n",
    "assert compute_string(300) == '00:05:00' and compute_string(43503) == '12:05:03'\n",
    "\n",
    "# Compute difference between time strings\n",
    "def compute_duration_between(time_string1, time_string2):\n",
    "    \"\"\"\n",
    "    Computes how much time passed from time_string1 to time_string2\n",
    "    \"\"\"\n",
    "    return compute_seconds(time_string2) - compute_seconds(time_string1)\n",
    "\n",
    "assert compute_duration_between('08:00:00', '08:05:00') == 300"
   ]
  },
  {
   "cell_type": "code",
   "execution_count": 5,
   "metadata": {},
   "outputs": [
    {
     "data": {
      "application/vnd.jupyter.widget-view+json": {
       "model_id": "",
       "version_major": 2,
       "version_minor": 0
      },
      "text/plain": [
       "FloatProgress(value=0.0, bar_style='info', description='Progress:', layout=Layout(height='25px', width='50%'),…"
      ]
     },
     "metadata": {},
     "output_type": "display_data"
    }
   ],
   "source": [
    "# cell to communicate with hdfs\n",
    "import subprocess, pickle\n",
    "\n",
    "def run_cmd(args_list):\n",
    "    \"\"\"Run linux commands.\"\"\"\n",
    "    print('Running system command: {0}'.format(' '.join(args_list)))    \n",
    "    proc = subprocess.Popen(args_list,                            \n",
    "                            stdout=subprocess.PIPE,                            \n",
    "                            stderr=subprocess.PIPE)    \n",
    "    s_output, s_err = proc.communicate()    \n",
    "    s_return =  proc.returncode\n",
    "    return s_return, s_output, s_err\n",
    "\n",
    "\n",
    "def save_hdfs(localPath, hdfsPath):\n",
    "    \n",
    "    (ret, out, err)= run_cmd(['hdfs','dfs','-put','-f', localPath, hdfsPath])\n",
    "    if err:\n",
    "        print(err)\n",
    "    else:\n",
    "        print('Success')\n",
    "        \n",
    "def read_hdfs(hdfsPath):\n",
    "    \n",
    "    (ret, out, err)= run_cmd(['hdfs','dfs','-cat', hdfsPath])\n",
    "    if err:\n",
    "        print(err)\n",
    "    else:\n",
    "        print('Success')\n",
    "    return pickle.loads(out)"
   ]
  },
  {
   "cell_type": "code",
   "execution_count": 6,
   "metadata": {},
   "outputs": [
    {
     "data": {
      "application/vnd.jupyter.widget-view+json": {
       "model_id": "",
       "version_major": 2,
       "version_minor": 0
      },
      "text/plain": [
       "FloatProgress(value=0.0, bar_style='info', description='Progress:', layout=Layout(height='25px', width='50%'),…"
      ]
     },
     "metadata": {},
     "output_type": "display_data"
    }
   ],
   "source": [
    "# Graph station node\n",
    "class StationNode:\n",
    "    \"\"\"\n",
    "    Class for station node, that will keep a list of arrival/departures given by trips as well\n",
    "    as walking distances\n",
    "    \"\"\"\n",
    "    \n",
    "    def __init__(self, station_id):\n",
    "    \n",
    "        self.station_id = station_id\n",
    "        self.departures = dict()\n",
    "        self.arrivals = dict()  \n",
    "        self.walkable_stations = dict()\n",
    " \n",
    "    def add_walkable_station(self, stop_id, duration):\n",
    "        \"\"\"\n",
    "        Add walkable station and duration to get there\n",
    "        \"\"\"\n",
    "        if stop_id not in self.walkable_stations:\n",
    "            self.walkable_stations[stop_id] = duration\n",
    "\n",
    "    def add_arrival(self, time, arrival):\n",
    "        \"\"\"\n",
    "        Arrivals are in the form of\n",
    "        \"\"\"\n",
    "        if time not in self.arrivals:\n",
    "            self.arrivals[time] = []\n",
    "            \n",
    "        self.arrivals[time].append(arrival)\n",
    "        \n",
    "    def add_departure(self, time, departure):\n",
    "        \"\"\"\n",
    "        Departure are in the form of\n",
    "        \"\"\"\n",
    "        if time not in self.departures:\n",
    "            self.departures[time] = []\n",
    "            \n",
    "        self.departures[time].append(departure)\n",
    "        \n",
    "    def to_tuple(self):\n",
    "        \"\"\"\n",
    "        Convert class object to tuple\n",
    "        \"\"\"\n",
    "        return (self.station_id, self.departures, self.arrivals, self.walkable_stations)\n",
    "    \n",
    "    def from_tuple(self, class_tuple):\n",
    "        \"\"\"\n",
    "        Read class fields from tuple\n",
    "        \"\"\"\n",
    "        self.station_id = class_tuple[0]\n",
    "        self.departures = class_tuple[1]\n",
    "        self.arrivals = class_tuple[2]\n",
    "        self.walkable_stations = class_tuple[3]\n",
    "        \n",
    "        return self\n",
    "        \n",
    "def dictnodes_tolist(station_nodes):\n",
    "    \"\"\"\n",
    "    Convert dictionary of StationNodes to list of node tuples\n",
    "    \"\"\"\n",
    "    tolist = []\n",
    "    for stop_id in station_nodes:\n",
    "        try:\n",
    "            tolist.append(station_nodes[stop_id].to_tuple())\n",
    "        except:\n",
    "            raise Exception(stop_id)\n",
    "        \n",
    "    return tolist\n",
    "        \n",
    "def list_todictnodes(fromlist):\n",
    "    \"\"\"\n",
    "    Convert list of node tuples into dictionary of StationNodes\n",
    "    \"\"\"\n",
    "    todict = dict()\n",
    "    for node_tuple in fromlist:\n",
    "        todict[node_tuple[0]] = StationNode(node_tuple[0]).from_tuple(node_tuple)\n",
    "        \n",
    "    return todict"
   ]
  },
  {
   "cell_type": "markdown",
   "metadata": {},
   "source": [
    "Predictions"
   ]
  },
  {
   "cell_type": "code",
   "execution_count": 7,
   "metadata": {},
   "outputs": [
    {
     "data": {
      "application/vnd.jupyter.widget-view+json": {
       "model_id": "",
       "version_major": 2,
       "version_minor": 0
      },
      "text/plain": [
       "FloatProgress(value=0.0, bar_style='info', description='Progress:', layout=Layout(height='25px', width='50%'),…"
      ]
     },
     "metadata": {},
     "output_type": "display_data"
    }
   ],
   "source": [
    "from geopy import distance as dist\n",
    "import pandas as pd\n",
    "from os import path\n",
    "import math\n",
    "\n",
    "from geopy import distance as dist\n",
    "import pandas as pd\n",
    "from os import path\n",
    "import math\n",
    "\n",
    "\n",
    "# Prediction function\n",
    "def transfer_success_probability(stop1_id, trip1_id, trip1_arrival_time, stop2_id, trip2_id, trip2_departure_time,  verbose=False, norm=True):\n",
    "    # Extract time in seconds and day period from time string\n",
    "    trip1_arr_seconds, trip1_day_period = get_time_info(trip1_arrival_time)\n",
    "    trip2_dep_seconds, trip2_day_period = get_time_info(trip2_departure_time)\n",
    "\n",
    "    # Compute the transfer time surplus\n",
    "    schedule_difference = trip2_dep_seconds - trip1_arr_seconds\n",
    "    \n",
    "    if schedule_difference > 3600:\n",
    "        return 1\n",
    "    minimum_transfer_time = 120\n",
    "    walking_time = compute_walk_time(stop1_id, stop2_id)\n",
    "\n",
    "    transfer_time_surplus = schedule_difference - walking_time - minimum_transfer_time\n",
    "\n",
    "    avg_arrival_delay, std_arrival_delay = get_prediction_data(stop1_id, trip1_id, trip1_day_period, is_arrival=True)\n",
    "    \n",
    "    if trip2_id == 'Terminus':\n",
    "        avg_departure_delay = 0\n",
    "        std_departure_delay = 0\n",
    "        transfer_time_surplus += minimum_transfer_time # Do not require the mininum two minutes for terminus transfer\n",
    "    else:\n",
    "        avg_departure_delay, std_departure_delay = get_prediction_data(stop2_id, trip2_id, trip2_day_period, is_arrival=False)\n",
    "\n",
    "    if verbose:\n",
    "        print(\"Schedule difference: {}\".format(schedule_difference))\n",
    "        print(\"Walking time: {}\".format(walking_time))\n",
    "        print(\"Transfer_time_surplus: {}\".format(transfer_time_surplus))\n",
    "        print(\"Mean arrival delay: {}\".format(avg_arrival_delay))\n",
    "        print(\"Mean departure delay: {}\".format(avg_departure_delay))\n",
    "        \n",
    "    if norm:\n",
    "        return compute_uncertainty_norm(avg_arrival_delay, std_arrival_delay, avg_departure_delay, std_departure_delay, transfer_time_surplus)\n",
    "\n",
    "    return compute_uncertainty(avg_arrival_delay, avg_departure_delay, transfer_time_surplus)\n",
    "\n",
    "\n",
    "# Prediction function for terminus\n",
    "def terminus_success_probability(last_stop_id,\n",
    "                                 last_trip_id,\n",
    "                                 last_trip_arrival_time,\n",
    "                                 terminus_stop_id,\n",
    "                                 terminus_time,\n",
    "                                 verbose=False):\n",
    "    return transfer_success_probability(last_stop_id,\n",
    "                                        last_trip_id,\n",
    "                                        last_trip_arrival_time,\n",
    "                                        terminus_stop_id,\n",
    "                                        'Terminus',\n",
    "                                        terminus_time,\n",
    "                                        verbose)\n",
    "\n",
    "# Return day period given the hour\n",
    "def get_day_period(hour):\n",
    "    if hour < 10:\n",
    "        return 1\n",
    "    elif hour < 16:\n",
    "        return 2\n",
    "    elif hour < 19:\n",
    "        return 3\n",
    "    else:\n",
    "        return 4\n",
    "\n",
    "\n",
    "    return dist.distance((lat1, lon1), (lat2, lon2)).km * 1200  # 1200 secondes to make 1 km (corresponds to 50m/min)\n",
    "\n",
    "\n",
    "# Return time in seconds and day period from time string\n",
    "def get_time_info(time_string):\n",
    "    \"\"\"\n",
    "    Given time_string in the form of hh:mm:ss, computes total number of seconds\n",
    "    \"\"\"\n",
    "    split = time_string.split(':')\n",
    "    seconds = int(split[0]) * 3600 + int(split[1]) * 60 + int(split[2])\n",
    "    day_period = get_day_period(int(split[0]))\n",
    "\n",
    "    return seconds, day_period\n",
    "\n",
    "# Load a file from pickle or hdfs accordingly\n",
    "def get_pred_file(hdfs_path):\n",
    "    file_name = hdfs_path.split(\"/\")[-1]\n",
    "    if path.exists(file_name):\n",
    "        return pd.read_pickle(file_name)\n",
    "    else:\n",
    "        loaded_df = pd.DataFrame(read_hdfs(hdfs_path))\n",
    "        loaded_df.to_pickle(file_name)\n",
    "        return pd.DataFrame(loaded_df)\n",
    "\n",
    "# Return the prediction parameters given a trip and station\n",
    "def get_prediction_data(stop_id, trip_id, day_period, is_arrival):\n",
    "\n",
    "    delay_column = ['mean_arrival_delay', 'std_arrival_delay'] if is_arrival else ['mean_departure_delay','std_departure_delay']\n",
    "\n",
    "    prediction_param = full_pred[(full_pred['stop_id'] == stop_id)\n",
    "                                 & (full_pred['trip_id'] == trip_id)\n",
    "                                 & (full_pred['day_period'] == day_period)][delay_column]\n",
    "\n",
    "    if len(prediction_param) == 0:\n",
    "        prediction_param = stop_pred[(stop_pred['stop_id'] == stop_id)\n",
    "                                     & (stop_pred['day_period'] == day_period)][delay_column]\n",
    "\n",
    "    if len(prediction_param) == 0:\n",
    "        prediction_param = period_pred[(period_pred['day_period'] == day_period)][delay_column]\n",
    "\n",
    "    return prediction_param.values[0]\n",
    "\n",
    "\n",
    "# Compute the cdf of the exponential distrubution of delay time loss\n",
    "def compute_uncertainty(avg_arr_delay, avg_dep_delay, transfer_time_surplus):\n",
    "        \n",
    "    if transfer_time_surplus <= 0:\n",
    "        if avg_dep_delay == 0:\n",
    "            return 0\n",
    "        return avg_dep_delay / (avg_arr_delay + avg_dep_delay) * math.exp(transfer_time_surplus / avg_dep_delay)\n",
    "    else:\n",
    "        if avg_arr_delay == 0:\n",
    "            return 1\n",
    "        return 1 - avg_arr_delay / (avg_arr_delay + avg_dep_delay) * math.exp(-transfer_time_surplus / avg_arr_delay)\n",
    "\n",
    "from scipy.stats import norm\n",
    "\n",
    "# Compute the cdf of normal approximation of delay time loss\n",
    "def compute_uncertainty_norm(avg_arr_delay, std_arr_delay, avg_dep_delay, std_dep_delay, transfer_time_surplus):\n",
    "    \n",
    "    avg_time_loss = avg_arr_delay - avg_dep_delay\n",
    "    std_time_loss = math.sqrt(math.pow(avg_arr_delay,2)  + math.pow(avg_dep_delay,2))\n",
    "    \n",
    "    return norm.cdf(transfer_time_surplus, avg_time_loss, std_time_loss)\n",
    "\n",
    "\n",
    "\n",
    "# Compute the duration to walk between two stops\n",
    "def compute_walk_time(stop_id_1, stop_id_2):\n",
    "    \n",
    "    stop1 = stops[stops.index == stop_id_1]\n",
    "    \n",
    "    if len(stop1) == 0:\n",
    "        print('Stop1 is missing, can\\'t compute walk time for {}'.format(stop_id_1))\n",
    "        return 0\n",
    "    \n",
    "    lat1 = float(stop1['stop_lat'].values[0])\n",
    "    lon1 = float(stop1['stop_lon'].values[0])\n",
    "    \n",
    "\n",
    "    stop2 = stops[stops.index == stop_id_2]\n",
    "    \n",
    "    if len(stop2) == 0:\n",
    "        print('Stop2 is missing, can\\'t compute walk time for {}'.format(stop_id_2))\n",
    "        return 0\n",
    "    \n",
    "    lat2 = float(stop2['stop_lat'].values[0])\n",
    "    lon2 = float(stop2['stop_lon'].values[0])\n",
    "\n",
    "    return dist.distance((lat1, lon1), (lat2, lon2)).km * 1200  # 1200 secondes to make 1 km (corresponds to 50m/min)"
   ]
  },
  {
   "cell_type": "code",
   "execution_count": 8,
   "metadata": {},
   "outputs": [
    {
     "data": {
      "application/vnd.jupyter.widget-view+json": {
       "model_id": "",
       "version_major": 2,
       "version_minor": 0
      },
      "text/plain": [
       "FloatProgress(value=0.0, bar_style='info', description='Progress:', layout=Layout(height='25px', width='50%'),…"
      ]
     },
     "metadata": {},
     "output_type": "display_data"
    }
   ],
   "source": [
    "# Filter and sort results based on probabilities    \n",
    "def get_res_proba(answ):\n",
    "    arr = []\n",
    "    res = get_answ(answ)\n",
    "    for r in res:\n",
    "        proba, full_trip_info, transfers_info = journey_success_probability(r[1])\n",
    "        arr.append([proba, full_trip_info, transfers_info, r[0]])\n",
    "    return arr\n",
    "\n",
    "# Extract trips for algorithm output\n",
    "def get_answ(answ):\n",
    "    result = []\n",
    "    refined = []\n",
    "    for i,tp in enumerate(answ):\n",
    "        path = deepcopy(tp[1])\n",
    "        path.reverse()\n",
    "        path = [(p[0], compute_string(p[1]), p[2], p[3]) for p in path]\n",
    "        refined.append((tp[0]/60, path))\n",
    "        \n",
    "        result.append((tp[0]/60, combine_same_trips(path)))\n",
    "    return result\n",
    "\n",
    "# write just one value if the path is same:\n",
    "def combine_same_trips(path):\n",
    "    renewed_path = []\n",
    "    for connection in path:\n",
    "        #print(connection)\n",
    "        if (len(renewed_path) > 0) and (renewed_path[-1][2] == connection[2]):\n",
    "            renewed_path[-1] = (renewed_path[-1][0],\n",
    "                                renewed_path[-1][1],\n",
    "                                renewed_path[-1][2],\n",
    "                                compute_string(compute_seconds(renewed_path[-1][3]) + compute_seconds(connection[3])))\n",
    "        else:\n",
    "            renewed_path.append(connection)\n",
    "    return renewed_path\n",
    "\n",
    "# Compute the success probability for each transfer of a journey\n",
    "def journey_success_probability(result):\n",
    "    full_trip_info = []\n",
    "    transfers_info = []\n",
    "    \n",
    "    for i, trip in enumerate(result):\n",
    "    \n",
    "        if trip[2] == 'walk':\n",
    "            if len(full_trip_info) != 0:\n",
    "                full_trip_info[-1][2] = trip[0]\n",
    "                \n",
    "        elif trip[2] == 'Terminus':\n",
    "        \n",
    "            if full_trip_info[-1][2] == None:\n",
    "                full_trip_info[-1][2] = trip[0]\n",
    "            \n",
    "            \n",
    "            # Terminus transfer:\n",
    "            transfers_info.append([full_trip_info[-1][2], full_trip_info[-1][4], full_trip_info[- 1][3], trip[0], trip[2], trip[1], None])\n",
    "                \n",
    "            proba = 1\n",
    "            \n",
    "            for tr in transfers_info:\n",
    "                tr_proba = transfer_success_probability(stop1_id= tr[0], \n",
    "                                             trip1_id=tr[1], \n",
    "                                             trip1_arrival_time=tr[2], \n",
    "                                             stop2_id=tr[3], \n",
    "                                             trip2_id=tr[4], \n",
    "                                             trip2_departure_time=tr[5])\n",
    "                \n",
    "                tr[6] = tr_proba\n",
    "                proba = tr_proba * proba\n",
    "        else:\n",
    "        \n",
    "            if len(full_trip_info) != 0:\n",
    "                if full_trip_info[-1][2] == None:\n",
    "                    full_trip_info[-1][2] = trip[0]\n",
    "                transfers_info.append([full_trip_info[-1][2], full_trip_info[-1][4], full_trip_info[- 1][3], trip[0], trip[2], trip[1], None])\n",
    "            \n",
    "            full_trip_info.append([trip[0], trip[1], None, add_string_time(trip[1],trip[3]), trip[2]])\n",
    "        \n",
    "    return proba, full_trip_info, transfers_info\n",
    "\n",
    "# Sum two string time\n",
    "def add_string_time(t1, t2):\n",
    "    return compute_string(compute_seconds(t1) + compute_seconds(t2))\n",
    "\n",
    "\n",
    "# Print nicely the trip planner output\n",
    "def pretty_print(probas, trip_info, transfers_info, duration, threshold):\n",
    "    outstring = u'\\n#################################################################\\n\\n'\n",
    "    \n",
    "    for i in range(len(probas)):\n",
    "        if probas[i] < threshold:\n",
    "            continue\n",
    "        outstring += u'\\n Option {}'.format(i+1)\n",
    "        outstring +=u'\\n#################################################################\\n'\n",
    "        trip_time = math.ceil(duration[i])\n",
    "        outstring += u'Trip Time: {}\\n'.format(trip_time)\n",
    "        outstring += u'Trip success proba: {}\\n'.format(probas[i])\n",
    "        outstring += u'-----------\\n'\n",
    "        outstring += u'|Directions|\\n'\n",
    "        outstring += u'------------\\n\\n'\n",
    "        outstring += u'---------------------------------------------------------------------------------------------------------------\\n'\n",
    "        outstring += u'|{:>20}|{:>30}|{:>20}|{:>20}|{:>30}|{:>20}|{:>30}|\\n'.format('Start Stop', 'Start Name', 'Departure Time', 'End Stop', 'End Name', 'Arrival Time',  'Trip Name')\n",
    "        outstring += u'---------------------------------------------------------------------------------------------------------------\\n'\n",
    "        for trip in trip_info[i]:\n",
    "            outstring += u'|{:>20}|{:>30}|{:>20}|{:>20}|{:>30}|{:>20}|{:>30}|\\n'.format(trip[0], stops.loc[trip[0]][u'stop_name'], trip[1], trip[2],stops.loc[trip[2]][u'stop_name'], trip[3], trip[4])\n",
    "        outstring += u'---------------------------------------------------------------------------------------------------------------\\n'\n",
    "        outstring += u'-----------\\n'\n",
    "        outstring += u'|Transfers|\\n'\n",
    "        outstring += u'------------\\n\\n'\n",
    "        outstring += u'---------------------------------------------------------------------------------------------------------------\\n'\n",
    "        outstring += u'|{:>20}|{:>30}|{:>20}|{:>20}|{:>30}|{:>20}|{:>20}|\\n'.format('Arrival Stop', 'Arrival Trip Name', 'Arrival Time', 'Departure Stop', 'Departure Trip Name', 'Departure Time','Success Proba')\n",
    "        outstring += u'---------------------------------------------------------------------------------------------------------------\\n'\n",
    "        for tr in transfers_info[i]:\n",
    "            outstring += u'|{:>20}|{:>30}|{:>20}|{:>20}|{:>30}|{:>20}|{:>20}|\\n'.format(tr[0], tr[1], tr[2], tr[3], tr[4], tr[5], tr[6])\n",
    "        outstring += u'---------------------------------------------------------------------------------------------------------------\\n'\n",
    "        outstring +=u'\\n#################################################################\\n'\n",
    "        \n",
    "    return outstring\n",
    "        \n",
    "        \n",
    "    \n",
    "# Extract the routes, tranfers, time and probablities using routing algorithm output and uncertainty interval.\n",
    "def get_result_sorted(answ, uncertainty_threshold):\n",
    "    res = get_res_proba(answ)\n",
    "    \n",
    "    probas = [r[0] for r in res]\n",
    "    trip_info = [r[1] for r in res]\n",
    "    transfers_info = [r[2] for r in res]\n",
    "    duration = [r[3] for r in res]\n",
    "    \n",
    "    printable = pretty_print(probas, trip_info, transfers_info, duration, uncertainty_threshold)\n",
    "    \n",
    "    return printable\n",
    "    "
   ]
  },
  {
   "cell_type": "code",
   "execution_count": 9,
   "metadata": {},
   "outputs": [
    {
     "data": {
      "application/vnd.jupyter.widget-view+json": {
       "model_id": "",
       "version_major": 2,
       "version_minor": 0
      },
      "text/plain": [
       "FloatProgress(value=0.0, bar_style='info', description='Progress:', layout=Layout(height='25px', width='50%'),…"
      ]
     },
     "metadata": {},
     "output_type": "display_data"
    }
   ],
   "source": [
    "from copy import deepcopy\n",
    "\n",
    "# Routing algorithm\n",
    "def k_shortest(start_stop, end_stop,sbb_network, all_stops, K, T, count_u, threshold=None, remove_same=True):\n",
    "    \"\"\"\n",
    "    Implementation of k shortest path given the threshold if threshold is not None\n",
    "    K path starts from destinations and finds path to source backwards\n",
    "    \n",
    "    Pierre return probability of transfer given start_station, end_station, departure_time, arrival_time(latest)\n",
    "    \"\"\"\n",
    "    # set of shortest paths from s to t\n",
    "    P = []\n",
    "\n",
    "    # containing path, maintaining heap data structure\n",
    "    h_paths = [] \n",
    "\n",
    "    # initialize number of shortes path found to each node to 0\n",
    "    for node in all_stops:\n",
    "        count_u[node] = 0\n",
    "        \n",
    "    # min cost of the path\n",
    "    min_cost = []\n",
    "\n",
    "    # insert path from last stop with cost 0   \n",
    "    # we have ( cost_of_path(time it lasts), \n",
    "    #  [(station, time_at_station_seconds, route/walk/terminus, duration, probability_of_success) ..])\n",
    "    heappush(h_paths, (0, [(end_stop, T, 'Terminus', '00:00:00', 1)]))\n",
    "\n",
    "    # while we have possible paths and found shortest paths from start+stop aren't already K\n",
    "    while h_paths and count_u[start_stop] < K:\n",
    "\n",
    "        C, shortes_path_T = heappop(h_paths)\n",
    "\n",
    "        # read the first node and its corresponding time on shortest path\n",
    "        first_node_on_path = shortes_path_T[-1][0]\n",
    "        first_node_time = shortes_path_T[-1][1]\n",
    "        trip = shortes_path_T[-1][2]\n",
    "        succ_prob = shortes_path_T[-1][4]\n",
    "        #print('stop', first_node_on_path,'time', first_node_time, start_stop)\n",
    "\n",
    "        # update number of paths\n",
    "        count_u[first_node_on_path] += 1\n",
    "\n",
    "        if first_node_on_path == start_stop:\n",
    "            if C in min_cost and remove_same:\n",
    "                count_u[first_node_on_path] -= 1\n",
    "                continue\n",
    "            min_cost.append(C)\n",
    "            P.append((C, shortes_path_T))\n",
    "\n",
    "        if count_u[first_node_on_path] <= K:\n",
    "\n",
    "            # return Node of the first stop on the path\n",
    "            u_node = sbb_network[first_node_on_path]\n",
    "\n",
    "            # iterate over stations that can reach the first stop on the path by transport\n",
    "            for time_edge in u_node.arrivals:\n",
    "                \n",
    "                # get the time these stations arrive at the first stop of our path\n",
    "                arrival_time = compute_seconds(time_edge)\n",
    "                \n",
    "                \n",
    "                # traverse all the incoming stations for time_edge time\n",
    "                for station_edge in u_node.arrivals[time_edge]:\n",
    "                    \n",
    "                    \n",
    "                    # transfer time to the new trip (possible platform) of the same station, 0 if the same trip\n",
    "                    transfer_time = 2 * 60 if station_edge[2] != trip and trip != 'Terminus' else 0\n",
    "                    \n",
    "                    # check if one can make with this station_edge\n",
    "                    if  arrival_time > first_node_time - transfer_time:\n",
    "                        continue\n",
    "                        \n",
    "                    updated_probe=1\n",
    "                    # check that probability of making will still be above the threshold\n",
    "                    if threshold is not None and station_edge[2] != trip:\n",
    "\n",
    "                        \n",
    "                        if trip == 'Terminus':\n",
    "                            # prev_stop_id, prev_stop_tripid, arrival_time, final_stop, final_arrival_time\n",
    "                            n_proba = terminus_success_probability(end_stop, station_edge[2], time_edge, end_stop, compute_string(T))\n",
    "                            \n",
    "                        elif trip != 'walk':\n",
    "                            # prev_stop_id, prev_stop_tripid, arrival_time, depart_stop, dep_trip, departure_time\n",
    "                            n_proba = transfer_success_probability(first_node_on_path, station_edge[2], time_edge, first_node_on_path,trip,compute_string(first_node_time))\n",
    "                            \n",
    "                        else:\n",
    "                            n_proba = transfer_success_probability(first_node_on_path, station_edge[2], time_edge, shortes_path_T[-2][0],shortes_path_T[-2][2],compute_string(shortes_path_T[-2][1]))\n",
    "                            \n",
    "                            \n",
    "                        \n",
    "                        # compute cumulated probability of success\n",
    "                        if succ_prob * n_proba < threshold:\n",
    "                            continue\n",
    "                        \n",
    "                        updated_probe = succ_prob * n_proba\n",
    "                        \n",
    "                    departure_time = compute_seconds(station_edge[1])\n",
    "\n",
    "                    new_path = deepcopy(shortes_path_T)\n",
    "                    new_path.append((station_edge[0], departure_time, station_edge[2], \n",
    "                                     compute_string(arrival_time-departure_time), updated_probe))\n",
    "\n",
    "                    # insert new nodes into the heap\n",
    "                    heappush(h_paths, \n",
    "                             (C + first_node_time - departure_time, \n",
    "                             new_path))  \n",
    "\n",
    "            # iterate over walkable station, assume 2 mn delay for connection         \n",
    "            for station_id in u_node.walkable_stations:\n",
    "                # if it is not the same station and previous wasnt also walk\n",
    "                if station_id != first_node_on_path and trip != 'walk':\n",
    "\n",
    "                    new_path = deepcopy(shortes_path_T)\n",
    "                    new_path.append((station_id, first_node_time - u_node.walkable_stations[station_id] - 2*60, \n",
    "                                     'walk', compute_string(u_node.walkable_stations[station_id]),succ_prob))\n",
    "\n",
    "                    # insert new nodes into the heap\n",
    "                    heappush(h_paths, \n",
    "                             (C + u_node.walkable_stations[station_id] + 2*60, \n",
    "                             new_path))  \n",
    "    return P\n",
    "                "
   ]
  },
  {
   "cell_type": "markdown",
   "metadata": {},
   "source": [
    "## Parameters"
   ]
  },
  {
   "cell_type": "code",
   "execution_count": 10,
   "metadata": {},
   "outputs": [
    {
     "data": {
      "application/vnd.jupyter.widget-view+json": {
       "model_id": "",
       "version_major": 2,
       "version_minor": 0
      },
      "text/plain": [
       "FloatProgress(value=0.0, bar_style='info', description='Progress:', layout=Layout(height='25px', width='50%'),…"
      ]
     },
     "metadata": {},
     "output_type": "display_data"
    },
    {
     "name": "stdout",
     "output_type": "stream",
     "text": [
      "Running system command: hdfs dfs -cat /user/lortkipa/graph_untested_classTuples.pkl\n",
      "Success"
     ]
    }
   ],
   "source": [
    "# Load the graph model\n",
    "G = read_hdfs('/user/lortkipa/graph_untested_classTuples.pkl')\n",
    "G = list_todictnodes(G)"
   ]
  },
  {
   "cell_type": "code",
   "execution_count": 11,
   "metadata": {},
   "outputs": [
    {
     "data": {
      "application/vnd.jupyter.widget-view+json": {
       "model_id": "",
       "version_major": 2,
       "version_minor": 0
      },
      "text/plain": [
       "FloatProgress(value=0.0, bar_style='info', description='Progress:', layout=Layout(height='25px', width='50%'),…"
      ]
     },
     "metadata": {},
     "output_type": "display_data"
    },
    {
     "name": "stdout",
     "output_type": "stream",
     "text": [
      "Running system command: hdfs dfs -cat /user/lortkipa/filtered_stops_Premoved.pkl\n",
      "Success"
     ]
    }
   ],
   "source": [
    "# Load stops and their names\n",
    "stops = read_hdfs('/user/lortkipa/filtered_stops_Premoved.pkl')\n",
    "stops = stops.set_index('stop_id')"
   ]
  },
  {
   "cell_type": "code",
   "execution_count": 12,
   "metadata": {},
   "outputs": [
    {
     "data": {
      "application/vnd.jupyter.widget-view+json": {
       "model_id": "",
       "version_major": 2,
       "version_minor": 0
      },
      "text/plain": [
       "FloatProgress(value=0.0, bar_style='info', description='Progress:', layout=Layout(height='25px', width='50%'),…"
      ]
     },
     "metadata": {},
     "output_type": "display_data"
    },
    {
     "name": "stdout",
     "output_type": "stream",
     "text": [
      "Running system command: hdfs dfs -cat /user/lortkipa/period_prediction_df.pkl\n",
      "Success\n",
      "Running system command: hdfs dfs -cat /user/lortkipa/stop_prediction_df.pkl\n",
      "Success\n",
      "Running system command: hdfs dfs -cat /user/lortkipa/full_prediction_df.pkl\n",
      "Success"
     ]
    }
   ],
   "source": [
    "# Load prediction dataframes\n",
    "period_pred = get_pred_file('/user/lortkipa/period_prediction_df.pkl')\n",
    "stop_pred = get_pred_file('/user/lortkipa/stop_prediction_df.pkl')\n",
    "full_pred = get_pred_file('/user/lortkipa/full_prediction_df.pkl')"
   ]
  },
  {
   "cell_type": "markdown",
   "metadata": {},
   "source": [
    "## Evaluation"
   ]
  },
  {
   "cell_type": "markdown",
   "metadata": {},
   "source": [
    "## Test 1\n",
    "start =  Zürich HB (8503000) to Zürich\n",
    "\n",
    "end = Auzelg (8591049)\n",
    "\n",
    "arrival = '12:30:00'\n",
    "\n",
    "Possible Solutions:\n",
    "\n",
    "<b>Route 1:</b>\n",
    "\n",
    "20.TA.26-9-A-j19-1.2.H: 8503000:0:41/42 at 12:07:00 ~ 8503310:0:3 at 12:17:00\n",
    "\n",
    "Walking: 8503310:0:3 ~ 8590620\n",
    "\n",
    "168.TA.26-12-A-j19-1.2.H: 8590620 at 12:23:00 ~ 8591049 at 12:29:00\n",
    "\n",
    "\n",
    "<b>Route 2:</b>\n",
    "\n",
    "32.TA.80-159-Y-j19-1.8.H: 8503000:0:5 at 12:05:00 ~ 8503006:0:6 at 12:11:00\n",
    "\n",
    "Walking: 8503006:0:6 ~ 8580449\n",
    "\n",
    "1914.TA.26-11-A-j19-1.27.R: 8580449 at 12:15:00 ~ 8591049 at 12:24:00"
   ]
  },
  {
   "cell_type": "code",
   "execution_count": 13,
   "metadata": {},
   "outputs": [
    {
     "data": {
      "application/vnd.jupyter.widget-view+json": {
       "model_id": "",
       "version_major": 2,
       "version_minor": 0
      },
      "text/plain": [
       "FloatProgress(value=0.0, bar_style='info', description='Progress:', layout=Layout(height='25px', width='50%'),…"
      ]
     },
     "metadata": {},
     "output_type": "display_data"
    }
   ],
   "source": [
    "# General function that computes the best trips to take given users parameters\n",
    "def compute_journey(start_stop, end_stop, end_time, threshold):\n",
    "    T = compute_seconds(end_time)\n",
    "    K = 10\n",
    "    uncertainty_threshold = threshold\n",
    "    # disctionary for number of shortest paths found from each node\n",
    "    count_u = dict()\n",
    "\n",
    "    # SBB network used for the algorithm\n",
    "    sbb_network = G\n",
    "    # all possible nodes/stations\n",
    "    all_stops = G.keys()\n",
    "\n",
    "    answ = k_shortest(start_stop, end_stop, sbb_network, all_stops, K, T, count_u, threshold=None, remove_same=False)\n",
    "    \n",
    "    res = get_res_proba(answ)\n",
    "    \n",
    "    probas = [r[0] for r in res]\n",
    "    \n",
    "    if (sum([int(p > threshold) for p in probas]) == 0):\n",
    "        K = 2\n",
    "        answ = k_shortest(start_stop, end_stop, sbb_network, all_stops, K, T, count_u,threshold = threshold, remove_same=False)\n",
    "        \n",
    "    \n",
    "    return get_result_sorted(answ, threshold)\n",
    "    "
   ]
  },
  {
   "cell_type": "code",
   "execution_count": 14,
   "metadata": {},
   "outputs": [
    {
     "data": {
      "application/vnd.jupyter.widget-view+json": {
       "model_id": "",
       "version_major": 2,
       "version_minor": 0
      },
      "text/plain": [
       "FloatProgress(value=0.0, bar_style='info', description='Progress:', layout=Layout(height='25px', width='50%'),…"
      ]
     },
     "metadata": {},
     "output_type": "display_data"
    },
    {
     "name": "stdout",
     "output_type": "stream",
     "text": [
      "\n",
      "#################################################################\n",
      "\n",
      "\n",
      " Option 1\n",
      "#################################################################\n",
      "Trip Time: 23.0\n",
      "Trip success proba: 0.568759410313\n",
      "-----------\n",
      "|Directions|\n",
      "------------\n",
      "\n",
      "---------------------------------------------------------------------------------------------------------------\n",
      "|          Start Stop|                    Start Name|      Departure Time|            End Stop|                      End Name|        Arrival Time|                     Trip Name|\n",
      "---------------------------------------------------------------------------------------------------------------\n",
      "|             8503000|                     Zürich HB|            12:07:00|             8503310|                    Glattbrugg|            12:16:00|        20.TA.26-9-A-j19-1.2.H|\n",
      "|             8590620|           Glattbrugg, Bahnhof|            12:23:00|             8591049|                Zürich, Auzelg|            12:29:00|      168.TA.26-12-A-j19-1.2.H|\n",
      "---------------------------------------------------------------------------------------------------------------\n",
      "-----------\n",
      "|Transfers|\n",
      "------------\n",
      "\n",
      "---------------------------------------------------------------------------------------------------------------\n",
      "|        Arrival Stop|             Arrival Trip Name|        Arrival Time|      Departure Stop|           Departure Trip Name|      Departure Time|       Success Proba|\n",
      "---------------------------------------------------------------------------------------------------------------\n",
      "|             8503310|        20.TA.26-9-A-j19-1.2.H|            12:16:00|             8590620|      168.TA.26-12-A-j19-1.2.H|            12:23:00|       0.99489791878|\n",
      "|             8591049|      168.TA.26-12-A-j19-1.2.H|            12:29:00|             8591049|                      Terminus|            12:30:00|      0.571676148454|\n",
      "---------------------------------------------------------------------------------------------------------------\n",
      "\n",
      "#################################################################\n",
      "\n",
      " Option 2\n",
      "#################################################################\n",
      "Trip Time: 25.0\n",
      "Trip success proba: 0.524366145885\n",
      "-----------\n",
      "|Directions|\n",
      "------------\n",
      "\n",
      "---------------------------------------------------------------------------------------------------------------\n",
      "|          Start Stop|                    Start Name|      Departure Time|            End Stop|                      End Name|        Arrival Time|                     Trip Name|\n",
      "---------------------------------------------------------------------------------------------------------------\n",
      "|             8503000|                     Zürich HB|            12:05:00|             8503006|               Zürich Oerlikon|            12:11:00|      32.TA.80-159-Y-j19-1.8.H|\n",
      "|             8580449|      Zürich Oerlikon, Bahnhof|            12:17:00|             8591128|         Zürich, Fernsehstudio|            12:23:00|      1755.TA.26-781-j19-1.3.R|\n",
      "|             8591128|         Zürich, Fernsehstudio|            12:27:00|             8591049|                Zürich, Auzelg|            12:29:00|      168.TA.26-12-A-j19-1.2.H|\n",
      "---------------------------------------------------------------------------------------------------------------\n",
      "-----------\n",
      "|Transfers|\n",
      "------------\n",
      "\n",
      "---------------------------------------------------------------------------------------------------------------\n",
      "|        Arrival Stop|             Arrival Trip Name|        Arrival Time|      Departure Stop|           Departure Trip Name|      Departure Time|       Success Proba|\n",
      "---------------------------------------------------------------------------------------------------------------\n",
      "|             8503006|      32.TA.80-159-Y-j19-1.8.H|            12:11:00|             8580449|      1755.TA.26-781-j19-1.3.R|            12:17:00|      0.978433698572|\n",
      "|             8591128|      1755.TA.26-781-j19-1.3.R|            12:23:00|             8591128|      168.TA.26-12-A-j19-1.2.H|            12:27:00|       0.93746091531|\n",
      "|             8591049|      168.TA.26-12-A-j19-1.2.H|            12:29:00|             8591049|                      Terminus|            12:30:00|      0.571676148454|\n",
      "---------------------------------------------------------------------------------------------------------------\n",
      "\n",
      "#################################################################\n",
      "\n",
      " Option 3\n",
      "#################################################################\n",
      "Trip Time: 25.0\n",
      "Trip success proba: 0.524366145885\n",
      "-----------\n",
      "|Directions|\n",
      "------------\n",
      "\n",
      "---------------------------------------------------------------------------------------------------------------\n",
      "|          Start Stop|                    Start Name|      Departure Time|            End Stop|                      End Name|        Arrival Time|                     Trip Name|\n",
      "---------------------------------------------------------------------------------------------------------------\n",
      "|             8503000|                     Zürich HB|            12:05:00|             8503006|               Zürich Oerlikon|            12:11:00|      32.TA.80-159-Y-j19-1.8.H|\n",
      "|             8580449|      Zürich Oerlikon, Bahnhof|            12:17:00|             8591128|         Zürich, Fernsehstudio|            12:23:00|      1891.TA.26-781-j19-1.3.R|\n",
      "|             8591128|         Zürich, Fernsehstudio|            12:27:00|             8591049|                Zürich, Auzelg|            12:29:00|      168.TA.26-12-A-j19-1.2.H|\n",
      "---------------------------------------------------------------------------------------------------------------\n",
      "-----------\n",
      "|Transfers|\n",
      "------------\n",
      "\n",
      "---------------------------------------------------------------------------------------------------------------\n",
      "|        Arrival Stop|             Arrival Trip Name|        Arrival Time|      Departure Stop|           Departure Trip Name|      Departure Time|       Success Proba|\n",
      "---------------------------------------------------------------------------------------------------------------\n",
      "|             8503006|      32.TA.80-159-Y-j19-1.8.H|            12:11:00|             8580449|      1891.TA.26-781-j19-1.3.R|            12:17:00|      0.978433698572|\n",
      "|             8591128|      1891.TA.26-781-j19-1.3.R|            12:23:00|             8591128|      168.TA.26-12-A-j19-1.2.H|            12:27:00|       0.93746091531|\n",
      "|             8591049|      168.TA.26-12-A-j19-1.2.H|            12:29:00|             8591049|                      Terminus|            12:30:00|      0.571676148454|\n",
      "---------------------------------------------------------------------------------------------------------------\n",
      "\n",
      "#################################################################\n",
      "\n",
      " Option 4\n",
      "#################################################################\n",
      "Trip Time: 25.0\n",
      "Trip success proba: 0.531921866037\n",
      "-----------\n",
      "|Directions|\n",
      "------------\n",
      "\n",
      "---------------------------------------------------------------------------------------------------------------\n",
      "|          Start Stop|                    Start Name|      Departure Time|            End Stop|                      End Name|        Arrival Time|                     Trip Name|\n",
      "---------------------------------------------------------------------------------------------------------------\n",
      "|             8503000|                     Zürich HB|            12:05:00|             8503006|               Zürich Oerlikon|            12:11:00|      32.TA.80-159-Y-j19-1.8.H|\n",
      "|             8503006|               Zürich Oerlikon|            12:15:00|             8503310|                    Glattbrugg|            12:17:00|        20.TA.26-9-A-j19-1.2.H|\n",
      "|             8590620|           Glattbrugg, Bahnhof|            12:23:00|             8591049|                Zürich, Auzelg|            12:29:00|      168.TA.26-12-A-j19-1.2.H|\n",
      "---------------------------------------------------------------------------------------------------------------\n",
      "-----------\n",
      "|Transfers|\n",
      "------------\n",
      "\n",
      "---------------------------------------------------------------------------------------------------------------\n",
      "|        Arrival Stop|             Arrival Trip Name|        Arrival Time|      Departure Stop|           Departure Trip Name|      Departure Time|       Success Proba|\n",
      "---------------------------------------------------------------------------------------------------------------\n",
      "|             8503006|      32.TA.80-159-Y-j19-1.8.H|            12:11:00|             8503006|        20.TA.26-9-A-j19-1.2.H|            12:15:00|      0.952139294931|\n",
      "|             8503310|        20.TA.26-9-A-j19-1.2.H|            12:17:00|             8590620|      168.TA.26-12-A-j19-1.2.H|            12:23:00|      0.977231104264|\n",
      "|             8591049|      168.TA.26-12-A-j19-1.2.H|            12:29:00|             8591049|                      Terminus|            12:30:00|      0.571676148454|\n",
      "---------------------------------------------------------------------------------------------------------------\n",
      "\n",
      "#################################################################\n",
      "\n",
      " Option 5\n",
      "#################################################################\n",
      "Trip Time: 25.0\n",
      "Trip success proba: 0.303568879714\n",
      "-----------\n",
      "|Directions|\n",
      "------------\n",
      "\n",
      "---------------------------------------------------------------------------------------------------------------\n",
      "|          Start Stop|                    Start Name|      Departure Time|            End Stop|                      End Name|        Arrival Time|                     Trip Name|\n",
      "---------------------------------------------------------------------------------------------------------------\n",
      "|             8503000|                     Zürich HB|            12:05:00|             8503006|               Zürich Oerlikon|            12:11:00|      32.TA.80-159-Y-j19-1.8.H|\n",
      "|             8580449|      Zürich Oerlikon, Bahnhof|            12:17:00|             8591256|         Zürich, Leutschenbach|            12:19:00|      1755.TA.26-781-j19-1.3.R|\n",
      "|             8591256|         Zürich, Leutschenbach|            12:22:00|             8591830|          Glattpark, Glattpark|            12:24:00|      1488.TA.26-10-j19-1.11.R|\n",
      "|             8591830|          Glattpark, Glattpark|            12:26:00|             8591049|                Zürich, Auzelg|            12:29:00|      168.TA.26-12-A-j19-1.2.H|\n",
      "---------------------------------------------------------------------------------------------------------------\n",
      "-----------\n",
      "|Transfers|\n",
      "------------\n",
      "\n",
      "---------------------------------------------------------------------------------------------------------------\n",
      "|        Arrival Stop|             Arrival Trip Name|        Arrival Time|      Departure Stop|           Departure Trip Name|      Departure Time|       Success Proba|\n",
      "---------------------------------------------------------------------------------------------------------------\n",
      "|             8503006|      32.TA.80-159-Y-j19-1.8.H|            12:11:00|             8580449|      1755.TA.26-781-j19-1.3.R|            12:17:00|      0.978433698572|\n",
      "|             8591256|      1755.TA.26-781-j19-1.3.R|            12:19:00|             8591256|      1488.TA.26-10-j19-1.11.R|            12:22:00|      0.832115334858|\n",
      "|             8591830|      1488.TA.26-10-j19-1.11.R|            12:24:00|             8591830|      168.TA.26-12-A-j19-1.2.H|            12:26:00|      0.652217199693|\n",
      "|             8591049|      168.TA.26-12-A-j19-1.2.H|            12:29:00|             8591049|                      Terminus|            12:30:00|      0.571676148454|\n",
      "---------------------------------------------------------------------------------------------------------------\n",
      "\n",
      "#################################################################\n",
      "\n",
      " Option 6\n",
      "#################################################################\n",
      "Trip Time: 25.0\n",
      "Trip success proba: 0.303568879714\n",
      "-----------\n",
      "|Directions|\n",
      "------------\n",
      "\n",
      "---------------------------------------------------------------------------------------------------------------\n",
      "|          Start Stop|                    Start Name|      Departure Time|            End Stop|                      End Name|        Arrival Time|                     Trip Name|\n",
      "---------------------------------------------------------------------------------------------------------------\n",
      "|             8503000|                     Zürich HB|            12:05:00|             8503006|               Zürich Oerlikon|            12:11:00|      32.TA.80-159-Y-j19-1.8.H|\n",
      "|             8580449|      Zürich Oerlikon, Bahnhof|            12:17:00|             8591256|         Zürich, Leutschenbach|            12:19:00|      1891.TA.26-781-j19-1.3.R|\n",
      "|             8591256|         Zürich, Leutschenbach|            12:22:00|             8591830|          Glattpark, Glattpark|            12:24:00|      1488.TA.26-10-j19-1.11.R|\n",
      "|             8591830|          Glattpark, Glattpark|            12:26:00|             8591049|                Zürich, Auzelg|            12:29:00|      168.TA.26-12-A-j19-1.2.H|\n",
      "---------------------------------------------------------------------------------------------------------------\n",
      "-----------\n",
      "|Transfers|\n",
      "------------\n",
      "\n",
      "---------------------------------------------------------------------------------------------------------------\n",
      "|        Arrival Stop|             Arrival Trip Name|        Arrival Time|      Departure Stop|           Departure Trip Name|      Departure Time|       Success Proba|\n",
      "---------------------------------------------------------------------------------------------------------------\n",
      "|             8503006|      32.TA.80-159-Y-j19-1.8.H|            12:11:00|             8580449|      1891.TA.26-781-j19-1.3.R|            12:17:00|      0.978433698572|\n",
      "|             8591256|      1891.TA.26-781-j19-1.3.R|            12:19:00|             8591256|      1488.TA.26-10-j19-1.11.R|            12:22:00|      0.832115334858|\n",
      "|             8591830|      1488.TA.26-10-j19-1.11.R|            12:24:00|             8591830|      168.TA.26-12-A-j19-1.2.H|            12:26:00|      0.652217199693|\n",
      "|             8591049|      168.TA.26-12-A-j19-1.2.H|            12:29:00|             8591049|                      Terminus|            12:30:00|      0.571676148454|\n",
      "---------------------------------------------------------------------------------------------------------------\n",
      "\n",
      "#################################################################\n",
      "\n",
      " Option 7\n",
      "#################################################################\n",
      "Trip Time: 25.0\n",
      "Trip success proba: 0.363057988341\n",
      "-----------\n",
      "|Directions|\n",
      "------------\n",
      "\n",
      "---------------------------------------------------------------------------------------------------------------\n",
      "|          Start Stop|                    Start Name|      Departure Time|            End Stop|                      End Name|        Arrival Time|                     Trip Name|\n",
      "---------------------------------------------------------------------------------------------------------------\n",
      "|             8503000|                     Zürich HB|            12:05:00|             8503006|               Zürich Oerlikon|            12:11:00|      32.TA.80-159-Y-j19-1.8.H|\n",
      "|             8591063|  Zürich Oerlikon, Bahnhof Ost|            12:20:00|             8591830|          Glattpark, Glattpark|            12:24:00|      1488.TA.26-10-j19-1.11.R|\n",
      "|             8591830|          Glattpark, Glattpark|            12:26:00|             8591049|                Zürich, Auzelg|            12:29:00|      168.TA.26-12-A-j19-1.2.H|\n",
      "---------------------------------------------------------------------------------------------------------------\n",
      "-----------\n",
      "|Transfers|\n",
      "------------\n",
      "\n",
      "---------------------------------------------------------------------------------------------------------------\n",
      "|        Arrival Stop|             Arrival Trip Name|        Arrival Time|      Departure Stop|           Departure Trip Name|      Departure Time|       Success Proba|\n",
      "---------------------------------------------------------------------------------------------------------------\n",
      "|             8503006|      32.TA.80-159-Y-j19-1.8.H|            12:11:00|             8591063|      1488.TA.26-10-j19-1.11.R|            12:20:00|      0.973719072201|\n",
      "|             8591830|      1488.TA.26-10-j19-1.11.R|            12:24:00|             8591830|      168.TA.26-12-A-j19-1.2.H|            12:26:00|      0.652217199693|\n",
      "|             8591049|      168.TA.26-12-A-j19-1.2.H|            12:29:00|             8591049|                      Terminus|            12:30:00|      0.571676148454|\n",
      "---------------------------------------------------------------------------------------------------------------\n",
      "\n",
      "#################################################################\n",
      "\n",
      " Option 8\n",
      "#################################################################\n",
      "Trip Time: 25.0\n",
      "Trip success proba: 0.237939185047\n",
      "-----------\n",
      "|Directions|\n",
      "------------\n",
      "\n",
      "---------------------------------------------------------------------------------------------------------------\n",
      "|          Start Stop|                    Start Name|      Departure Time|            End Stop|                      End Name|        Arrival Time|                     Trip Name|\n",
      "---------------------------------------------------------------------------------------------------------------\n",
      "|             8503000|                     Zürich HB|            12:05:00|             8503006|               Zürich Oerlikon|            12:11:00|      32.TA.80-159-Y-j19-1.8.H|\n",
      "|             8580449|      Zürich Oerlikon, Bahnhof|            12:17:00|             8591063|  Zürich Oerlikon, Bahnhof Ost|            12:18:00|      1755.TA.26-781-j19-1.3.R|\n",
      "|             8591063|  Zürich Oerlikon, Bahnhof Ost|            12:20:00|             8591830|          Glattpark, Glattpark|            12:24:00|      1488.TA.26-10-j19-1.11.R|\n",
      "|             8591830|          Glattpark, Glattpark|            12:26:00|             8591049|                Zürich, Auzelg|            12:29:00|      168.TA.26-12-A-j19-1.2.H|\n",
      "---------------------------------------------------------------------------------------------------------------\n",
      "-----------\n",
      "|Transfers|\n",
      "------------\n",
      "\n",
      "---------------------------------------------------------------------------------------------------------------\n",
      "|        Arrival Stop|             Arrival Trip Name|        Arrival Time|      Departure Stop|           Departure Trip Name|      Departure Time|       Success Proba|\n",
      "---------------------------------------------------------------------------------------------------------------\n",
      "|             8503006|      32.TA.80-159-Y-j19-1.8.H|            12:11:00|             8580449|      1755.TA.26-781-j19-1.3.R|            12:17:00|      0.978433698572|\n",
      "|             8591063|      1755.TA.26-781-j19-1.3.R|            12:18:00|             8591063|      1488.TA.26-10-j19-1.11.R|            12:20:00|      0.652217199693|\n",
      "|             8591830|      1488.TA.26-10-j19-1.11.R|            12:24:00|             8591830|      168.TA.26-12-A-j19-1.2.H|            12:26:00|      0.652217199693|\n",
      "|             8591049|      168.TA.26-12-A-j19-1.2.H|            12:29:00|             8591049|                      Terminus|            12:30:00|      0.571676148454|\n",
      "---------------------------------------------------------------------------------------------------------------\n",
      "\n",
      "#################################################################\n",
      "\n",
      " Option 9\n",
      "#################################################################\n",
      "Trip Time: 25.0\n",
      "Trip success proba: 0.237939185047\n",
      "-----------\n",
      "|Directions|\n",
      "------------\n",
      "\n",
      "---------------------------------------------------------------------------------------------------------------\n",
      "|          Start Stop|                    Start Name|      Departure Time|            End Stop|                      End Name|        Arrival Time|                     Trip Name|\n",
      "---------------------------------------------------------------------------------------------------------------\n",
      "|             8503000|                     Zürich HB|            12:05:00|             8503006|               Zürich Oerlikon|            12:11:00|      32.TA.80-159-Y-j19-1.8.H|\n",
      "|             8580449|      Zürich Oerlikon, Bahnhof|            12:17:00|             8591063|  Zürich Oerlikon, Bahnhof Ost|            12:18:00|      1891.TA.26-781-j19-1.3.R|\n",
      "|             8591063|  Zürich Oerlikon, Bahnhof Ost|            12:20:00|             8591830|          Glattpark, Glattpark|            12:24:00|      1488.TA.26-10-j19-1.11.R|\n",
      "|             8591830|          Glattpark, Glattpark|            12:26:00|             8591049|                Zürich, Auzelg|            12:29:00|      168.TA.26-12-A-j19-1.2.H|\n",
      "---------------------------------------------------------------------------------------------------------------\n",
      "-----------\n",
      "|Transfers|\n",
      "------------\n",
      "\n",
      "---------------------------------------------------------------------------------------------------------------\n",
      "|        Arrival Stop|             Arrival Trip Name|        Arrival Time|      Departure Stop|           Departure Trip Name|      Departure Time|       Success Proba|\n",
      "---------------------------------------------------------------------------------------------------------------\n",
      "|             8503006|      32.TA.80-159-Y-j19-1.8.H|            12:11:00|             8580449|      1891.TA.26-781-j19-1.3.R|            12:17:00|      0.978433698572|\n",
      "|             8591063|      1891.TA.26-781-j19-1.3.R|            12:18:00|             8591063|      1488.TA.26-10-j19-1.11.R|            12:20:00|      0.652217199693|\n",
      "|             8591830|      1488.TA.26-10-j19-1.11.R|            12:24:00|             8591830|      168.TA.26-12-A-j19-1.2.H|            12:26:00|      0.652217199693|\n",
      "|             8591049|      168.TA.26-12-A-j19-1.2.H|            12:29:00|             8591049|                      Terminus|            12:30:00|      0.571676148454|\n",
      "---------------------------------------------------------------------------------------------------------------\n",
      "\n",
      "#################################################################\n",
      "\n",
      " Option 10\n",
      "#################################################################\n",
      "Trip Time: 29.0\n",
      "Trip success proba: 0.535876713558\n",
      "-----------\n",
      "|Directions|\n",
      "------------\n",
      "\n",
      "---------------------------------------------------------------------------------------------------------------\n",
      "|          Start Stop|                    Start Name|      Departure Time|            End Stop|                      End Name|        Arrival Time|                     Trip Name|\n",
      "---------------------------------------------------------------------------------------------------------------\n",
      "|             8503000|                     Zürich HB|            12:01:00|             8503006|               Zürich Oerlikon|            12:08:00|      248.TA.26-6-A-j19-1.45.H|\n",
      "|             8580449|      Zürich Oerlikon, Bahnhof|            12:17:00|             8591128|         Zürich, Fernsehstudio|            12:23:00|      1755.TA.26-781-j19-1.3.R|\n",
      "|             8591128|         Zürich, Fernsehstudio|            12:27:00|             8591049|                Zürich, Auzelg|            12:29:00|      168.TA.26-12-A-j19-1.2.H|\n",
      "---------------------------------------------------------------------------------------------------------------\n",
      "-----------\n",
      "|Transfers|\n",
      "------------\n",
      "\n",
      "---------------------------------------------------------------------------------------------------------------\n",
      "|        Arrival Stop|             Arrival Trip Name|        Arrival Time|      Departure Stop|           Departure Trip Name|      Departure Time|       Success Proba|\n",
      "---------------------------------------------------------------------------------------------------------------\n",
      "|             8503006|      248.TA.26-6-A-j19-1.45.H|            12:08:00|             8580449|      1755.TA.26-781-j19-1.3.R|            12:17:00|      0.999911681827|\n",
      "|             8591128|      1755.TA.26-781-j19-1.3.R|            12:23:00|             8591128|      168.TA.26-12-A-j19-1.2.H|            12:27:00|       0.93746091531|\n",
      "|             8591049|      168.TA.26-12-A-j19-1.2.H|            12:29:00|             8591049|                      Terminus|            12:30:00|      0.571676148454|\n",
      "---------------------------------------------------------------------------------------------------------------\n",
      "\n",
      "#################################################################"
     ]
    }
   ],
   "source": [
    "# Test the function with an example\n",
    "res = compute_journey('8503000', '8591049', '12:30:00', 0.2)\n",
    "print(res)"
   ]
  },
  {
   "cell_type": "markdown",
   "metadata": {},
   "source": [
    "# Visualisation"
   ]
  },
  {
   "cell_type": "code",
   "execution_count": 15,
   "metadata": {},
   "outputs": [
    {
     "data": {
      "application/vnd.jupyter.widget-view+json": {
       "model_id": "e197a570717943a6aa0e23f824321fbb",
       "version_major": 2,
       "version_minor": 0
      },
      "text/plain": [
       "VBox(children=(Box(children=(Label(value='Tolerance'), IntSlider(value=0)), layout=Layout(display='flex', flex…"
      ]
     },
     "metadata": {},
     "output_type": "display_data"
    },
    {
     "data": {
      "application/vnd.jupyter.widget-view+json": {
       "model_id": "c56a5fc6bf684baf92c2ce3b92d0aee4",
       "version_major": 2,
       "version_minor": 0
      },
      "text/plain": [
       "Output()"
      ]
     },
     "metadata": {},
     "output_type": "display_data"
    }
   ],
   "source": [
    "%%local\n",
    "from IPython.display import display\n",
    "from IPython import get_ipython\n",
    "from IPython.display import clear_output\n",
    "from ipywidgets import widgets, Layout, Box, Button, Label, Dropdown, FloatText, Text\n",
    "\n",
    "\n",
    "form_item_layout = Layout(\n",
    "    display='flex',\n",
    "    flex_flow='row',\n",
    "    justify_content='space-between'\n",
    ")\n",
    "\n",
    "tolerance_data = widgets.IntSlider(min=0, max=100)\n",
    "origin_data = Text(value='8503000')\n",
    "destination_data = Text(value='8591049')\n",
    "time_data = Text(value='12:30:00')\n",
    "\n",
    "\n",
    "\n",
    "tolerance = Box([Label(value='Tolerance'), tolerance_data], layout=form_item_layout)\n",
    "origin =   Box([Label(value='Origin ID'), origin_data],  layout=form_item_layout)\n",
    "destination =  Box([Label(value='Destination ID'), destination_data],  layout=form_item_layout)\n",
    "time =   Box([Label(value='Maximum Arrival time (hh:mm:ss)'), time_data],  layout=form_item_layout)\n",
    "search =  Button(description='Search')\n",
    "search1 = Box([Label(value=''), search],  layout=form_item_layout)\n",
    "elements = widgets.VBox(children=[tolerance, origin, destination, time, search1], layout=Layout(\n",
    "    display='flex',\n",
    "    flex_flow='column',\n",
    "    border='solid 2px',\n",
    "    align_items='stretch',\n",
    "    width='50%'\n",
    "))\n",
    "display(elements)\n",
    "\n",
    "output = widgets.Output()\n",
    "\n",
    "\n",
    "@output.capture()\n",
    "def on_button_clicked(b):\n",
    "    clear_output(wait=True)\n",
    "    ipy = get_ipython()\n",
    "    print(\"Selected options are:\\n - Tolerance: {}\\n - Origin: {}\\n - Destination: {}\\n - Arrival time: {}\".format(tolerance_data.value/100, \n",
    "                                                                                                                   origin_data.value, \n",
    "                                                                                                                   destination_data.value, \n",
    "                                                                                                                   time_data.value))\n",
    "    \n",
    "          \n",
    "    start_stop =  origin_data.value  \n",
    "    end_stop = destination_data.value  \n",
    "    T = time_data.value \n",
    "    uncertainty = str(tolerance_data.value/100)\n",
    "          \n",
    "    ipy.push('T')\n",
    "    ipy.push('start_stop')\n",
    "    ipy.push('end_stop')\n",
    "    ipy.push('uncertainty')\n",
    "    \n",
    "    ipy.run_cell_magic(\"send_to_spark\", \"-i T -n T -t str\", \" \")\n",
    "    ipy.run_cell_magic(\"send_to_spark\", \"-i start_stop -n start_stop -t str\", \" \")\n",
    "    ipy.run_cell_magic(\"send_to_spark\", \"-i end_stop -n end_stop -t str\", \" \")\n",
    "    ipy.run_cell_magic(\"send_to_spark\", \"-i uncertainty -n uncertainty -t str\", \" \")\n",
    "    \n",
    "    ipy.run_cell_magic(\n",
    "        \"spark\", '',\n",
    "        \"print(compute_journey(start_stop, end_stop, T, float(uncertainty)))\"\n",
    "    )\n",
    "\n",
    "search.on_click(on_button_clicked)\n",
    "display(output)"
   ]
  }
 ],
 "metadata": {
  "kernelspec": {
   "display_name": "PySpark",
   "language": "",
   "name": "pysparkkernel"
  },
  "language_info": {
   "codemirror_mode": {
    "name": "python",
    "version": 3
   },
   "mimetype": "text/x-python",
   "name": "pyspark",
   "pygments_lexer": "python3"
  }
 },
 "nbformat": 4,
 "nbformat_minor": 4
}
