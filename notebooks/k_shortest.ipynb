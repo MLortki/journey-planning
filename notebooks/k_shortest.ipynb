{
 "cells": [
  {
   "cell_type": "markdown",
   "metadata": {},
   "source": [
    "# K shortest paths\n",
    "\n",
    "For discovering the latest time one can leave to arrive not later than the specified time from one station to another, we use modified <b>k shortest path</b> algorithm. More specifically, our algorithm is a constrained shortest paths algorithm. All the possibilites we consider is that it must be a valid route on the the public transport infrastructure and schedule and arrive not later than the given time. Additionally, we tried to integrate threshold into the method as well as you can see, however we still left both options there for an integrated approach.\n",
    "\n",
    "The algorithm itself in the k_shortest notebook starts from the last (target) station and adds trips from new stations at each step according to <b>G</b> making sure such connections are feasible in time and allowed 2 minutes of transfer whenever the trip_id changes. Additionally, we also allow 2 minute transfer time (mostly for getting out of the transport, since it usually takes time) when walking from one station to the other, in additional to walking time. We make sure we only keep 15 shortest paths from any source to the destination, thus limiting algorithm complexity and making it more feasible regarding its time asymptotics. \n",
    "\n",
    "We used ground truth given by TAs as well as manually generated samples using SBB wesbite and timetable. Our algorithm passed our tests and more details can be found in validation section of the notebook."
   ]
  },
  {
   "cell_type": "markdown",
   "metadata": {},
   "source": [
    "Content of the notebook:\n",
    "\n",
    "0. Helper Functions\n",
    "1. Parameters/ Variables\n",
    "3. K shortest path algorithm\n",
    "4. Validation/Evaluation"
   ]
  },
  {
   "cell_type": "code",
   "execution_count": 1,
   "metadata": {},
   "outputs": [
    {
     "data": {
      "text/html": [
       "Current session configs: <tt>{'conf': {'spark.app.name': 'my-awesome-group_final', 'spark.driver.memory': '2g'}, 'kind': 'pyspark'}</tt><br>"
      ],
      "text/plain": [
       "<IPython.core.display.HTML object>"
      ]
     },
     "metadata": {},
     "output_type": "display_data"
    },
    {
     "data": {
      "text/html": [
       "<table>\n",
       "<tr><th>ID</th><th>YARN Application ID</th><th>Kind</th><th>State</th><th>Spark UI</th><th>Driver log</th><th>Current session?</th></tr><tr><td>8491</td><td>application_1589299642358_3026</td><td>pyspark</td><td>idle</td><td><a target=\"_blank\" href=\"http://iccluster044.iccluster.epfl.ch:8088/proxy/application_1589299642358_3026/\">Link</a></td><td><a target=\"_blank\" href=\"http://iccluster065.iccluster.epfl.ch:8042/node/containerlogs/container_e06_1589299642358_3026_01_000001/ebouille\">Link</a></td><td></td></tr><tr><td>8521</td><td>application_1589299642358_3056</td><td>pyspark</td><td>idle</td><td><a target=\"_blank\" href=\"http://iccluster044.iccluster.epfl.ch:8088/proxy/application_1589299642358_3056/\">Link</a></td><td><a target=\"_blank\" href=\"http://iccluster071.iccluster.epfl.ch:8042/node/containerlogs/container_e06_1589299642358_3056_01_000001/ebouille\">Link</a></td><td></td></tr><tr><td>8639</td><td>application_1589299642358_3164</td><td>pyspark</td><td>idle</td><td><a target=\"_blank\" href=\"http://iccluster044.iccluster.epfl.ch:8088/proxy/application_1589299642358_3164/\">Link</a></td><td><a target=\"_blank\" href=\"http://iccluster067.iccluster.epfl.ch:8042/node/containerlogs/container_e06_1589299642358_3164_01_000001/ebouille\">Link</a></td><td></td></tr><tr><td>8642</td><td>application_1589299642358_3167</td><td>pyspark</td><td>idle</td><td><a target=\"_blank\" href=\"http://iccluster044.iccluster.epfl.ch:8088/proxy/application_1589299642358_3167/\">Link</a></td><td><a target=\"_blank\" href=\"http://iccluster068.iccluster.epfl.ch:8042/node/containerlogs/container_e06_1589299642358_3167_01_000001/ebouille\">Link</a></td><td></td></tr><tr><td>8693</td><td>application_1589299642358_3218</td><td>pyspark</td><td>idle</td><td><a target=\"_blank\" href=\"http://iccluster044.iccluster.epfl.ch:8088/proxy/application_1589299642358_3218/\">Link</a></td><td><a target=\"_blank\" href=\"http://iccluster072.iccluster.epfl.ch:8042/node/containerlogs/container_e06_1589299642358_3218_01_000001/ebouille\">Link</a></td><td></td></tr><tr><td>8695</td><td>application_1589299642358_3220</td><td>pyspark</td><td>idle</td><td><a target=\"_blank\" href=\"http://iccluster044.iccluster.epfl.ch:8088/proxy/application_1589299642358_3220/\">Link</a></td><td><a target=\"_blank\" href=\"http://iccluster066.iccluster.epfl.ch:8042/node/containerlogs/container_e06_1589299642358_3220_01_000001/ebouille\">Link</a></td><td></td></tr><tr><td>8696</td><td>application_1589299642358_3221</td><td>pyspark</td><td>idle</td><td><a target=\"_blank\" href=\"http://iccluster044.iccluster.epfl.ch:8088/proxy/application_1589299642358_3221/\">Link</a></td><td><a target=\"_blank\" href=\"http://iccluster071.iccluster.epfl.ch:8042/node/containerlogs/container_e06_1589299642358_3221_01_000001/ebouille\">Link</a></td><td></td></tr><tr><td>8697</td><td>application_1589299642358_3222</td><td>pyspark</td><td>idle</td><td><a target=\"_blank\" href=\"http://iccluster044.iccluster.epfl.ch:8088/proxy/application_1589299642358_3222/\">Link</a></td><td><a target=\"_blank\" href=\"http://iccluster065.iccluster.epfl.ch:8042/node/containerlogs/container_e06_1589299642358_3222_01_000001/ebouille\">Link</a></td><td></td></tr><tr><td>8698</td><td>application_1589299642358_3223</td><td>pyspark</td><td>idle</td><td><a target=\"_blank\" href=\"http://iccluster044.iccluster.epfl.ch:8088/proxy/application_1589299642358_3223/\">Link</a></td><td><a target=\"_blank\" href=\"http://iccluster072.iccluster.epfl.ch:8042/node/containerlogs/container_e06_1589299642358_3223_01_000001/ebouille\">Link</a></td><td></td></tr><tr><td>8700</td><td>application_1589299642358_3225</td><td>pyspark</td><td>idle</td><td><a target=\"_blank\" href=\"http://iccluster044.iccluster.epfl.ch:8088/proxy/application_1589299642358_3225/\">Link</a></td><td><a target=\"_blank\" href=\"http://iccluster069.iccluster.epfl.ch:8042/node/containerlogs/container_e06_1589299642358_3225_01_000001/ebouille\">Link</a></td><td></td></tr><tr><td>8702</td><td>application_1589299642358_3227</td><td>pyspark</td><td>idle</td><td><a target=\"_blank\" href=\"http://iccluster044.iccluster.epfl.ch:8088/proxy/application_1589299642358_3227/\">Link</a></td><td><a target=\"_blank\" href=\"http://iccluster065.iccluster.epfl.ch:8042/node/containerlogs/container_e06_1589299642358_3227_01_000001/ebouille\">Link</a></td><td></td></tr><tr><td>8703</td><td>application_1589299642358_3228</td><td>pyspark</td><td>idle</td><td><a target=\"_blank\" href=\"http://iccluster044.iccluster.epfl.ch:8088/proxy/application_1589299642358_3228/\">Link</a></td><td><a target=\"_blank\" href=\"http://iccluster071.iccluster.epfl.ch:8042/node/containerlogs/container_e06_1589299642358_3228_01_000001/ebouille\">Link</a></td><td></td></tr><tr><td>8705</td><td>application_1589299642358_3230</td><td>pyspark</td><td>idle</td><td><a target=\"_blank\" href=\"http://iccluster044.iccluster.epfl.ch:8088/proxy/application_1589299642358_3230/\">Link</a></td><td><a target=\"_blank\" href=\"http://iccluster068.iccluster.epfl.ch:8042/node/containerlogs/container_e06_1589299642358_3230_01_000001/ebouille\">Link</a></td><td></td></tr><tr><td>8707</td><td>application_1589299642358_3232</td><td>pyspark</td><td>busy</td><td><a target=\"_blank\" href=\"http://iccluster044.iccluster.epfl.ch:8088/proxy/application_1589299642358_3232/\">Link</a></td><td><a target=\"_blank\" href=\"http://iccluster070.iccluster.epfl.ch:8042/node/containerlogs/container_e06_1589299642358_3232_01_000001/ebouille\">Link</a></td><td></td></tr><tr><td>8708</td><td>application_1589299642358_3233</td><td>pyspark</td><td>idle</td><td><a target=\"_blank\" href=\"http://iccluster044.iccluster.epfl.ch:8088/proxy/application_1589299642358_3233/\">Link</a></td><td><a target=\"_blank\" href=\"http://iccluster069.iccluster.epfl.ch:8042/node/containerlogs/container_e06_1589299642358_3233_01_000001/ebouille\">Link</a></td><td></td></tr><tr><td>8709</td><td>application_1589299642358_3234</td><td>pyspark</td><td>idle</td><td><a target=\"_blank\" href=\"http://iccluster044.iccluster.epfl.ch:8088/proxy/application_1589299642358_3234/\">Link</a></td><td><a target=\"_blank\" href=\"http://iccluster068.iccluster.epfl.ch:8042/node/containerlogs/container_e06_1589299642358_3234_01_000001/ebouille\">Link</a></td><td></td></tr><tr><td>8711</td><td>application_1589299642358_3236</td><td>pyspark</td><td>busy</td><td><a target=\"_blank\" href=\"http://iccluster044.iccluster.epfl.ch:8088/proxy/application_1589299642358_3236/\">Link</a></td><td><a target=\"_blank\" href=\"http://iccluster068.iccluster.epfl.ch:8042/node/containerlogs/container_e06_1589299642358_3236_01_000001/ebouille\">Link</a></td><td></td></tr><tr><td>8712</td><td>application_1589299642358_3237</td><td>pyspark</td><td>idle</td><td><a target=\"_blank\" href=\"http://iccluster044.iccluster.epfl.ch:8088/proxy/application_1589299642358_3237/\">Link</a></td><td><a target=\"_blank\" href=\"http://iccluster066.iccluster.epfl.ch:8042/node/containerlogs/container_e06_1589299642358_3237_01_000001/ebouille\">Link</a></td><td></td></tr><tr><td>8714</td><td>application_1589299642358_3239</td><td>pyspark</td><td>idle</td><td><a target=\"_blank\" href=\"http://iccluster044.iccluster.epfl.ch:8088/proxy/application_1589299642358_3239/\">Link</a></td><td><a target=\"_blank\" href=\"http://iccluster069.iccluster.epfl.ch:8042/node/containerlogs/container_e06_1589299642358_3239_01_000001/ebouille\">Link</a></td><td></td></tr><tr><td>8715</td><td>application_1589299642358_3240</td><td>pyspark</td><td>busy</td><td><a target=\"_blank\" href=\"http://iccluster044.iccluster.epfl.ch:8088/proxy/application_1589299642358_3240/\">Link</a></td><td><a target=\"_blank\" href=\"http://iccluster071.iccluster.epfl.ch:8042/node/containerlogs/container_e06_1589299642358_3240_01_000001/ebouille\">Link</a></td><td></td></tr><tr><td>8716</td><td>application_1589299642358_3241</td><td>pyspark</td><td>idle</td><td><a target=\"_blank\" href=\"http://iccluster044.iccluster.epfl.ch:8088/proxy/application_1589299642358_3241/\">Link</a></td><td><a target=\"_blank\" href=\"http://iccluster072.iccluster.epfl.ch:8042/node/containerlogs/container_e06_1589299642358_3241_01_000001/ebouille\">Link</a></td><td></td></tr><tr><td>8717</td><td>application_1589299642358_3242</td><td>pyspark</td><td>idle</td><td><a target=\"_blank\" href=\"http://iccluster044.iccluster.epfl.ch:8088/proxy/application_1589299642358_3242/\">Link</a></td><td><a target=\"_blank\" href=\"http://iccluster069.iccluster.epfl.ch:8042/node/containerlogs/container_e06_1589299642358_3242_01_000001/ebouille\">Link</a></td><td></td></tr><tr><td>8718</td><td>application_1589299642358_3243</td><td>pyspark</td><td>dead</td><td><a target=\"_blank\" href=\"http://iccluster044.iccluster.epfl.ch:8088/proxy/application_1589299642358_3243/\">Link</a></td><td><a target=\"_blank\" href=\"http://iccluster054.iccluster.epfl.ch:8188/applicationhistory/logs/iccluster066.iccluster.epfl.ch:45454/container_e06_1589299642358_3243_01_000001/container_e06_1589299642358_3243_01_000001/ebouille\">Link</a></td><td></td></tr><tr><td>8719</td><td>application_1589299642358_3244</td><td>pyspark</td><td>idle</td><td><a target=\"_blank\" href=\"http://iccluster044.iccluster.epfl.ch:8088/proxy/application_1589299642358_3244/\">Link</a></td><td><a target=\"_blank\" href=\"http://iccluster070.iccluster.epfl.ch:8042/node/containerlogs/container_e06_1589299642358_3244_01_000001/ebouille\">Link</a></td><td></td></tr><tr><td>8720</td><td>application_1589299642358_3245</td><td>pyspark</td><td>idle</td><td><a target=\"_blank\" href=\"http://iccluster044.iccluster.epfl.ch:8088/proxy/application_1589299642358_3245/\">Link</a></td><td><a target=\"_blank\" href=\"http://iccluster065.iccluster.epfl.ch:8042/node/containerlogs/container_e06_1589299642358_3245_01_000001/ebouille\">Link</a></td><td></td></tr><tr><td>8721</td><td>application_1589299642358_3246</td><td>pyspark</td><td>busy</td><td><a target=\"_blank\" href=\"http://iccluster044.iccluster.epfl.ch:8088/proxy/application_1589299642358_3246/\">Link</a></td><td><a target=\"_blank\" href=\"http://iccluster072.iccluster.epfl.ch:8042/node/containerlogs/container_e06_1589299642358_3246_01_000001/ebouille\">Link</a></td><td></td></tr><tr><td>8722</td><td>application_1589299642358_3247</td><td>pyspark</td><td>idle</td><td><a target=\"_blank\" href=\"http://iccluster044.iccluster.epfl.ch:8088/proxy/application_1589299642358_3247/\">Link</a></td><td><a target=\"_blank\" href=\"http://iccluster068.iccluster.epfl.ch:8042/node/containerlogs/container_e06_1589299642358_3247_01_000001/ebouille\">Link</a></td><td></td></tr><tr><td>8723</td><td>application_1589299642358_3248</td><td>pyspark</td><td>idle</td><td><a target=\"_blank\" href=\"http://iccluster044.iccluster.epfl.ch:8088/proxy/application_1589299642358_3248/\">Link</a></td><td><a target=\"_blank\" href=\"http://iccluster068.iccluster.epfl.ch:8042/node/containerlogs/container_e06_1589299642358_3248_01_000001/ebouille\">Link</a></td><td></td></tr><tr><td>8724</td><td>application_1589299642358_3249</td><td>pyspark</td><td>idle</td><td><a target=\"_blank\" href=\"http://iccluster044.iccluster.epfl.ch:8088/proxy/application_1589299642358_3249/\">Link</a></td><td><a target=\"_blank\" href=\"http://iccluster068.iccluster.epfl.ch:8042/node/containerlogs/container_e06_1589299642358_3249_01_000001/ebouille\">Link</a></td><td></td></tr><tr><td>8725</td><td>application_1589299642358_3250</td><td>pyspark</td><td>busy</td><td><a target=\"_blank\" href=\"http://iccluster044.iccluster.epfl.ch:8088/proxy/application_1589299642358_3250/\">Link</a></td><td><a target=\"_blank\" href=\"http://iccluster065.iccluster.epfl.ch:8042/node/containerlogs/container_e06_1589299642358_3250_01_000001/ebouille\">Link</a></td><td></td></tr><tr><td>8727</td><td>application_1589299642358_3252</td><td>pyspark</td><td>idle</td><td><a target=\"_blank\" href=\"http://iccluster044.iccluster.epfl.ch:8088/proxy/application_1589299642358_3252/\">Link</a></td><td><a target=\"_blank\" href=\"http://iccluster071.iccluster.epfl.ch:8042/node/containerlogs/container_e06_1589299642358_3252_01_000001/ebouille\">Link</a></td><td></td></tr><tr><td>8728</td><td>application_1589299642358_3253</td><td>pyspark</td><td>idle</td><td><a target=\"_blank\" href=\"http://iccluster044.iccluster.epfl.ch:8088/proxy/application_1589299642358_3253/\">Link</a></td><td><a target=\"_blank\" href=\"http://iccluster065.iccluster.epfl.ch:8042/node/containerlogs/container_e06_1589299642358_3253_01_000001/ebouille\">Link</a></td><td></td></tr><tr><td>8729</td><td>application_1589299642358_3254</td><td>pyspark</td><td>idle</td><td><a target=\"_blank\" href=\"http://iccluster044.iccluster.epfl.ch:8088/proxy/application_1589299642358_3254/\">Link</a></td><td><a target=\"_blank\" href=\"http://iccluster066.iccluster.epfl.ch:8042/node/containerlogs/container_e06_1589299642358_3254_01_000001/ebouille\">Link</a></td><td></td></tr></table>"
      ],
      "text/plain": [
       "<IPython.core.display.HTML object>"
      ]
     },
     "metadata": {},
     "output_type": "display_data"
    }
   ],
   "source": [
    "%%configure\n",
    "{\"conf\": {\n",
    "    \"spark.app.name\": \"my-awesome-group_final\",\n",
    "    \"spark.driver.memory\": \"2g\"\n",
    "}}"
   ]
  },
  {
   "cell_type": "code",
   "execution_count": 2,
   "metadata": {},
   "outputs": [
    {
     "name": "stdout",
     "output_type": "stream",
     "text": [
      "Starting Spark application\n"
     ]
    },
    {
     "data": {
      "text/html": [
       "<table>\n",
       "<tr><th>ID</th><th>YARN Application ID</th><th>Kind</th><th>State</th><th>Spark UI</th><th>Driver log</th><th>Current session?</th></tr><tr><td>8730</td><td>application_1589299642358_3255</td><td>pyspark</td><td>idle</td><td><a target=\"_blank\" href=\"http://iccluster044.iccluster.epfl.ch:8088/proxy/application_1589299642358_3255/\">Link</a></td><td><a target=\"_blank\" href=\"http://iccluster071.iccluster.epfl.ch:8042/node/containerlogs/container_e06_1589299642358_3255_01_000001/ebouille\">Link</a></td><td>✔</td></tr></table>"
      ],
      "text/plain": [
       "<IPython.core.display.HTML object>"
      ]
     },
     "metadata": {},
     "output_type": "display_data"
    },
    {
     "data": {
      "application/vnd.jupyter.widget-view+json": {
       "model_id": "",
       "version_major": 2,
       "version_minor": 0
      },
      "text/plain": [
       "FloatProgress(value=0.0, bar_style='info', description='Progress:', layout=Layout(height='25px', width='50%'),…"
      ]
     },
     "metadata": {},
     "output_type": "display_data"
    },
    {
     "name": "stdout",
     "output_type": "stream",
     "text": [
      "SparkSession available as 'spark'.\n"
     ]
    },
    {
     "data": {
      "application/vnd.jupyter.widget-view+json": {
       "model_id": "",
       "version_major": 2,
       "version_minor": 0
      },
      "text/plain": [
       "FloatProgress(value=0.0, bar_style='info', description='Progress:', layout=Layout(height='25px', width='50%'),…"
      ]
     },
     "metadata": {},
     "output_type": "display_data"
    },
    {
     "name": "stdout",
     "output_type": "stream",
     "text": [
      "<pyspark.sql.session.SparkSession object at 0x7f58b33b4690>"
     ]
    }
   ],
   "source": [
    "# Initialization\n",
    "spark"
   ]
  },
  {
   "cell_type": "markdown",
   "metadata": {},
   "source": [
    "## Helper Functions"
   ]
  },
  {
   "cell_type": "code",
   "execution_count": 3,
   "metadata": {},
   "outputs": [
    {
     "data": {
      "application/vnd.jupyter.widget-view+json": {
       "model_id": "",
       "version_major": 2,
       "version_minor": 0
      },
      "text/plain": [
       "FloatProgress(value=0.0, bar_style='info', description='Progress:', layout=Layout(height='25px', width='50%'),…"
      ]
     },
     "metadata": {},
     "output_type": "display_data"
    }
   ],
   "source": [
    "import pandas as pd \n",
    "from math import sin, cos, sqrt, atan2, radians\n",
    "from geopy import distance as dist\n",
    "from pyspark.sql.functions import col\n",
    "from heapq import *\n",
    "import math"
   ]
  },
  {
   "cell_type": "code",
   "execution_count": 4,
   "metadata": {},
   "outputs": [
    {
     "data": {
      "application/vnd.jupyter.widget-view+json": {
       "model_id": "",
       "version_major": 2,
       "version_minor": 0
      },
      "text/plain": [
       "FloatProgress(value=0.0, bar_style='info', description='Progress:', layout=Layout(height='25px', width='50%'),…"
      ]
     },
     "metadata": {},
     "output_type": "display_data"
    }
   ],
   "source": [
    "def compute_seconds(time_string):\n",
    "    \"\"\"\n",
    "    Given time_string in the form of hh:mm:ss, computes total number of seconds\n",
    "    \"\"\"\n",
    "\n",
    "    split = time_string.split(':')\n",
    "    return int(split[0])*3600 + int(split[1])*60 + int(split[2])\n",
    "\n",
    "assert compute_seconds('02:00:01') == 7201\n",
    "\n",
    "def compute_string(seconds):\n",
    "    \"\"\"\n",
    "    Given seconds returns string corresponding to the time of the day\n",
    "    \"\"\"\n",
    "    hour = seconds // 3600\n",
    "    minute = (seconds - hour*3600) // 60\n",
    "    second = seconds % 60\n",
    "    return '%02d:%02d:%02d'%(hour, minute, second)\n",
    "\n",
    "assert compute_string(300) == '00:05:00' and compute_string(43503) == '12:05:03'\n",
    "\n",
    "def compute_duration_between(time_string1, time_string2):\n",
    "    \"\"\"\n",
    "    Computes how much time passed from time_string1 to time_string2\n",
    "    \"\"\"\n",
    "    return compute_seconds(time_string2) - compute_seconds(time_string1)\n",
    "\n",
    "assert compute_duration_between('08:00:00', '08:05:00') == 300"
   ]
  },
  {
   "cell_type": "code",
   "execution_count": 5,
   "metadata": {},
   "outputs": [
    {
     "data": {
      "application/vnd.jupyter.widget-view+json": {
       "model_id": "",
       "version_major": 2,
       "version_minor": 0
      },
      "text/plain": [
       "FloatProgress(value=0.0, bar_style='info', description='Progress:', layout=Layout(height='25px', width='50%'),…"
      ]
     },
     "metadata": {},
     "output_type": "display_data"
    }
   ],
   "source": [
    "# cell to communicate with hdfs\n",
    "import subprocess, pickle\n",
    "\n",
    "def run_cmd(args_list):\n",
    "    \"\"\"Run linux commands.\"\"\"\n",
    "    print('Running system command: {0}'.format(' '.join(args_list)))    \n",
    "    proc = subprocess.Popen(args_list,                            \n",
    "                            stdout=subprocess.PIPE,                            \n",
    "                            stderr=subprocess.PIPE)    \n",
    "    s_output, s_err = proc.communicate()    \n",
    "    s_return =  proc.returncode\n",
    "    return s_return, s_output, s_err\n",
    "\n",
    "\n",
    "def save_hdfs(localPath, hdfsPath):\n",
    "    \n",
    "    (ret, out, err)= run_cmd(['hdfs','dfs','-put','-f', localPath, hdfsPath])\n",
    "    if err:\n",
    "        print(err)\n",
    "    else:\n",
    "        print('Success')\n",
    "        \n",
    "def read_hdfs(hdfsPath):\n",
    "    \n",
    "    (ret, out, err)= run_cmd(['hdfs','dfs','-cat', hdfsPath])\n",
    "    if err:\n",
    "        print(err)\n",
    "    else:\n",
    "        print('Success')\n",
    "    return pickle.loads(out)"
   ]
  },
  {
   "cell_type": "code",
   "execution_count": 6,
   "metadata": {},
   "outputs": [
    {
     "data": {
      "application/vnd.jupyter.widget-view+json": {
       "model_id": "",
       "version_major": 2,
       "version_minor": 0
      },
      "text/plain": [
       "FloatProgress(value=0.0, bar_style='info', description='Progress:', layout=Layout(height='25px', width='50%'),…"
      ]
     },
     "metadata": {},
     "output_type": "display_data"
    }
   ],
   "source": [
    "class StationNode:\n",
    "    \"\"\"\n",
    "    Class for station node, that will keep a list of arrival/departures given by trips as well\n",
    "    as walking distances\n",
    "    \"\"\"\n",
    "    \n",
    "    def __init__(self, station_id):\n",
    "    \n",
    "        self.station_id = station_id\n",
    "        self.departures = dict()\n",
    "        self.arrivals = dict()  \n",
    "        self.walkable_stations = dict()\n",
    " \n",
    "    def add_walkable_station(self, stop_id, duration):\n",
    "        \"\"\"\n",
    "        Add walkable station and duration to get there\n",
    "        \"\"\"\n",
    "        if stop_id not in self.walkable_stations:\n",
    "            self.walkable_stations[stop_id] = duration\n",
    "\n",
    "    def add_arrival(self, time, arrival):\n",
    "        \"\"\"\n",
    "        Arrivals are in the form of\n",
    "        \"\"\"\n",
    "        if time not in self.arrivals:\n",
    "            self.arrivals[time] = []\n",
    "            \n",
    "        self.arrivals[time].append(arrival)\n",
    "        \n",
    "    def add_departure(self, time, departure):\n",
    "        \"\"\"\n",
    "        Departure are in the form of\n",
    "        \"\"\"\n",
    "        if time not in self.departures:\n",
    "            self.departures[time] = []\n",
    "            \n",
    "        self.departures[time].append(departure)\n",
    "        \n",
    "    def to_tuple(self):\n",
    "        \"\"\"\n",
    "        Convert class object to tuple\n",
    "        \"\"\"\n",
    "        return (self.station_id, self.departures, self.arrivals, self.walkable_stations)\n",
    "    \n",
    "    def from_tuple(self, class_tuple):\n",
    "        \"\"\"\n",
    "        Read class fields from tuple\n",
    "        \"\"\"\n",
    "        self.station_id = class_tuple[0]\n",
    "        self.departures = class_tuple[1]\n",
    "        self.arrivals = class_tuple[2]\n",
    "        self.walkable_stations = class_tuple[3]\n",
    "        \n",
    "        return self\n",
    "        \n",
    "def dictnodes_tolist(station_nodes):\n",
    "    \"\"\"\n",
    "    Convert dictionary of StationNodes to list of node tuples\n",
    "    \"\"\"\n",
    "    tolist = []\n",
    "    for stop_id in station_nodes:\n",
    "        try:\n",
    "            tolist.append(station_nodes[stop_id].to_tuple())\n",
    "        except:\n",
    "            raise Exception(stop_id)\n",
    "        \n",
    "    return tolist\n",
    "        \n",
    "def list_todictnodes(fromlist):\n",
    "    \"\"\"\n",
    "    Convert list of node tuples into dictionary of StationNodes\n",
    "    \"\"\"\n",
    "    todict = dict()\n",
    "    for node_tuple in fromlist:\n",
    "        todict[node_tuple[0]] = StationNode(node_tuple[0]).from_tuple(node_tuple)\n",
    "        \n",
    "    return todict"
   ]
  },
  {
   "cell_type": "markdown",
   "metadata": {},
   "source": [
    "## Parameters/ Variables"
   ]
  },
  {
   "cell_type": "code",
   "execution_count": 7,
   "metadata": {},
   "outputs": [
    {
     "data": {
      "application/vnd.jupyter.widget-view+json": {
       "model_id": "",
       "version_major": 2,
       "version_minor": 0
      },
      "text/plain": [
       "FloatProgress(value=0.0, bar_style='info', description='Progress:', layout=Layout(height='25px', width='50%'),…"
      ]
     },
     "metadata": {},
     "output_type": "display_data"
    },
    {
     "name": "stdout",
     "output_type": "stream",
     "text": [
      "Running system command: hdfs dfs -cat /user/lortkipa/graph_untested_classTuples.pkl\n",
      "Success"
     ]
    }
   ],
   "source": [
    "G = read_hdfs('/user/lortkipa/graph_untested_classTuples.pkl')\n",
    "G = list_todictnodes(G)"
   ]
  },
  {
   "cell_type": "code",
   "execution_count": 8,
   "metadata": {},
   "outputs": [
    {
     "data": {
      "application/vnd.jupyter.widget-view+json": {
       "model_id": "",
       "version_major": 2,
       "version_minor": 0
      },
      "text/plain": [
       "FloatProgress(value=0.0, bar_style='info', description='Progress:', layout=Layout(height='25px', width='50%'),…"
      ]
     },
     "metadata": {},
     "output_type": "display_data"
    },
    {
     "name": "stdout",
     "output_type": "stream",
     "text": [
      "Running system command: hdfs dfs -cat /user/lortkipa/filtered_stops_Premoved.pkl\n",
      "Success"
     ]
    }
   ],
   "source": [
    "# stops and their names\n",
    "stops = read_hdfs('/user/lortkipa/filtered_stops_Premoved.pkl')\n",
    "stops = stops.set_index('stop_id')"
   ]
  },
  {
   "cell_type": "code",
   "execution_count": 9,
   "metadata": {},
   "outputs": [
    {
     "data": {
      "application/vnd.jupyter.widget-view+json": {
       "model_id": "",
       "version_major": 2,
       "version_minor": 0
      },
      "text/plain": [
       "FloatProgress(value=0.0, bar_style='info', description='Progress:', layout=Layout(height='25px', width='50%'),…"
      ]
     },
     "metadata": {},
     "output_type": "display_data"
    }
   ],
   "source": [
    "# starting stop\n",
    "#start_stop = u'8503000'\n",
    "start_stop = '8591060'\n",
    "# ending stop\n",
    "#end_stop = u'8591049'\n",
    "end_stop = u'8503376'\n",
    "#end_stop = '8591060'\n",
    "# arrival_time\n",
    "T = compute_seconds('12:30:00')\n",
    "#T = compute_seconds('10:00:00')\n",
    "\n",
    "# number of shortest paths to discover\n",
    "K = 5\n",
    "\n",
    "\n",
    "# disctionary for number of shortest paths found from each node\n",
    "count_u = dict()\n",
    "\n",
    "# SBB network used for the algorithm\n",
    "sbb_network = G\n",
    "\n",
    "# all possible nodes/stations\n",
    "all_stops = G.keys()"
   ]
  },
  {
   "cell_type": "markdown",
   "metadata": {},
   "source": [
    "## K-Shortest"
   ]
  },
  {
   "cell_type": "code",
   "execution_count": 10,
   "metadata": {},
   "outputs": [
    {
     "data": {
      "application/vnd.jupyter.widget-view+json": {
       "model_id": "",
       "version_major": 2,
       "version_minor": 0
      },
      "text/plain": [
       "FloatProgress(value=0.0, bar_style='info', description='Progress:', layout=Layout(height='25px', width='50%'),…"
      ]
     },
     "metadata": {},
     "output_type": "display_data"
    }
   ],
   "source": [
    "from copy import deepcopy\n",
    "\n",
    "\n",
    "def k_shortest(threshold=None, Pierre=None, Pierre2=None, remove_same=True):\n",
    "    \"\"\"\n",
    "    Implementation of k shortest path given the threshold if threshold is not None\n",
    "    K path starts from destinations and finds path to source backwards\n",
    "    \n",
    "    Pierre return probability of transfer given start_station, end_station, departure_time, arrival_time(latest)\n",
    "    \"\"\"\n",
    "    # set of shortest paths from s to t\n",
    "    P = []\n",
    "\n",
    "    # containing path, maintaining heap data structure\n",
    "    h_paths = [] \n",
    "\n",
    "    # initialize number of shortes path found to each node to 0\n",
    "    for node in all_stops:\n",
    "        count_u[node] = 0\n",
    "        \n",
    "    # min cost of the path\n",
    "    min_cost = []\n",
    "\n",
    "    # insert path from last stop with cost 0   \n",
    "    # we have ( cost_of_path(time it lasts), \n",
    "    #  [(station, time_at_station_seconds, route/walk/terminus, duration, probability_of_success) ..])\n",
    "    heappush(h_paths, (0, [(end_stop, T, 'Terminus', '00:00:00', 1)]))\n",
    "\n",
    "    # while we have possible paths and found shortest paths from start+stop aren't already K\n",
    "    while h_paths and count_u[start_stop] < K:\n",
    "\n",
    "        C, shortes_path_T = heappop(h_paths)\n",
    "\n",
    "        # read the first node and its corresponding time on shortest path\n",
    "        first_node_on_path = shortes_path_T[-1][0]\n",
    "        first_node_time = shortes_path_T[-1][1]\n",
    "        trip = shortes_path_T[-1][2]\n",
    "        succ_prob = shortes_path_T[-1][4]\n",
    "        #print('stop', first_node_on_path,'time', first_node_time, start_stop)\n",
    "\n",
    "        # update number of paths\n",
    "        count_u[first_node_on_path] += 1\n",
    "\n",
    "        if first_node_on_path == start_stop:\n",
    "            if C in min_cost and remove_same:\n",
    "                count_u[first_node_on_path] -= 1\n",
    "                continue\n",
    "            min_cost.append(C)\n",
    "            P.append((C, shortes_path_T))\n",
    "\n",
    "        if count_u[first_node_on_path] <= K:\n",
    "\n",
    "            # return Node of the first stop on the path\n",
    "            u_node = sbb_network[first_node_on_path]\n",
    "\n",
    "            # iterate over stations that can reach the first stop on the path by transport\n",
    "            for time_edge in u_node.arrivals:\n",
    "                \n",
    "                # get the time these stations arrive at the first stop of our path\n",
    "                arrival_time = compute_seconds(time_edge)\n",
    "                \n",
    "                \n",
    "                # traverse all the incoming stations for time_edge time\n",
    "                for station_edge in u_node.arrivals[time_edge]:\n",
    "                    \n",
    "                    \n",
    "                    # transfer time to the new trip (possible platform) of the same station, 0 if the same trip\n",
    "                    transfer_time = 2 * 60 if station_edge[2] != trip and trip != 'Terminus' else 0\n",
    "                    \n",
    "                    # check if one can make with this station_edge\n",
    "                    if  arrival_time > first_node_time - transfer_time:\n",
    "                        continue\n",
    "                        \n",
    "                    updated_probe=1\n",
    "                    # check that probability of making will still be above the threshold\n",
    "                    if threshold is not None and station_edge[2] != trip:\n",
    "\n",
    "                        \n",
    "                        if trip == 'terminus':\n",
    "                            # prev_stop_id, prev_stop_tripid, arrival_time, final_stop, final_arrival_time\n",
    "                            n_proba = Pierre2(end_stop, \n",
    "                                              station_edge[2], \n",
    "                                              time_edge, \n",
    "                                              end_stop, \n",
    "                                              compute_string(T))\n",
    "                        elif trip != 'walk':\n",
    "                            # prev_stop_id, prev_stop_tripid, arrival_time, depart_stop, dep_trip, departure_time\n",
    "                            n_proba = Pierre(first_node_on_path, \n",
    "                                             station_edge[2], \n",
    "                                             time_edge, \n",
    "                                             first_node_on_path,\n",
    "                                             trip,\n",
    "                                             compute_string(first_node_time))\n",
    "                        else:\n",
    "                            n_proba = Pierre(first_node_on_path, \n",
    "                                             station_edge[2], \n",
    "                                             time_edge, \n",
    "                                             shortes_path_T[-2][0],\n",
    "                                             shortes_path_T[-2][2],\n",
    "                                             compute_string(shortes_path_T[-2][1]))\n",
    "                            \n",
    "                        \n",
    "                        # compute cumulated probability of success\n",
    "                        if succ_prob * n_proba < threshold:\n",
    "                            continue\n",
    "                        \n",
    "                        updated_probe = succ_prob * n_proba\n",
    "                        \n",
    "                    departure_time = compute_seconds(station_edge[1])\n",
    "\n",
    "                    new_path = deepcopy(shortes_path_T)\n",
    "                    new_path.append((station_edge[0], departure_time, station_edge[2], \n",
    "                                     compute_string(arrival_time-departure_time), updated_probe))\n",
    "\n",
    "                    # insert new nodes into the heap\n",
    "                    heappush(h_paths, \n",
    "                             (C + first_node_time - departure_time, \n",
    "                             new_path))  \n",
    "\n",
    "            # iterate over walkable station, assume 2 mn delay for connection         \n",
    "            for station_id in u_node.walkable_stations:\n",
    "                # if it is not the same station and previous wasnt also walk\n",
    "                if station_id != first_node_on_path and trip != 'walk':\n",
    "\n",
    "                    new_path = deepcopy(shortes_path_T)\n",
    "                    new_path.append((station_id, first_node_time - u_node.walkable_stations[station_id] - 2*60, \n",
    "                                     'walk', compute_string(u_node.walkable_stations[station_id]),succ_prob))\n",
    "\n",
    "                    # insert new nodes into the heap\n",
    "                    heappush(h_paths, \n",
    "                             (C + u_node.walkable_stations[station_id] + 2*60, \n",
    "                             new_path))  \n",
    "    return P\n",
    "                \n",
    "answ = k_shortest(remove_same=False)\n",
    "\n",
    "#8591049, 8591128, 8591830, 8590626"
   ]
  },
  {
   "cell_type": "code",
   "execution_count": 11,
   "metadata": {},
   "outputs": [
    {
     "data": {
      "application/vnd.jupyter.widget-view+json": {
       "model_id": "",
       "version_major": 2,
       "version_minor": 0
      },
      "text/plain": [
       "FloatProgress(value=0.0, bar_style='info', description='Progress:', layout=Layout(height='25px', width='50%'),…"
      ]
     },
     "metadata": {},
     "output_type": "display_data"
    }
   ],
   "source": [
    "# write just one value if the path is same:\n",
    "def combine_same_trips(path):\n",
    "    renewed_path = []\n",
    "    for connection in path:\n",
    "        #print(connection)\n",
    "        if (len(renewed_path) > 0) and (renewed_path[-1][2] == connection[2]):\n",
    "            renewed_path[-1] = (renewed_path[-1][0],\n",
    "                                renewed_path[-1][1],\n",
    "                                renewed_path[-1][2],\n",
    "                                compute_string(compute_seconds(renewed_path[-1][3]) + compute_seconds(connection[3])))\n",
    "        else:\n",
    "            renewed_path.append(connection)\n",
    "    return renewed_path\n",
    "\n",
    "\n",
    "def print_answ(answ, is_print=True):\n",
    "    refined = []\n",
    "    for i,tp in enumerate(answ):\n",
    "        path = deepcopy(tp[1])\n",
    "        path.reverse()\n",
    "        path = [(p[0], compute_string(p[1]), p[2], p[3]) for p in path]\n",
    "        refined.append((tp[0]/60, combine_same_trips(path)))\n",
    "        if is_print:\n",
    "            print('%d)'%(i+1))\n",
    "            #print(tp[0]/60, path)\n",
    "            print(tp[0]/60, combine_same_trips(path))\n",
    "    return refined\n",
    "    \n",
    "#print_answ(answ)   \n",
    "############################################################\n",
    "## Format Explanation\n",
    "## (total_minutes, [(stop1, departure_time, trip_id, trip_duration), (stop2, departure_time, ...) ... ])\n",
    "############################################################"
   ]
  },
  {
   "cell_type": "code",
   "execution_count": 12,
   "metadata": {},
   "outputs": [
    {
     "data": {
      "application/vnd.jupyter.widget-view+json": {
       "model_id": "",
       "version_major": 2,
       "version_minor": 0
      },
      "text/plain": [
       "FloatProgress(value=0.0, bar_style='info', description='Progress:', layout=Layout(height='25px', width='50%'),…"
      ]
     },
     "metadata": {},
     "output_type": "display_data"
    }
   ],
   "source": [
    "def print_human_readable(routes):\n",
    "    outstring = u'\\n#################################################################\\n\\n'\n",
    "    for route in routes:\n",
    "        trip_time = math.ceil(route[0])\n",
    "        outstring += u'Trip Time: {}\\n'.format(trip_time)\n",
    "        outstring += u'-----------\\n'\n",
    "        outstring += u'|Directions|\\n'\n",
    "        outstring += u'------------\\n\\n'\n",
    "        outstring += u'---------------------------------------------------------------------------------------------------------------\\n'\n",
    "        outstring += u'|{:>40}|{:>24}|{:>12}|{:>30}|\\n'.format('Stop Name', 'Departure Time', 'Duration', 'Trip Name')\n",
    "        outstring += u'---------------------------------------------------------------------------------------------------------------\\n'\n",
    "        for item in route[1]:\n",
    "            outstring += u'|{:>40}|{:>24}|{:>12}|{:>30}|\\n'.format(stops.loc[item[0]][u'stop_name'], item[1], item[3], item[2])\n",
    "        outstring += u'---------------------------------------------------------------------------------------------------------------\\n'\n",
    "        outstring +=u'\\n#################################################################\\n'\n",
    "        \n",
    "    print(outstring)"
   ]
  },
  {
   "cell_type": "markdown",
   "metadata": {},
   "source": [
    "## Evaluation"
   ]
  },
  {
   "cell_type": "markdown",
   "metadata": {},
   "source": [
    "## Test I\n",
    "\n",
    "These ground truth examples for testing were given by the TA. All tests in this section are run with k shortest not using the probability treshold!\n",
    "\n",
    "\n",
    "start =  Zürich HB (8503000) to Zürich\n",
    "\n",
    "end = Auzelg (8591049)\n",
    "\n",
    "arrival = '12:30:00'\n",
    "\n",
    "Possible Solutions:\n",
    "\n",
    "<b>Route 1:</b>\n",
    "\n",
    "20.TA.26-9-A-j19-1.2.H: 8503000:0:41/42 at 12:07:00 ~ 8503310:0:3 at 12:17:00\n",
    "\n",
    "Walking: 8503310:0:3 ~ 8590620\n",
    "\n",
    "168.TA.26-12-A-j19-1.2.H: 8590620 at 12:23:00 ~ 8591049 at 12:29:00\n",
    "\n",
    "\n",
    "<b>Route 2:</b>\n",
    "\n",
    "32.TA.80-159-Y-j19-1.8.H: 8503000:0:5 at 12:05:00 ~ 8503006:0:6 at 12:11:00\n",
    "\n",
    "Walking: 8503006:0:6 ~ 8580449\n",
    "\n",
    "1914.TA.26-11-A-j19-1.27.R: 8580449 at 12:15:00 ~ 8591049 at 12:24:00"
   ]
  },
  {
   "cell_type": "code",
   "execution_count": 13,
   "metadata": {},
   "outputs": [
    {
     "data": {
      "application/vnd.jupyter.widget-view+json": {
       "model_id": "",
       "version_major": 2,
       "version_minor": 0
      },
      "text/plain": [
       "FloatProgress(value=0.0, bar_style='info', description='Progress:', layout=Layout(height='25px', width='50%'),…"
      ]
     },
     "metadata": {},
     "output_type": "display_data"
    },
    {
     "name": "stdout",
     "output_type": "stream",
     "text": [
      "\n",
      "#################################################################\n",
      "\n",
      "Trip Time: 23.0\n",
      "-----------\n",
      "|Directions|\n",
      "------------\n",
      "\n",
      "---------------------------------------------------------------------------------------------------------------\n",
      "|                               Stop Name|          Departure Time|    Duration|                     Trip Name|\n",
      "---------------------------------------------------------------------------------------------------------------\n",
      "|                               Zürich HB|                12:07:00|    00:09:00|        20.TA.26-9-A-j19-1.2.H|\n",
      "|                              Glattbrugg|                12:19:50|    00:01:09|                          walk|\n",
      "|                     Glattbrugg, Bahnhof|                12:23:00|    00:06:00|      168.TA.26-12-A-j19-1.2.H|\n",
      "|                          Zürich, Auzelg|                12:30:00|    00:00:00|                      Terminus|\n",
      "---------------------------------------------------------------------------------------------------------------\n",
      "\n",
      "#################################################################\n",
      "Trip Time: 25.0\n",
      "-----------\n",
      "|Directions|\n",
      "------------\n",
      "\n",
      "---------------------------------------------------------------------------------------------------------------\n",
      "|                               Stop Name|          Departure Time|    Duration|                     Trip Name|\n",
      "---------------------------------------------------------------------------------------------------------------\n",
      "|                               Zürich HB|                12:05:00|    00:06:00|      32.TA.80-159-Y-j19-1.8.H|\n",
      "|                         Zürich Oerlikon|                12:15:00|    00:02:00|        20.TA.26-9-A-j19-1.2.H|\n",
      "|                              Glattbrugg|                12:19:50|    00:01:09|                          walk|\n",
      "|                     Glattbrugg, Bahnhof|                12:23:00|    00:06:00|      168.TA.26-12-A-j19-1.2.H|\n",
      "|                          Zürich, Auzelg|                12:30:00|    00:00:00|                      Terminus|\n",
      "---------------------------------------------------------------------------------------------------------------\n",
      "\n",
      "#################################################################"
     ]
    }
   ],
   "source": [
    "start_stop = u'8503000'\n",
    "end_stop = u'8591049'\n",
    "T = compute_seconds('12:30:00')\n",
    "K = 2\n",
    "\n",
    "# disctionary for number of shortest paths found from each node\n",
    "count_u = dict()\n",
    "\n",
    "# SBB network used for the algorithm\n",
    "sbb_network = G\n",
    "\n",
    "# all possible nodes/stations\n",
    "all_stops = G.keys()\n",
    "\n",
    "answ = k_shortest(remove_same=False)\n",
    "print_human_readable(print_answ(answ[0:2], False))   "
   ]
  },
  {
   "cell_type": "markdown",
   "metadata": {},
   "source": [
    "As you can see, result matches the ground truth test case."
   ]
  },
  {
   "cell_type": "markdown",
   "metadata": {},
   "source": [
    "## Test II\n",
    "\n",
    "Tests in this section are manually selected and using sbb online timetable varified that they seem reasonable. Again, tests in this notebook are done without probabilities.\n",
    "\n",
    "\n",
    "start =  Zürich, Witikon (8591438) to Zürich\n",
    "\n",
    "end = Sellenburen (8503696)\n",
    "\n",
    "arrival = '20:40:00'"
   ]
  },
  {
   "cell_type": "code",
   "execution_count": 14,
   "metadata": {},
   "outputs": [
    {
     "data": {
      "application/vnd.jupyter.widget-view+json": {
       "model_id": "",
       "version_major": 2,
       "version_minor": 0
      },
      "text/plain": [
       "FloatProgress(value=0.0, bar_style='info', description='Progress:', layout=Layout(height='25px', width='50%'),…"
      ]
     },
     "metadata": {},
     "output_type": "display_data"
    },
    {
     "name": "stdout",
     "output_type": "stream",
     "text": [
      "\n",
      "#################################################################\n",
      "\n",
      "Trip Time: 65.0\n",
      "-----------\n",
      "|Directions|\n",
      "------------\n",
      "\n",
      "---------------------------------------------------------------------------------------------------------------\n",
      "|                               Stop Name|          Departure Time|    Duration|                     Trip Name|\n",
      "---------------------------------------------------------------------------------------------------------------\n",
      "|                 Zürich, Witikon Zentrum|                19:35:12|    00:02:47|                          walk|\n",
      "|          Zürich, Carl-Spitteler-Strasse|                19:40:00|    00:04:00|       171.TA.26-701-j19-1.5.R|\n",
      "|                       Zürich, Klusplatz|                19:47:00|    00:02:00|      1284.TA.26-8-C-j19-1.8.R|\n",
      "|                        Zürich, Römerhof|                19:51:00|    00:08:00|      1484.TA.26-3-A-j19-1.8.R|\n",
      "|                 Zürich, Bahnhofplatz/HB|                20:02:15|    00:00:44|                          walk|\n",
      "|                           Zürich HB SZU|                20:05:00|    00:20:00|       93.TA.26-10-B-j19-1.4.H|\n",
      "|                               Uetliberg|                20:40:00|    00:00:00|                      Terminus|\n",
      "---------------------------------------------------------------------------------------------------------------\n",
      "\n",
      "#################################################################\n",
      "Trip Time: 65.0\n",
      "-----------\n",
      "|Directions|\n",
      "------------\n",
      "\n",
      "---------------------------------------------------------------------------------------------------------------\n",
      "|                               Stop Name|          Departure Time|    Duration|                     Trip Name|\n",
      "---------------------------------------------------------------------------------------------------------------\n",
      "|                 Zürich, Witikon Zentrum|                19:35:12|    00:02:47|                          walk|\n",
      "|          Zürich, Carl-Spitteler-Strasse|                19:40:00|    00:04:00|       171.TA.26-701-j19-1.5.R|\n",
      "|                       Zürich, Klusplatz|                19:48:00|    00:11:00|      1484.TA.26-3-A-j19-1.8.R|\n",
      "|                 Zürich, Bahnhofplatz/HB|                20:02:15|    00:00:44|                          walk|\n",
      "|                           Zürich HB SZU|                20:05:00|    00:20:00|       93.TA.26-10-B-j19-1.4.H|\n",
      "|                               Uetliberg|                20:40:00|    00:00:00|                      Terminus|\n",
      "---------------------------------------------------------------------------------------------------------------\n",
      "\n",
      "#################################################################"
     ]
    }
   ],
   "source": [
    "start_stop = u'8591438'\n",
    "end_stop = u'8503057'\n",
    "T = compute_seconds('20:40:00')\n",
    "K = 2\n",
    "\n",
    "# disctionary for number of shortest paths found from each node\n",
    "count_u = dict()\n",
    "\n",
    "# SBB network used for the algorithm\n",
    "sbb_network = G\n",
    "\n",
    "# all possible nodes/stations\n",
    "all_stops = G.keys()\n",
    "\n",
    "answ = k_shortest(remove_same=False)\n",
    "print_human_readable(print_answ(answ[0:2], False))"
   ]
  },
  {
   "cell_type": "markdown",
   "metadata": {},
   "source": [
    "Test 2"
   ]
  },
  {
   "cell_type": "code",
   "execution_count": 15,
   "metadata": {},
   "outputs": [
    {
     "data": {
      "application/vnd.jupyter.widget-view+json": {
       "model_id": "",
       "version_major": 2,
       "version_minor": 0
      },
      "text/plain": [
       "FloatProgress(value=0.0, bar_style='info', description='Progress:', layout=Layout(height='25px', width='50%'),…"
      ]
     },
     "metadata": {},
     "output_type": "display_data"
    },
    {
     "name": "stdout",
     "output_type": "stream",
     "text": [
      "\n",
      "#################################################################\n",
      "\n",
      "Trip Time: 41.0\n",
      "-----------\n",
      "|Directions|\n",
      "------------\n",
      "\n",
      "---------------------------------------------------------------------------------------------------------------\n",
      "|                               Stop Name|          Departure Time|    Duration|                     Trip Name|\n",
      "---------------------------------------------------------------------------------------------------------------\n",
      "|                 Zürich, Witikon Zentrum|                07:35:12|    00:02:47|                          walk|\n",
      "|          Zürich, Carl-Spitteler-Strasse|                07:40:00|    00:05:00|        59.TA.26-701-j19-1.3.R|\n",
      "|                       Zürich, Klusplatz|                07:47:00|    00:07:00|      1366.TA.26-8-C-j19-1.8.R|\n",
      "|                   Zürich Stadelhofen FB|                07:57:00|    00:04:00|    2017.TA.26-11-A-j19-1.27.R|\n",
      "|                     Zürich, Bürkliplatz|                08:05:00|    00:05:00|        11.TA.26-161-j19-1.1.H|\n",
      "|           Zürich Wollishofen, Bhf (Bus)|                08:16:00|    00:00:00|                      Terminus|\n",
      "---------------------------------------------------------------------------------------------------------------\n",
      "\n",
      "#################################################################\n",
      "Trip Time: 41.0\n",
      "-----------\n",
      "|Directions|\n",
      "------------\n",
      "\n",
      "---------------------------------------------------------------------------------------------------------------\n",
      "|                               Stop Name|          Departure Time|    Duration|                     Trip Name|\n",
      "---------------------------------------------------------------------------------------------------------------\n",
      "|                 Zürich, Witikon Zentrum|                07:35:12|    00:02:47|                          walk|\n",
      "|          Zürich, Carl-Spitteler-Strasse|                07:40:00|    00:05:00|        59.TA.26-701-j19-1.3.R|\n",
      "|                       Zürich, Klusplatz|                07:48:00|    00:03:00|      1007.TA.26-33E-j19-1.9.R|\n",
      "|                    Zürich Hegibachplatz|                07:53:00|    00:08:00|    2017.TA.26-11-A-j19-1.27.R|\n",
      "|                     Zürich, Bürkliplatz|                08:05:00|    00:05:00|        11.TA.26-161-j19-1.1.H|\n",
      "|           Zürich Wollishofen, Bhf (Bus)|                08:16:00|    00:00:00|                      Terminus|\n",
      "---------------------------------------------------------------------------------------------------------------\n",
      "\n",
      "#################################################################"
     ]
    }
   ],
   "source": [
    "start_stop = u'8591438'\n",
    "end_stop = u'8591080'\n",
    "T = compute_seconds('08:16:00')\n",
    "K = 2\n",
    "\n",
    "# disctionary for number of shortest paths found from each node\n",
    "count_u = dict()\n",
    "\n",
    "# SBB network used for the algorithm\n",
    "sbb_network = G\n",
    "\n",
    "# all possible nodes/stations\n",
    "all_stops = G.keys()\n",
    "\n",
    "answ = k_shortest(remove_same=False)\n",
    "print_human_readable(print_answ(answ[0:2], False))"
   ]
  },
  {
   "cell_type": "markdown",
   "metadata": {},
   "source": [
    "Test 3"
   ]
  },
  {
   "cell_type": "code",
   "execution_count": 16,
   "metadata": {},
   "outputs": [
    {
     "data": {
      "application/vnd.jupyter.widget-view+json": {
       "model_id": "",
       "version_major": 2,
       "version_minor": 0
      },
      "text/plain": [
       "FloatProgress(value=0.0, bar_style='info', description='Progress:', layout=Layout(height='25px', width='50%'),…"
      ]
     },
     "metadata": {},
     "output_type": "display_data"
    },
    {
     "name": "stdout",
     "output_type": "stream",
     "text": [
      "\n",
      "#################################################################\n",
      "\n",
      "Trip Time: 28.0\n",
      "-----------\n",
      "|Directions|\n",
      "------------\n",
      "\n",
      "---------------------------------------------------------------------------------------------------------------\n",
      "|                               Stop Name|          Departure Time|    Duration|                     Trip Name|\n",
      "---------------------------------------------------------------------------------------------------------------\n",
      "|                    Zürich, Manesseplatz|                10:17:20|    00:06:39|                          walk|\n",
      "|                       Zürich Giesshübel|                10:26:00|    00:05:00|        17.TA.26-4-B-j19-1.1.R|\n",
      "|                           Zürich HB SZU|                10:33:15|    00:00:44|                          walk|\n",
      "|                 Zürich, Bahnhofplatz/HB|                10:36:00|    00:07:00|      1554.TA.26-10-j19-1.11.R|\n",
      "|                      Zürich, Haldenbach|                10:45:00|    00:00:00|                      Terminus|\n",
      "---------------------------------------------------------------------------------------------------------------\n",
      "\n",
      "#################################################################\n",
      "Trip Time: 29.0\n",
      "-----------\n",
      "|Directions|\n",
      "------------\n",
      "\n",
      "---------------------------------------------------------------------------------------------------------------\n",
      "|                               Stop Name|          Departure Time|    Duration|                     Trip Name|\n",
      "---------------------------------------------------------------------------------------------------------------\n",
      "|                    Zürich, Manesseplatz|                10:16:00|    00:02:00|        550.TA.26-72-j19-1.3.H|\n",
      "|                   Zürich, Sihlcity Nord|                10:22:00|    00:08:00|     1143.TA.26-5-B-j19-1.23.R|\n",
      "|                     Zürich, Bürkliplatz|                10:32:00|    00:09:00|       276.TA.26-9-B-j19-1.1.R|\n",
      "|                      Zürich, Haldenbach|                10:45:00|    00:00:00|                      Terminus|\n",
      "---------------------------------------------------------------------------------------------------------------\n",
      "\n",
      "#################################################################"
     ]
    }
   ],
   "source": [
    "start_stop = u'8591269'\n",
    "end_stop = u'8591173'\n",
    "T = compute_seconds('10:45:00')\n",
    "K = 2\n",
    "\n",
    "# disctionary for number of shortest paths found from each node\n",
    "count_u = dict()\n",
    "\n",
    "# SBB network used for the algorithm\n",
    "sbb_network = G\n",
    "\n",
    "# all possible nodes/stations\n",
    "all_stops = G.keys()\n",
    "\n",
    "answ = k_shortest(remove_same=False)\n",
    "print_human_readable(print_answ(answ[0:2], False))"
   ]
  },
  {
   "cell_type": "code",
   "execution_count": null,
   "metadata": {},
   "outputs": [],
   "source": []
  }
 ],
 "metadata": {
  "kernelspec": {
   "display_name": "PySpark",
   "language": "",
   "name": "pysparkkernel"
  },
  "language_info": {
   "codemirror_mode": {
    "name": "python",
    "version": 3
   },
   "mimetype": "text/x-python",
   "name": "pyspark",
   "pygments_lexer": "python3"
  }
 },
 "nbformat": 4,
 "nbformat_minor": 4
}
